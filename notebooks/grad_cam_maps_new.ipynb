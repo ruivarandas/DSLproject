{
 "cells": [
  {
   "cell_type": "markdown",
   "id": "marked-warner",
   "metadata": {},
   "source": [
    "# Creating and extracting information from grad cam maps\n",
    "* organizing code\n",
    "* removing multiclass case\n",
    "* extract quantitative information from the maps"
   ]
  },
  {
   "cell_type": "code",
   "execution_count": 37,
   "id": "stock-editing",
   "metadata": {
    "execution": {
     "iopub.execute_input": "2021-02-20T13:30:03.404184Z",
     "iopub.status.busy": "2021-02-20T13:30:03.403793Z",
     "iopub.status.idle": "2021-02-20T13:30:03.428533Z",
     "shell.execute_reply": "2021-02-20T13:30:03.428004Z",
     "shell.execute_reply.started": "2021-02-20T13:30:03.404139Z"
    },
    "tags": []
   },
   "outputs": [],
   "source": [
    "from prep_test_data import *\n",
    "from pathlib import Path\n",
    "import json\n",
    "import torch\n",
    "import torchray\n",
    "from matplotlib import pyplot as plt\n",
    "from torchray.attribution.common import Probe, get_module\n",
    "from torchray.attribution.grad_cam import gradient_to_grad_cam_saliency\n",
    "import shutil\n",
    "import numpy as np\n",
    "import cv2"
   ]
  },
  {
   "cell_type": "markdown",
   "id": "shaped-arthur",
   "metadata": {},
   "source": [
    "-------------------------------------------------------"
   ]
  },
  {
   "cell_type": "markdown",
   "id": "enclosed-northern",
   "metadata": {},
   "source": [
    "## Main methods above"
   ]
  },
  {
   "cell_type": "code",
   "execution_count": 38,
   "id": "surface-individual",
   "metadata": {
    "execution": {
     "iopub.execute_input": "2021-02-20T13:30:03.955617Z",
     "iopub.status.busy": "2021-02-20T13:30:03.955152Z",
     "iopub.status.idle": "2021-02-20T13:30:03.961105Z",
     "shell.execute_reply": "2021-02-20T13:30:03.960569Z",
     "shell.execute_reply.started": "2021-02-20T13:30:03.955561Z"
    },
    "tags": []
   },
   "outputs": [],
   "source": [
    "def create_maps_folders(main_folder, beat, labels, delete_prior):\n",
    "    if delete_prior and Path(main_folder).exists():\n",
    "        shutil.rmtree(main_folder)\n",
    "    for label in labels:\n",
    "        folder = Path(main_folder) / f\"label_{beat}_beat/\"\n",
    "        Path(folder / label).mkdir(parents=True, exist_ok=True)\n",
    "    return folder"
   ]
  },
  {
   "cell_type": "code",
   "execution_count": 39,
   "id": "awful-processor",
   "metadata": {
    "execution": {
     "iopub.execute_input": "2021-02-20T13:30:04.146687Z",
     "iopub.status.busy": "2021-02-20T13:30:04.146521Z",
     "iopub.status.idle": "2021-02-20T13:30:04.150321Z",
     "shell.execute_reply": "2021-02-20T13:30:04.149832Z",
     "shell.execute_reply.started": "2021-02-20T13:30:04.146668Z"
    },
    "tags": []
   },
   "outputs": [],
   "source": [
    "def deprocess(image):\n",
    "    transform = transforms.Compose([\n",
    "        transforms.Normalize(mean=[0, 0, 0], std=[4.3668, 4.4643, 4.4444]),\n",
    "        transforms.Normalize(mean=[-0.485, -0.456, -0.406], std=[1, 1, 1]),\n",
    "        transforms.ToPILImage(),\n",
    "    ])\n",
    "    return transform(image)\n",
    "\n",
    "def show_img(PIL_IMG):\n",
    "    plt.imshow(np.asarray(PIL_IMG))"
   ]
  },
  {
   "cell_type": "code",
   "execution_count": 40,
   "id": "broken-evanescence",
   "metadata": {
    "execution": {
     "iopub.execute_input": "2021-02-20T13:30:04.235104Z",
     "iopub.status.busy": "2021-02-20T13:30:04.234940Z",
     "iopub.status.idle": "2021-02-20T13:30:04.241629Z",
     "shell.execute_reply": "2021-02-20T13:30:04.241207Z",
     "shell.execute_reply.started": "2021-02-20T13:30:04.235085Z"
    },
    "tags": []
   },
   "outputs": [],
   "source": [
    "def grad_cam_maps(model, data, main_folder, n_batches=None):\n",
    "    classes = data[\"test\"].dataset.classes\n",
    "    i = 0\n",
    "    for inputs, labels in data['test']:\n",
    "        inputs = inputs.to(0)\n",
    "        labels = labels.to(0)\n",
    "        x = inputs\n",
    "        x.requires_grad_();\n",
    "        saliency_layer = get_module(model, model.layer4)\n",
    "        probe = Probe(saliency_layer, target='output')\n",
    "        y = model(x)\n",
    "        score_max_index = y.argmax(dim=1)\n",
    "        z = y[:, score_max_index]\n",
    "        z.backward(torch.ones_like(z))\n",
    "        saliency = gradient_to_grad_cam_saliency(probe.data[0])\n",
    "\n",
    "        for index in range(len(saliency)): \n",
    "            plt.figure()\n",
    "            heatmap = np.float32(saliency[index, 0].cpu().detach())\n",
    "            img = np.array(deprocess(x[index].cpu().detach()))\n",
    "\n",
    "            heatmap = cv2.resize(heatmap, (img.shape[1], img.shape[0]))\n",
    "            heatmap = np.uint8(255 * heatmap)\n",
    "\n",
    "            img1 = plt.imshow(heatmap, alpha=.7)\n",
    "            img2 = plt.imshow(img, alpha=.8)\n",
    "\n",
    "            plt.axis('off')\n",
    "            \n",
    "            label = classes[labels[index]]\n",
    "            \n",
    "            plt.savefig(str(main_folder / f\"{label}/{i}_{index}.png\"))\n",
    "            plt.close()\n",
    "        if n_batches:\n",
    "            if i + 1 == n_batches:\n",
    "                break\n",
    "        i += 1"
   ]
  },
  {
   "cell_type": "code",
   "execution_count": 41,
   "id": "premier-experience",
   "metadata": {
    "execution": {
     "iopub.execute_input": "2021-02-20T13:30:04.375976Z",
     "iopub.status.busy": "2021-02-20T13:30:04.375720Z",
     "iopub.status.idle": "2021-02-20T13:30:04.380746Z",
     "shell.execute_reply": "2021-02-20T13:30:04.380205Z",
     "shell.execute_reply.started": "2021-02-20T13:30:04.375942Z"
    },
    "tags": []
   },
   "outputs": [],
   "source": [
    "def create_grad_cam_maps_one_heartbeat(data_path, models_main_path, model_name, beat, saliency_maps_path, nr_egs):\n",
    "    data_prep = DataPreparation(str(data_path))\n",
    "    data, size = data_prep.create_dataloaders(16, False, 4)\n",
    "    model_path = models_main_path / f\"label_{beat}/{model_name}.pth\"\n",
    "    model = torch.load(model_path)\n",
    "    model.eval();\n",
    "    grad_cam_maps(model, data, saliency_maps_path, nr_egs)"
   ]
  },
  {
   "cell_type": "markdown",
   "id": "accredited-combining",
   "metadata": {},
   "source": [
    "----------------------------------------------------------------"
   ]
  },
  {
   "cell_type": "markdown",
   "id": "foreign-vegetation",
   "metadata": {},
   "source": [
    "## Configuration and run methods!"
   ]
  },
  {
   "cell_type": "code",
   "execution_count": 42,
   "id": "closing-university",
   "metadata": {
    "execution": {
     "iopub.execute_input": "2021-02-20T13:30:05.113222Z",
     "iopub.status.busy": "2021-02-20T13:30:05.112877Z",
     "iopub.status.idle": "2021-02-20T13:30:05.118663Z",
     "shell.execute_reply": "2021-02-20T13:30:05.117834Z",
     "shell.execute_reply.started": "2021-02-20T13:30:05.113181Z"
    },
    "tags": []
   },
   "outputs": [],
   "source": [
    "with open(\"../config.json\") as f:\n",
    "    config_data = json.load(f)\n",
    "    f.close()"
   ]
  },
  {
   "cell_type": "code",
   "execution_count": 43,
   "id": "structured-liberty",
   "metadata": {
    "execution": {
     "iopub.execute_input": "2021-02-20T13:30:05.278762Z",
     "iopub.status.busy": "2021-02-20T13:30:05.278610Z",
     "iopub.status.idle": "2021-02-20T13:30:05.281813Z",
     "shell.execute_reply": "2021-02-20T13:30:05.281255Z",
     "shell.execute_reply.started": "2021-02-20T13:30:05.278745Z"
    },
    "tags": []
   },
   "outputs": [],
   "source": [
    "HEARTBEAT = \"initial\"\n",
    "MAP_DIR = \"../attribution_maps/grad_cam_maps\"\n",
    "DELETE_PRIOR_DIR = True\n",
    "TEST_DATA_PATH = Path(f'../data/figures_{HEARTBEAT}/test')\n",
    "MODELS_PATH = Path(f\"../models\")\n",
    "MODEL_NAME = \"resnet50_d_19_t_16_46\"\n",
    "NR_BATCHES = 1"
   ]
  },
  {
   "cell_type": "code",
   "execution_count": 44,
   "id": "double-secretary",
   "metadata": {
    "execution": {
     "iopub.execute_input": "2021-02-20T13:30:05.542345Z",
     "iopub.status.busy": "2021-02-20T13:30:05.542009Z",
     "iopub.status.idle": "2021-02-20T13:30:07.220957Z",
     "shell.execute_reply": "2021-02-20T13:30:07.220496Z",
     "shell.execute_reply.started": "2021-02-20T13:30:05.542305Z"
    },
    "tags": []
   },
   "outputs": [],
   "source": [
    "gradcam_folder = create_maps_folders(MAP_DIR, HEARTBEAT, config_data['labels_bin'], DELETE_PRIOR_DIR)\n",
    "create_grad_cam_maps_one_heartbeat(TEST_DATA_PATH, MODELS_PATH, MODEL_NAME, HEARTBEAT, gradcam_folder, NR_BATCHES)"
   ]
  }
 ],
 "metadata": {
  "kernelspec": {
   "display_name": "Python 3",
   "language": "python",
   "name": "python3"
  },
  "language_info": {
   "codemirror_mode": {
    "name": "ipython",
    "version": 3
   },
   "file_extension": ".py",
   "mimetype": "text/x-python",
   "name": "python",
   "nbconvert_exporter": "python",
   "pygments_lexer": "ipython3",
   "version": "3.8.5"
  }
 },
 "nbformat": 4,
 "nbformat_minor": 5
}
