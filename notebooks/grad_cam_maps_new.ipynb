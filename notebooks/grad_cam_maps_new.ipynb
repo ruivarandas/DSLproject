{
 "cells": [
  {
   "cell_type": "markdown",
   "id": "american-asthma",
   "metadata": {},
   "source": [
    "# Creating and extracting information from grad cam maps\n",
    "* organizing code\n",
    "* removing multiclass case\n",
    "* extract quantitative information from the maps"
   ]
  },
  {
   "cell_type": "code",
   "execution_count": 1,
   "id": "adapted-government",
   "metadata": {
    "execution": {
     "iopub.execute_input": "2021-02-28T11:53:16.916358Z",
     "iopub.status.busy": "2021-02-28T11:53:16.916033Z",
     "iopub.status.idle": "2021-02-28T11:53:17.843174Z",
     "shell.execute_reply": "2021-02-28T11:53:17.842451Z",
     "shell.execute_reply.started": "2021-02-28T11:53:16.916275Z"
    },
    "tags": []
   },
   "outputs": [],
   "source": [
    "from prep_test_data import *\n",
    "from pathlib import Path\n",
    "import json\n",
    "import torch\n",
    "import torchray\n",
    "from matplotlib import pyplot as plt\n",
    "from torchray.attribution.common import Probe, get_module\n",
    "from torchray.attribution.grad_cam import gradient_to_grad_cam_saliency\n",
    "import shutil\n",
    "import numpy as np\n",
    "import cv2"
   ]
  },
  {
   "cell_type": "markdown",
   "id": "valuable-uniform",
   "metadata": {},
   "source": [
    "-------------------------------------------------------"
   ]
  },
  {
   "cell_type": "markdown",
   "id": "temporal-cartridge",
   "metadata": {},
   "source": [
    "## Main methods above"
   ]
  },
  {
   "cell_type": "code",
   "execution_count": 2,
   "id": "interpreted-parent",
   "metadata": {
    "execution": {
     "iopub.execute_input": "2021-02-28T11:53:17.844409Z",
     "iopub.status.busy": "2021-02-28T11:53:17.844174Z",
     "iopub.status.idle": "2021-02-28T11:53:17.849487Z",
     "shell.execute_reply": "2021-02-28T11:53:17.848800Z",
     "shell.execute_reply.started": "2021-02-28T11:53:17.844379Z"
    },
    "tags": []
   },
   "outputs": [],
   "source": [
    "def create_maps_folders(main_folder, beat, labels, delete_prior):\n",
    "    if delete_prior and Path(main_folder).exists():\n",
    "        shutil.rmtree(main_folder)\n",
    "    for label in labels:\n",
    "        folder = Path(main_folder) / f\"label_{beat}_beat/\"\n",
    "        Path(folder / label).mkdir(parents=True, exist_ok=True)\n",
    "    return folder"
   ]
  },
  {
   "cell_type": "code",
   "execution_count": 3,
   "id": "actual-aruba",
   "metadata": {
    "execution": {
     "iopub.execute_input": "2021-02-28T11:53:17.851127Z",
     "iopub.status.busy": "2021-02-28T11:53:17.850876Z",
     "iopub.status.idle": "2021-02-28T11:53:17.864946Z",
     "shell.execute_reply": "2021-02-28T11:53:17.864220Z",
     "shell.execute_reply.started": "2021-02-28T11:53:17.851098Z"
    },
    "tags": []
   },
   "outputs": [],
   "source": [
    "def deprocess(image):\n",
    "    transform = transforms.Compose([\n",
    "        transforms.Normalize(mean=[0, 0, 0], std=[4.3668, 4.4643, 4.4444]),\n",
    "        transforms.Normalize(mean=[-0.485, -0.456, -0.406], std=[1, 1, 1]),\n",
    "        transforms.ToPILImage(),\n",
    "    ])\n",
    "    return transform(image)\n",
    "\n",
    "def show_img(PIL_IMG):\n",
    "    plt.imshow(np.asarray(PIL_IMG))"
   ]
  },
  {
   "cell_type": "code",
   "execution_count": 11,
   "id": "satisfied-pulse",
   "metadata": {
    "execution": {
     "iopub.execute_input": "2021-02-28T12:27:44.988096Z",
     "iopub.status.busy": "2021-02-28T12:27:44.987918Z",
     "iopub.status.idle": "2021-02-28T12:27:44.993352Z",
     "shell.execute_reply": "2021-02-28T12:27:44.992861Z",
     "shell.execute_reply.started": "2021-02-28T12:27:44.988076Z"
    },
    "tags": []
   },
   "outputs": [],
   "source": [
    "def grad_cam_maps(model, data, main_folder, n_batches=None):\n",
    "    classes = data[\"test\"].dataset.classes\n",
    "    i = 0\n",
    "    for inputs, labels in data['test']:\n",
    "        inputs = inputs.to(0)\n",
    "        labels = labels.to(0)\n",
    "        x = inputs\n",
    "        x.requires_grad_();\n",
    "        saliency_layer = get_module(model, model.layer4)\n",
    "        probe = Probe(saliency_layer, target='output')\n",
    "        y = model(x)\n",
    "        score_max_index = y.argmax(dim=1)\n",
    "        z = y[:, score_max_index]\n",
    "        z.backward(torch.ones_like(z))\n",
    "        saliency = gradient_to_grad_cam_saliency(probe.data[0])\n",
    "\n",
    "        for index in range(len(saliency)): \n",
    "#             plt.figure()\n",
    "            heatmap = np.float32(saliency[index, 0].cpu().detach())\n",
    "            img = np.array(deprocess(x[index].cpu().detach()))\n",
    "            print(img.shape)\n",
    "#             heatmap = cv2.resize(heatmap, (img.shape[1], img.shape[0]))\n",
    "#             heatmap = np.uint8(255 * heatmap)\n",
    "\n",
    "#             img1 = plt.imshow(heatmap, alpha=.7)\n",
    "#             img2 = plt.imshow(img, alpha=.8)\n",
    "\n",
    "#             plt.axis('off')\n",
    "            \n",
    "#             label = classes[labels[index]]\n",
    "            \n",
    "#             plt.savefig(str(main_folder / f\"{label}/{i}_{index}.png\"))\n",
    "#             plt.close()\n",
    "        if n_batches:\n",
    "            if i + 1 == n_batches:\n",
    "                break\n",
    "        i += 1"
   ]
  },
  {
   "cell_type": "code",
   "execution_count": 16,
   "id": "suited-beads",
   "metadata": {
    "execution": {
     "iopub.execute_input": "2021-02-28T12:29:20.361971Z",
     "iopub.status.busy": "2021-02-28T12:29:20.361785Z",
     "iopub.status.idle": "2021-02-28T12:29:20.365840Z",
     "shell.execute_reply": "2021-02-28T12:29:20.365256Z",
     "shell.execute_reply.started": "2021-02-28T12:29:20.361951Z"
    },
    "tags": []
   },
   "outputs": [],
   "source": [
    "def create_grad_cam_maps_one_heartbeat(data_path, models_main_path, model_name, beat, saliency_maps_path, nr_egs):\n",
    "    data_prep = DataPreparation(str(data_path))\n",
    "    data, size = data_prep.create_dataloaders(16, False, 4)\n",
    "    model_path = models_main_path / f\"label_{beat}/{model_name}.pth\"\n",
    "    model = torch.load(model_path, map_location=torch.device(0))\n",
    "    model.eval();\n",
    "    grad_cam_maps(model, data, saliency_maps_path, nr_egs)"
   ]
  },
  {
   "cell_type": "markdown",
   "id": "geological-treasury",
   "metadata": {},
   "source": [
    "----------------------------------------------------------------"
   ]
  },
  {
   "cell_type": "markdown",
   "id": "reasonable-cable",
   "metadata": {},
   "source": [
    "## Configuration and run methods!"
   ]
  },
  {
   "cell_type": "code",
   "execution_count": 17,
   "id": "discrete-junction",
   "metadata": {
    "execution": {
     "iopub.execute_input": "2021-02-28T12:29:21.268143Z",
     "iopub.status.busy": "2021-02-28T12:29:21.267991Z",
     "iopub.status.idle": "2021-02-28T12:29:21.271199Z",
     "shell.execute_reply": "2021-02-28T12:29:21.270684Z",
     "shell.execute_reply.started": "2021-02-28T12:29:21.268126Z"
    },
    "tags": []
   },
   "outputs": [],
   "source": [
    "with open(\"../config.json\") as f:\n",
    "    config_data = json.load(f)\n",
    "    f.close()"
   ]
  },
  {
   "cell_type": "code",
   "execution_count": 18,
   "id": "official-marketing",
   "metadata": {
    "execution": {
     "iopub.execute_input": "2021-02-28T12:29:21.460230Z",
     "iopub.status.busy": "2021-02-28T12:29:21.459779Z",
     "iopub.status.idle": "2021-02-28T12:29:21.467081Z",
     "shell.execute_reply": "2021-02-28T12:29:21.465784Z",
     "shell.execute_reply.started": "2021-02-28T12:29:21.460171Z"
    },
    "tags": []
   },
   "outputs": [],
   "source": [
    "HEARTBEAT = \"initial\"\n",
    "MAP_DIR = \"../attribution_maps/grad_cam_maps\"\n",
    "DELETE_PRIOR_DIR = True\n",
    "TEST_DATA_PATH = Path(f'/mnt/Media/bernardo/DSL_test_data')\n",
    "MODELS_PATH = Path(f\"../models\")\n",
    "MODEL_NAME = \"resnet50_d_22_t_19_13\"\n",
    "NR_BATCHES = 1"
   ]
  },
  {
   "cell_type": "code",
   "execution_count": 19,
   "id": "worst-cartridge",
   "metadata": {
    "execution": {
     "iopub.execute_input": "2021-02-28T12:29:21.669543Z",
     "iopub.status.busy": "2021-02-28T12:29:21.669389Z",
     "iopub.status.idle": "2021-02-28T12:29:24.024551Z",
     "shell.execute_reply": "2021-02-28T12:29:24.024012Z",
     "shell.execute_reply.started": "2021-02-28T12:29:21.669526Z"
    },
    "tags": []
   },
   "outputs": [
    {
     "name": "stdout",
     "output_type": "stream",
     "text": [
      "(224, 224, 3)\n",
      "(224, 224, 3)\n",
      "(224, 224, 3)\n",
      "(224, 224, 3)\n",
      "(224, 224, 3)\n",
      "(224, 224, 3)\n",
      "(224, 224, 3)\n",
      "(224, 224, 3)\n",
      "(224, 224, 3)\n",
      "(224, 224, 3)\n",
      "(224, 224, 3)\n",
      "(224, 224, 3)\n",
      "(224, 224, 3)\n",
      "(224, 224, 3)\n",
      "(224, 224, 3)\n",
      "(224, 224, 3)\n"
     ]
    }
   ],
   "source": [
    "gradcam_folder = create_maps_folders(MAP_DIR, HEARTBEAT, config_data['labels_bin'], DELETE_PRIOR_DIR)\n",
    "create_grad_cam_maps_one_heartbeat(TEST_DATA_PATH, MODELS_PATH, MODEL_NAME, HEARTBEAT, gradcam_folder, NR_BATCHES)"
   ]
  },
  {
   "cell_type": "code",
   "execution_count": null,
   "id": "significant-lightning",
   "metadata": {},
   "outputs": [],
   "source": []
  }
 ],
 "metadata": {
  "kernelspec": {
   "display_name": "Python 3",
   "language": "python",
   "name": "python3"
  },
  "language_info": {
   "codemirror_mode": {
    "name": "ipython",
    "version": 3
   },
   "file_extension": ".py",
   "mimetype": "text/x-python",
   "name": "python",
   "nbconvert_exporter": "python",
   "pygments_lexer": "ipython3",
   "version": "3.8.5"
  }
 },
 "nbformat": 4,
 "nbformat_minor": 5
}
