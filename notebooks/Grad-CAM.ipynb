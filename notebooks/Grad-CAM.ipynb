{
 "cells": [
  {
   "cell_type": "markdown",
   "metadata": {},
   "source": [
    "# Evaluating model and interpret the classification results"
   ]
  },
  {
   "cell_type": "code",
   "execution_count": 2,
   "metadata": {},
   "outputs": [],
   "source": [
    "import torchray\n",
    "import torch\n",
    "import attr\n",
    "from pathlib import Path\n",
    "from torchvision import datasets, transforms\n",
    "from torchray.benchmark import get_example_data, plot_example\n",
    "from torchvision import models\n",
    "import torchvision\n",
    "import matplotlib.pyplot as plt\n",
    "import numpy as np\n",
    "from sklearn import metrics as sk_metrics\n",
    "from torchray.attribution.guided_backprop import GuidedBackpropReLU\n",
    "from torchray.attribution.common import Probe, get_module\n",
    "from torchray.attribution.grad_cam import grad_cam\n",
    "from torchray.attribution.grad_cam import gradient_to_grad_cam_saliency\n",
    "from PIL import Image\n",
    "import cv2"
   ]
  },
  {
   "cell_type": "code",
   "execution_count": 3,
   "metadata": {},
   "outputs": [],
   "source": [
    "labels_bin = {\"abnormal\": [\"A\", \"a\", \"J\", \"S\", \"V\", \"E\", \"F\", \"P\", \"/\", \"f\", \"Q\"], \"normal\": [\"N\", \"L\", \"R\", \"e\", \"j\"]}"
   ]
  },
  {
   "cell_type": "code",
   "execution_count": 4,
   "metadata": {},
   "outputs": [],
   "source": [
    "labels_multi = {\"SVEB\": [\"A\", \"a\", \"J\", \"S\"], \"VEB\": [\"V\", \"E\"], \"F\": [\"F\"], \"Q\": [\"P\", \"/\", \"f\", \"Q\"], \"N\": [\"N\", \"L\", \"R\", \"e\", \"j\"]}"
   ]
  },
  {
   "cell_type": "code",
   "execution_count": 27,
   "metadata": {},
   "outputs": [],
   "source": [
    "# CHECK THIS!!!\n",
    "beat = \"final\""
   ]
  },
  {
   "cell_type": "code",
   "execution_count": 28,
   "metadata": {},
   "outputs": [
    {
     "ename": "FileExistsError",
     "evalue": "[Errno 17] File exists: '../Grad_CAM_maps/MULTI_label_final_beat/SVEB'",
     "output_type": "error",
     "traceback": [
      "\u001b[0;31m---------------------------------------------------------------------------\u001b[0m",
      "\u001b[0;31mFileExistsError\u001b[0m                           Traceback (most recent call last)",
      "\u001b[0;32m<ipython-input-28-dcd5cd0fd9ce>\u001b[0m in \u001b[0;36m<module>\u001b[0;34m\u001b[0m\n\u001b[1;32m      2\u001b[0m \u001b[0;32mif\u001b[0m \u001b[0mMULTI\u001b[0m\u001b[0;34m:\u001b[0m\u001b[0;34m\u001b[0m\u001b[0;34m\u001b[0m\u001b[0m\n\u001b[1;32m      3\u001b[0m     \u001b[0;32mfor\u001b[0m \u001b[0mlabel\u001b[0m \u001b[0;32min\u001b[0m \u001b[0mlabels_multi\u001b[0m\u001b[0;34m:\u001b[0m\u001b[0;34m\u001b[0m\u001b[0;34m\u001b[0m\u001b[0m\n\u001b[0;32m----> 4\u001b[0;31m         \u001b[0mPath\u001b[0m\u001b[0;34m(\u001b[0m\u001b[0;34mf\"../Grad_CAM_maps/MULTI_label_{beat}_beat/{label}\"\u001b[0m\u001b[0;34m)\u001b[0m\u001b[0;34m.\u001b[0m\u001b[0mmkdir\u001b[0m\u001b[0;34m(\u001b[0m\u001b[0mparents\u001b[0m\u001b[0;34m=\u001b[0m\u001b[0;32mTrue\u001b[0m\u001b[0;34m)\u001b[0m\u001b[0;34m\u001b[0m\u001b[0;34m\u001b[0m\u001b[0m\n\u001b[0m\u001b[1;32m      5\u001b[0m \u001b[0;32melse\u001b[0m\u001b[0;34m:\u001b[0m\u001b[0;34m\u001b[0m\u001b[0;34m\u001b[0m\u001b[0m\n\u001b[1;32m      6\u001b[0m     \u001b[0;32mfor\u001b[0m \u001b[0mlabel\u001b[0m \u001b[0;32min\u001b[0m \u001b[0mlabels_bin\u001b[0m\u001b[0;34m:\u001b[0m\u001b[0;34m\u001b[0m\u001b[0;34m\u001b[0m\u001b[0m\n",
      "\u001b[0;32m~/anaconda3/lib/python3.7/pathlib.py\u001b[0m in \u001b[0;36mmkdir\u001b[0;34m(self, mode, parents, exist_ok)\u001b[0m\n\u001b[1;32m   1266\u001b[0m             \u001b[0mself\u001b[0m\u001b[0;34m.\u001b[0m\u001b[0m_raise_closed\u001b[0m\u001b[0;34m(\u001b[0m\u001b[0;34m)\u001b[0m\u001b[0;34m\u001b[0m\u001b[0;34m\u001b[0m\u001b[0m\n\u001b[1;32m   1267\u001b[0m         \u001b[0;32mtry\u001b[0m\u001b[0;34m:\u001b[0m\u001b[0;34m\u001b[0m\u001b[0;34m\u001b[0m\u001b[0m\n\u001b[0;32m-> 1268\u001b[0;31m             \u001b[0mself\u001b[0m\u001b[0;34m.\u001b[0m\u001b[0m_accessor\u001b[0m\u001b[0;34m.\u001b[0m\u001b[0mmkdir\u001b[0m\u001b[0;34m(\u001b[0m\u001b[0mself\u001b[0m\u001b[0;34m,\u001b[0m \u001b[0mmode\u001b[0m\u001b[0;34m)\u001b[0m\u001b[0;34m\u001b[0m\u001b[0;34m\u001b[0m\u001b[0m\n\u001b[0m\u001b[1;32m   1269\u001b[0m         \u001b[0;32mexcept\u001b[0m \u001b[0mFileNotFoundError\u001b[0m\u001b[0;34m:\u001b[0m\u001b[0;34m\u001b[0m\u001b[0;34m\u001b[0m\u001b[0m\n\u001b[1;32m   1270\u001b[0m             \u001b[0;32mif\u001b[0m \u001b[0;32mnot\u001b[0m \u001b[0mparents\u001b[0m \u001b[0;32mor\u001b[0m \u001b[0mself\u001b[0m\u001b[0;34m.\u001b[0m\u001b[0mparent\u001b[0m \u001b[0;34m==\u001b[0m \u001b[0mself\u001b[0m\u001b[0;34m:\u001b[0m\u001b[0;34m\u001b[0m\u001b[0;34m\u001b[0m\u001b[0m\n",
      "\u001b[0;31mFileExistsError\u001b[0m: [Errno 17] File exists: '../Grad_CAM_maps/MULTI_label_final_beat/SVEB'"
     ]
    }
   ],
   "source": [
    "MULTI = True\n",
    "if MULTI:\n",
    "    for label in labels_multi:\n",
    "        Path(f\"../Grad_CAM_maps/MULTI_label_{beat}_beat/{label}\").mkdir(parents=True)\n",
    "else:\n",
    "    for label in labels_bin:\n",
    "        Path(f\"../Grad_CAM_maps/label_{beat}_beat/{label}\").mkdir(parents=True)"
   ]
  },
  {
   "cell_type": "code",
   "execution_count": 5,
   "metadata": {},
   "outputs": [],
   "source": [
    "@attr.s(auto_attribs=True)\n",
    "class DataPreparation:\n",
    "    data_dir: Path\n",
    "    device: str = attr.ib(default=torch.device(\"cuda:0\" if torch.cuda.is_available() else \"cpu\"), init=False)\n",
    "\n",
    "    @staticmethod\n",
    "    def data_transformations():\n",
    "        data_transforms = {\n",
    "            'test': transforms.Compose([\n",
    "                transforms.CenterCrop((200, 1500)),\n",
    "                transforms.Resize((224, 224)),\n",
    "                transforms.ToTensor(),\n",
    "                transforms.Normalize([0.485, 0.456, 0.406], [0.229, 0.224, 0.225])\n",
    "            ])\n",
    "        }\n",
    "        return data_transforms\n",
    "    \n",
    "    def create_dataloaders(self, batch_size, shuffle, num_workers):\n",
    "        data_transforms = self.data_transformations()\n",
    "        \n",
    "        image_datasets = {\n",
    "            'test': datasets.ImageFolder(self.data_dir, data_transforms['test'])\n",
    "        }\n",
    "        dataloaders = {\n",
    "            'test': torch.utils.data.DataLoader(image_datasets['test'], batch_size=batch_size, shuffle=shuffle, num_workers=num_workers)\n",
    "        }\n",
    "        dataset_sizes = {\n",
    "            'test': len(image_datasets['test'])\n",
    "        }\n",
    "        return dataloaders, dataset_sizes\n"
   ]
  },
  {
   "cell_type": "markdown",
   "metadata": {},
   "source": [
    "# Iterate over all heartbeats + multiclass case and create the grad cam maps (folders must be created)"
   ]
  },
  {
   "cell_type": "code",
<<<<<<< HEAD
   "execution_count": 6,
   "metadata": {},
   "outputs": [],
   "source": [
    "def deprocess(image):\n",
    "    transform = transforms.Compose([\n",
    "        transforms.Normalize(mean=[0, 0, 0], std=[4.3668, 4.4643, 4.4444]),\n",
    "        transforms.Normalize(mean=[-0.485, -0.456, -0.406], std=[1, 1, 1]),\n",
    "        transforms.ToPILImage(),\n",
    "    ])\n",
    "    return transform(image)\n",
    "\n",
    "def show_img(PIL_IMG):\n",
    "    plt.imshow(np.asarray(PIL_IMG))"
=======
   "execution_count": 3,
   "metadata": {},
   "outputs": [],
   "source": [
    "class GuidedBackpropReLUModel:\n",
    "    def __init__(self, model):\n",
    "        self.model = model\n",
    "#         self.model.eval()\n",
    "\n",
    "        def recursive_relu_apply(module_top):\n",
    "            for idx, module in module_top._modules.items():\n",
    "                recursive_relu_apply(module)\n",
    "                if module.__class__.__name__ == 'ReLU':\n",
    "                    module_top._modules[idx] = GuidedBackpropReLU.apply\n",
    "\n",
    "        # replace ReLU with GuidedBackpropReLU\n",
    "        recursive_relu_apply(self.model)\n",
    "\n",
    "    def forward(self, input_img):\n",
    "        return self.model(input_img)\n",
    "\n",
    "    def __call__(self, input_img, target_category=None):\n",
    "\n",
    "        input_img = input_img.requires_grad_(True)\n",
    "\n",
    "        output = self.forward(input_img)\n",
    "\n",
    "        if target_category == None:\n",
    "            target_category = np.argmax(output.cpu().data.numpy())\n",
    "\n",
    "        one_hot = np.zeros((1, output.size()[-1]), dtype=np.float32)\n",
    "        one_hot[0][target_category] = 1\n",
    "        one_hot = torch.from_numpy(one_hot).requires_grad_(True)\n",
    "\n",
    "        one_hot = torch.sum(one_hot * output)\n",
    "        one_hot.backward(retain_graph=True)\n",
    "\n",
    "        output = input_img.grad.cpu().data.numpy()\n",
    "        output = output[0, :, :, :]\n",
    "\n",
    "        return output"
>>>>>>> 5a12a6afe612877ff7c3eddb8b0d9ad012ddbf45
   ]
  },
  {
   "cell_type": "code",
<<<<<<< HEAD
   "execution_count": 7,
   "metadata": {},
   "outputs": [],
   "source": [
    "def grad_cam_maps(data, variant):\n",
    "    classes = data[\"test\"].dataset.classes\n",
    "    i = 0\n",
    "    for inputs, labels in data['test']:\n",
    "        inputs = inputs.to(0)\n",
    "        labels = labels.to(0)\n",
    "        x = inputs\n",
    "    #     break\n",
    "        x.requires_grad_();\n",
    "        saliency_layer = get_module(model, model.layer4)\n",
    "        probe = Probe(saliency_layer, target='output')\n",
    "        y = model(x)\n",
    "        score_max_index = y.argmax(dim=1)\n",
    "        z = y[:, score_max_index]\n",
    "        z.backward(torch.ones_like(z))\n",
    "        saliency = gradient_to_grad_cam_saliency(probe.data[0])\n",
    "\n",
    "        for index in range(len(saliency)): \n",
    "            plt.figure()\n",
    "            heatmap = np.float32(saliency[index, 0].cpu().detach())\n",
    "            img = np.array(deprocess(x[index].cpu().detach()))\n",
    "\n",
    "            heatmap = cv2.resize(heatmap, (img.shape[1], img.shape[0]))\n",
    "            heatmap = np.uint8(255 * heatmap)\n",
    "\n",
    "            img1 = plt.imshow(heatmap, alpha=.7)\n",
    "            img2 = plt.imshow(img, alpha=.8)\n",
    "\n",
    "            plt.axis('off')\n",
    "            \n",
    "            label = classes[labels[index]]\n",
    "            \n",
    "            ### CHANGE NAME!!!!!!!\n",
    "            if variant == \"multiclass\":\n",
    "                plt.savefig(f\"../Grad_CAM_maps/MULTI_label_final_beat/{label}/{i}_{index}.png\")\n",
    "            else:\n",
    "                plt.savefig(f\"../Grad_CAM_maps/label_{variant}_beat/{label}/{i}_{index}.png\")\n",
    "            plt.close()\n",
    "        i += 1"
=======
   "execution_count": 4,
   "metadata": {},
   "outputs": [],
   "source": [
    "# CHECK THIS!!!\n",
    "beat = \"final\""
>>>>>>> 5a12a6afe612877ff7c3eddb8b0d9ad012ddbf45
   ]
  },
  {
   "cell_type": "code",
   "execution_count": 8,
   "metadata": {},
   "outputs": [],
   "source": [
<<<<<<< HEAD
    "# variants = [\"final\", \"mid\", \"initial\",  \"multiclass\"]\n",
    "# models = [\"resnet50_d_02_t_20_10_final_beat\", \"resnet50_d_02_t_22_52_mid_beat\", \"resnet50_d_02_t_20_28_initial_beat\", \"resnet50_d_05_t_00_40\"]\n",
    "\n",
    "variants = [\"initial\",  \"multiclass\"]\n",
    "models = [\"resnet50_d_02_t_20_28_initial_beat\", \"resnet50_d_05_t_00_40\"]"
=======
    "data_prep = DataPreparation(f'../data/figures_{beat}/test')\n",
    "data, size = data_prep.create_dataloaders(16, False, 4)"
>>>>>>> 5a12a6afe612877ff7c3eddb8b0d9ad012ddbf45
   ]
  },
  {
   "cell_type": "code",
   "execution_count": 9,
   "metadata": {},
   "outputs": [
    {
     "name": "stdout",
     "output_type": "stream",
     "text": [
      "initial\n",
      "multiclass\n"
     ]
    }
   ],
   "source": [
    "for i, variant in enumerate(variants):\n",
    "    print(variant)\n",
    "    data_prep = DataPreparation(f'../data/figures_{variant}/test')\n",
    "    data, size = data_prep.create_dataloaders(16, False, 4)\n",
    "    model_path = Path().cwd().parents[0] / f\"models/{models[i]}.pth\"\n",
    "    model = torch.load(model_path)\n",
    "    model.eval();\n",
    "    grad_cam_maps(data, variant)"
   ]
  },
  {
   "cell_type": "code",
   "execution_count": null,
   "metadata": {},
   "outputs": [],
   "source": [
<<<<<<< HEAD
    "data_prep = DataPreparation(f'../data/figures_{beat}/test')\n",
    "data, size = data_prep.create_dataloaders(16, False, 4)"
=======
    "model_path = Path().cwd().parents[0] / f\"models/resnet50_d_02_t_20_10_{beat}_beat.pth\"\n",
    "model = torch.load(model_path)\n",
    "model.eval();"
>>>>>>> 5a12a6afe612877ff7c3eddb8b0d9ad012ddbf45
   ]
  },
  {
   "cell_type": "code",
   "execution_count": 17,
   "metadata": {},
   "outputs": [],
   "source": [
<<<<<<< HEAD
    "model_path = Path().cwd().parents[0] / f\"models/resnet50_d_02_t_22_52_{beat}_beat.pth\"\n",
    "model = torch.load(model_path)\n",
    "model.eval();"
=======
    "i = 0\n",
    "for inputs, labels in data['test']:\n",
    "    inputs = inputs.to(0)\n",
    "    labels = labels.to(0)\n",
    "    x = inputs\n",
    "    break\n",
    "    x.requires_grad_();\n",
    "    saliency_layer = get_module(model, model.layer4)\n",
    "    probe = Probe(saliency_layer, target='output')\n",
    "    y = model(x)\n",
    "    score_max_index = y.argmax(dim=1)\n",
    "    z = y[:, score_max_index]\n",
    "    z.backward(torch.ones_like(z))\n",
    "    saliency = gradient_to_grad_cam_saliency(probe.data[0])\n",
    "    \n",
    "    for index in range(len(saliency)): \n",
    "        plt.figure()\n",
    "        heatmap = np.float32(saliency[index, 0].cpu().detach())\n",
    "        img = np.array(deprocess(x[index].cpu().detach()))\n",
    "\n",
    "        heatmap = cv2.resize(heatmap, (img.shape[1], img.shape[0]))\n",
    "        heatmap = np.uint8(255 * heatmap)\n",
    "\n",
    "        img1 = plt.imshow(heatmap, alpha=.7)\n",
    "        img2 = plt.imshow(img, alpha=.8)\n",
    "        \n",
    "        plt.axis('off')\n",
    "        if labels[index] == 0:\n",
    "            label = \"abnormal\"\n",
    "        else:\n",
    "            label = \"normal\"\n",
    "        ### CHANGE NAME!!!!!!!\n",
    "        plt.savefig(f\"../Grad_CAM_maps/label_{beat}_beat/{label}/{i}_{index}.png\")\n",
    "        plt.close()\n",
    "        \n",
    "    i += 1"
>>>>>>> 5a12a6afe612877ff7c3eddb8b0d9ad012ddbf45
   ]
  },
  {
   "cell_type": "code",
   "execution_count": 8,
   "metadata": {},
   "outputs": [],
   "source": [
    "def deprocess(image):\n",
    "    transform = transforms.Compose([\n",
    "    transforms.Normalize(mean=[0, 0, 0], std=[4.3668, 4.4643, 4.4444]),\n",
    "    transforms.Normalize(mean=[-0.485, -0.456, -0.406], std=[1, 1, 1]),\n",
    "    transforms.ToPILImage(),\n",
    "    ])\n",
    "    return transform(image)\n",
    "\n",
    "def show_img(PIL_IMG):\n",
    "    plt.imshow(np.asarray(PIL_IMG))"
   ]
  },
  {
   "cell_type": "markdown",
   "metadata": {},
   "source": [
    "-------------------------------------------------------------------------------------------------"
   ]
  },
  {
   "cell_type": "markdown",
   "metadata": {},
   "source": [
    "# Grad CAM"
   ]
  },
  {
   "cell_type": "code",
   "execution_count": 9,
   "metadata": {},
   "outputs": [],
   "source": [
    "saliency_layer = get_module(model, model.layer4)\n",
    "probe = Probe(saliency_layer, target='output')\n",
    "y = model(x)\n",
    "score_max_index = y.argmax(dim=1)\n",
    "z = y[:, score_max_index]\n",
    "z.backward(torch.ones_like(z))"
   ]
  },
  {
   "cell_type": "raw",
   "metadata": {},
   "source": [
    "print(model.children)"
   ]
  },
  {
   "cell_type": "code",
   "execution_count": 10,
   "metadata": {},
   "outputs": [
    {
     "name": "stdout",
     "output_type": "stream",
     "text": [
      "torch.Size([16, 2048, 7, 7])\n"
     ]
    },
    {
     "data": {
      "image/png": "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\n",
      "text/plain": [
       "<Figure size 432x288 with 32 Axes>"
      ]
     },
     "metadata": {
      "needs_background": "light"
     },
     "output_type": "display_data"
    }
   ],
   "source": [
    "print(probe.data[0].size())\n",
    "saliency = gradient_to_grad_cam_saliency(probe.data[0])\n",
    "# Plots.\n",
    "plot_example(x, saliency, 'grad-cam backprop', labels, save_path='saliency.pdf')"
   ]
  },
  {
   "cell_type": "code",
   "execution_count": 11,
   "metadata": {},
   "outputs": [
    {
     "data": {
      "text/plain": [
       "torch.Size([16, 1, 7, 7])"
      ]
     },
     "execution_count": 11,
     "metadata": {},
     "output_type": "execute_result"
    }
   ],
   "source": [
    "saliency.size()"
   ]
  },
  {
   "cell_type": "code",
   "execution_count": 12,
   "metadata": {},
   "outputs": [],
   "source": [
    "index = 0"
   ]
  },
  {
   "cell_type": "code",
   "execution_count": 13,
   "metadata": {},
   "outputs": [
    {
     "name": "stdout",
     "output_type": "stream",
     "text": [
      "(224, 224, 3) (7, 7)\n",
      "<class 'numpy.ndarray'> (224, 224)\n"
     ]
    },
    {
     "data": {
      "image/png": "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\n",
      "text/plain": [
       "<Figure size 432x288 with 1 Axes>"
      ]
     },
     "metadata": {
      "needs_background": "light"
     },
     "output_type": "display_data"
    }
   ],
   "source": [
    "heatmap = np.float32(saliency[index, 0].cpu().detach())\n",
    "img = np.array(deprocess(x[index].cpu().detach()))\n",
    "\n",
    "print(img.shape, heatmap.shape)\n",
    "\n",
    "heatmap = cv2.resize(heatmap, (img.shape[1], img.shape[0]))\n",
    "heatmap = np.uint8(255 * heatmap)\n",
    "\n",
    "print(type(heatmap), heatmap.shape)\n",
    "\n",
    "plt.imshow(heatmap, alpha=.7)\n",
    "plt.imshow(img, alpha=.8)\n",
    "plt.show()\n",
    "\n",
    "# heatmap = cv2.applyColorMap(cv2.UMat(heatmap), cv2.COLORMAP_JET)\n",
    "# print(type(heatmap))\n",
    "# # superimposed_img = heatmap * 0.4 + img\n",
    "# superimposed_img = cv2.addWeighted(img, .4, heatmap, .4, 0)\n",
    "# cv2.imwrite('./map.jpg', superimposed_img)"
   ]
  },
  {
   "cell_type": "markdown",
   "metadata": {},
   "source": [
    "### Guided Back Propagation"
   ]
  },
  {
   "cell_type": "code",
   "execution_count": 14,
   "metadata": {},
   "outputs": [],
   "source": [
    "def deprocess_image_gb(img):\n",
    "    \"\"\" see https://github.com/jacobgil/keras-grad-cam/blob/master/grad-cam.py#L65 \"\"\"\n",
    "    img = img - np.mean(img)\n",
    "    img = img / (np.std(img) + 1e-5)\n",
    "    img = img * 0.1\n",
    "    img = img + 0.5\n",
    "    img = np.clip(img, 0, 1)\n",
    "    return np.uint8(img*255)"
   ]
  },
  {
   "cell_type": "code",
   "execution_count": 15,
   "metadata": {},
   "outputs": [],
   "source": [
    "gb = GuidedBackpropReLU(model)"
   ]
  },
  {
   "cell_type": "code",
   "execution_count": null,
   "metadata": {},
   "outputs": [],
   "source": [
    "gb_model = GuidedBackpropReLUModel(model=model.cpu())\n",
    "i = 0\n",
    "for inputs, labels in data['test']:\n",
    "    inputs = inputs.to(0)\n",
    "    labels = labels.to(0)\n",
    "    x = inputs\n",
    "#     break\n",
    "    x.requires_grad_();\n",
    "    saliency_layer = get_module(model, model.layer4)\n",
    "    probe = Probe(saliency_layer, target='output')\n",
    "    y = model(x)\n",
    "    score_max_index = y.argmax(dim=1)\n",
    "    z = y[:, score_max_index]\n",
    "    z.backward(torch.ones_like(z))\n",
    "    saliency = gradient_to_grad_cam_saliency(probe.data[0])\n",
    "    \n",
    "    for index in range(len(saliency)): \n",
    "        plt.figure()\n",
    "        heatmap = np.float32(saliency[index, 0].cpu().detach())\n",
    "        img = np.array(deprocess(x[index].cpu().detach()))\n",
    "\n",
    "        heatmap = cv2.resize(heatmap, (img.shape[1], img.shape[0]))\n",
    "        heatmap = np.uint8(255 * heatmap)\n",
    "        cam_mask = cv2.merge([heatmap, heatmap, heatmap])\n",
    "        \n",
    "        gb = gb_model(x[index].unsqueeze(0).cpu(), target_category=labels[index].cpu())\n",
    "        gb = gb.transpose((1, 2, 0))\n",
    "        cam_gb = deprocess_image_gb(cam_mask*gb)\n",
    "\n",
    "\n",
    "        img1 = plt.imshow(cam_gb)\n",
    "        \n",
    "        plt.axis('off')\n",
    "        if labels[index] == 0:\n",
    "            label = \"abnormal\"\n",
    "        else:\n",
    "            label = \"normal\"\n",
    "        ### CHANGE NAME!!!!!!!\n",
    "        plt.savefig(f\"../GB_Grad_CAM_maps/label_{beat}_beat/{label}/{i}_{index}.png\")\n",
    "        plt.close()\n",
    "        \n",
    "    i += 1"
   ]
  },
  {
   "cell_type": "code",
   "execution_count": null,
   "metadata": {},
   "outputs": [],
   "source": [
    "cam_mask = cv2.merge([heatmap, heatmap, heatmap])\n",
    "gb_model = GuidedBackpropReLUModel(model=model.cpu())"
   ]
  },
  {
   "cell_type": "code",
   "execution_count": null,
   "metadata": {},
   "outputs": [],
   "source": [
    "index = 15"
   ]
  },
  {
   "cell_type": "code",
   "execution_count": null,
   "metadata": {},
   "outputs": [],
   "source": [
    "gb = gb_model(x[index].unsqueeze(0).cpu(), target_category=labels[index].cpu())\n",
    "gb = gb.transpose((1, 2, 0))"
   ]
  },
  {
   "cell_type": "code",
   "execution_count": null,
   "metadata": {},
   "outputs": [],
   "source": [
    "cam_gb = deprocess_image_gb(cam_mask*gb)"
   ]
  },
  {
   "cell_type": "code",
   "execution_count": null,
   "metadata": {},
   "outputs": [],
   "source": [
    "plt.imshow(cam_gb)\n",
    "plt.show()"
   ]
  },
  {
   "cell_type": "raw",
   "metadata": {},
   "source": [
    "# Grad-CAM backprop.\n",
    "saliency = grad_cam(model, x, labels, saliency_layer=model.layer4)\n",
    "\n",
    "# Plots.\n",
    "# plot_example(x, saliency, 'grad-cam backprop', labels)\n",
    "\n",
    "print(saliency.size())\n",
    "\n",
    "plt.imshow(deprocess(saliency[index]).cpu().detach().numpy())\n",
    "plt.axis('off')\n",
    "plt.show()"
   ]
  }
 ],
 "metadata": {
  "kernelspec": {
   "display_name": "Python 3",
   "language": "python",
   "name": "python3"
  },
  "language_info": {
   "codemirror_mode": {
    "name": "ipython",
    "version": 3
   },
   "file_extension": ".py",
   "mimetype": "text/x-python",
   "name": "python",
   "nbconvert_exporter": "python",
   "pygments_lexer": "ipython3",
   "version": "3.7.6"
  }
 },
 "nbformat": 4,
 "nbformat_minor": 4
}
