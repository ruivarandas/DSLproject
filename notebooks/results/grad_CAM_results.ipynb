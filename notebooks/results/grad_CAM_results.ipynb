{
 "cells": [
  {
   "cell_type": "markdown",
<<<<<<< HEAD
=======
   "id": "disturbed-guinea",
>>>>>>> 71fd0b98d1f4dee3c4d259f82e5ec315c6fc5337
   "metadata": {},
   "source": [
    "# Results"
   ]
  },
  {
   "cell_type": "markdown",
<<<<<<< HEAD
=======
   "id": "generous-moore",
>>>>>>> 71fd0b98d1f4dee3c4d259f82e5ec315c6fc5337
   "metadata": {},
   "source": [
    "We will present the results of the metrics in this notebook."
   ]
  },
  {
   "cell_type": "code",
<<<<<<< HEAD
   "execution_count": null,
=======
   "execution_count": 3,
   "id": "square-rough",
>>>>>>> 71fd0b98d1f4dee3c4d259f82e5ec315c6fc5337
   "metadata": {
    "execution": {
     "iopub.execute_input": "2021-05-06T09:43:53.912411Z",
     "iopub.status.busy": "2021-05-06T09:43:53.911444Z",
     "iopub.status.idle": "2021-05-06T09:43:54.162597Z",
     "shell.execute_reply": "2021-05-06T09:43:54.162164Z",
     "shell.execute_reply.started": "2021-05-06T09:43:53.912290Z"
    },
    "tags": []
   },
   "outputs": [],
   "source": [
    "from results_preparation import *"
   ]
  },
  {
   "cell_type": "code",
<<<<<<< HEAD
   "execution_count": null,
=======
   "execution_count": 4,
   "id": "aboriginal-fence",
>>>>>>> 71fd0b98d1f4dee3c4d259f82e5ec315c6fc5337
   "metadata": {
    "execution": {
     "iopub.execute_input": "2021-05-06T09:43:54.164178Z",
     "iopub.status.busy": "2021-05-06T09:43:54.164037Z",
     "iopub.status.idle": "2021-05-06T09:43:54.166593Z",
     "shell.execute_reply": "2021-05-06T09:43:54.166143Z",
     "shell.execute_reply.started": "2021-05-06T09:43:54.164162Z"
    },
    "tags": []
   },
   "outputs": [],
   "source": [
    "folder = \"../../XAI_metrics/metrics/\""
   ]
  },
  {
   "cell_type": "markdown",
<<<<<<< HEAD
=======
   "id": "ethical-washington",
>>>>>>> 71fd0b98d1f4dee3c4d259f82e5ec315c6fc5337
   "metadata": {},
   "source": [
    "## Sum of the ROI divided by the Total sum"
   ]
  },
  {
   "cell_type": "markdown",
<<<<<<< HEAD
=======
   "id": "dominican-diagram",
>>>>>>> 71fd0b98d1f4dee3c4d259f82e5ec315c6fc5337
   "metadata": {},
   "source": [
    "### Saliency Maps"
   ]
  },
  {
   "cell_type": "markdown",
<<<<<<< HEAD
=======
   "id": "perfect-organic",
>>>>>>> 71fd0b98d1f4dee3c4d259f82e5ec315c6fc5337
   "metadata": {},
   "source": [
    "#### All Values"
   ]
  },
  {
   "cell_type": "code",
<<<<<<< HEAD
   "execution_count": null,
=======
   "execution_count": 5,
   "id": "ongoing-victorian",
>>>>>>> 71fd0b98d1f4dee3c4d259f82e5ec315c6fc5337
   "metadata": {
    "execution": {
     "iopub.execute_input": "2021-05-06T09:43:55.638027Z",
     "iopub.status.busy": "2021-05-06T09:43:55.637802Z",
     "iopub.status.idle": "2021-05-06T09:43:57.413914Z",
     "shell.execute_reply": "2021-05-06T09:43:57.413389Z",
     "shell.execute_reply.started": "2021-05-06T09:43:55.638002Z"
    },
    "tags": []
   },
<<<<<<< HEAD
   "outputs": [],
=======
   "outputs": [
    {
     "name": "stdout",
     "output_type": "stream",
     "text": [
      "Mean value of initial beat: 8.72 +- 5.16%\n",
      "Mean value of final beat: 22.74 +- 11.46%\n"
     ]
    },
    {
     "data": {
      "image/png": "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\n",
      "text/plain": [
       "<Figure size 720x360 with 2 Axes>"
      ]
     },
     "metadata": {
      "needs_background": "light"
     },
     "output_type": "display_data"
    }
   ],
>>>>>>> 71fd0b98d1f4dee3c4d259f82e5ec315c6fc5337
   "source": [
    "values = present_values(folder, \"grad_cam\")"
   ]
  },
  {
   "cell_type": "markdown",
<<<<<<< HEAD
=======
   "id": "noted-acting",
>>>>>>> 71fd0b98d1f4dee3c4d259f82e5ec315c6fc5337
   "metadata": {},
   "source": [
    "#### All But 0's"
   ]
  },
  {
   "cell_type": "code",
<<<<<<< HEAD
   "execution_count": null,
=======
   "execution_count": 8,
   "id": "fabulous-budapest",
>>>>>>> 71fd0b98d1f4dee3c4d259f82e5ec315c6fc5337
   "metadata": {
    "execution": {
     "iopub.execute_input": "2021-03-31T14:50:13.061072Z",
     "iopub.status.busy": "2021-03-31T14:50:13.060845Z",
     "iopub.status.idle": "2021-03-31T14:50:13.873316Z",
     "shell.execute_reply": "2021-03-31T14:50:13.872834Z",
     "shell.execute_reply.started": "2021-03-31T14:50:13.061045Z"
    },
    "tags": []
   },
   "outputs": [],
   "source": [
    "present_values(folder, \"grad_cam\", 0)"
   ]
  },
  {
   "cell_type": "markdown",
<<<<<<< HEAD
=======
   "id": "improved-guyana",
>>>>>>> 71fd0b98d1f4dee3c4d259f82e5ec315c6fc5337
   "metadata": {},
   "source": [
    "#### Correct Classification"
   ]
  },
  {
   "cell_type": "code",
<<<<<<< HEAD
   "execution_count": null,
=======
   "execution_count": 9,
   "id": "broken-shame",
>>>>>>> 71fd0b98d1f4dee3c4d259f82e5ec315c6fc5337
   "metadata": {
    "execution": {
     "iopub.execute_input": "2021-03-31T14:50:15.077089Z",
     "iopub.status.busy": "2021-03-31T14:50:15.076822Z",
     "iopub.status.idle": "2021-03-31T14:50:15.904904Z",
     "shell.execute_reply": "2021-03-31T14:50:15.904507Z",
     "shell.execute_reply.started": "2021-03-31T14:50:15.077058Z"
    },
    "tags": []
   },
   "outputs": [],
   "source": [
    "present(folder, \"grad_cam\", ['pred_results', 'ok'], but_zeros=False)"
   ]
  },
  {
   "cell_type": "markdown",
<<<<<<< HEAD
=======
   "id": "thrown-geneva",
>>>>>>> 71fd0b98d1f4dee3c4d259f82e5ec315c6fc5337
   "metadata": {},
   "source": [
    "#### Incorrect Classification"
   ]
  },
  {
   "cell_type": "code",
<<<<<<< HEAD
   "execution_count": null,
=======
   "execution_count": 10,
   "id": "blind-taylor",
>>>>>>> 71fd0b98d1f4dee3c4d259f82e5ec315c6fc5337
   "metadata": {
    "execution": {
     "iopub.execute_input": "2021-03-31T14:50:19.782630Z",
     "iopub.status.busy": "2021-03-31T14:50:19.782278Z",
     "iopub.status.idle": "2021-03-31T14:50:20.531436Z",
     "shell.execute_reply": "2021-03-31T14:50:20.530838Z",
     "shell.execute_reply.started": "2021-03-31T14:50:19.782592Z"
    },
    "tags": []
   },
   "outputs": [],
   "source": [
    "present(folder,\"grad_cam\", ['pred_results', 'wrong'], but_zeros=False)"
   ]
  },
  {
   "cell_type": "markdown",
<<<<<<< HEAD
=======
   "id": "careful-philippines",
>>>>>>> 71fd0b98d1f4dee3c4d259f82e5ec315c6fc5337
   "metadata": {},
   "source": [
    "#### Normal Label"
   ]
  },
  {
   "cell_type": "code",
<<<<<<< HEAD
   "execution_count": null,
=======
   "execution_count": 11,
   "id": "round-azerbaijan",
>>>>>>> 71fd0b98d1f4dee3c4d259f82e5ec315c6fc5337
   "metadata": {
    "execution": {
     "iopub.execute_input": "2021-03-31T14:50:22.218011Z",
     "iopub.status.busy": "2021-03-31T14:50:22.217844Z",
     "iopub.status.idle": "2021-03-31T14:50:23.015695Z",
     "shell.execute_reply": "2021-03-31T14:50:23.015222Z",
     "shell.execute_reply.started": "2021-03-31T14:50:22.217992Z"
    },
    "tags": []
   },
   "outputs": [],
   "source": [
    "present(folder, \"grad_cam\", ['true_labels', 'normal'], but_zeros=False)"
   ]
  },
  {
   "cell_type": "markdown",
<<<<<<< HEAD
=======
   "id": "upset-roller",
>>>>>>> 71fd0b98d1f4dee3c4d259f82e5ec315c6fc5337
   "metadata": {},
   "source": [
    "#### Abnormal Label"
   ]
  },
  {
   "cell_type": "code",
<<<<<<< HEAD
   "execution_count": null,
=======
   "execution_count": 12,
   "id": "digital-pride",
>>>>>>> 71fd0b98d1f4dee3c4d259f82e5ec315c6fc5337
   "metadata": {
    "execution": {
     "iopub.execute_input": "2021-03-31T14:50:24.459518Z",
     "iopub.status.busy": "2021-03-31T14:50:24.459316Z",
     "iopub.status.idle": "2021-03-31T14:50:25.183403Z",
     "shell.execute_reply": "2021-03-31T14:50:25.182869Z",
     "shell.execute_reply.started": "2021-03-31T14:50:24.459497Z"
    },
    "tags": []
   },
   "outputs": [],
   "source": [
    "present(folder, \"grad_cam\", ['true_labels', 'abnormal'], but_zeros=False)"
   ]
  },
  {
   "cell_type": "markdown",
<<<<<<< HEAD
=======
   "id": "logical-typing",
>>>>>>> 71fd0b98d1f4dee3c4d259f82e5ec315c6fc5337
   "metadata": {
    "execution": {
     "iopub.execute_input": "2021-03-11T11:24:29.515708Z",
     "iopub.status.busy": "2021-03-11T11:24:29.515420Z",
     "iopub.status.idle": "2021-03-11T11:24:29.753350Z",
     "shell.execute_reply": "2021-03-11T11:24:29.752848Z",
     "shell.execute_reply.started": "2021-03-11T11:24:29.515637Z"
    },
    "tags": []
   },
   "source": [
    "# Attention Maps Comparison"
   ]
  },
  {
   "cell_type": "code",
<<<<<<< HEAD
   "execution_count": null,
=======
   "execution_count": 13,
   "id": "above-facial",
>>>>>>> 71fd0b98d1f4dee3c4d259f82e5ec315c6fc5337
   "metadata": {
    "execution": {
     "iopub.execute_input": "2021-03-31T14:50:28.116210Z",
     "iopub.status.busy": "2021-03-31T14:50:28.115964Z",
     "iopub.status.idle": "2021-03-31T14:50:28.119689Z",
     "shell.execute_reply": "2021-03-31T14:50:28.118646Z",
     "shell.execute_reply.started": "2021-03-31T14:50:28.116181Z"
    },
    "tags": []
   },
   "outputs": [],
   "source": [
    "# folder = '../../data/attribution_maps/'\n",
    "folder_maps = \"/mnt/Media/bernardo/attribution_maps_revisited/\""
   ]
  },
  {
   "cell_type": "code",
<<<<<<< HEAD
   "execution_count": null,
=======
   "execution_count": 14,
   "id": "fatal-firmware",
>>>>>>> 71fd0b98d1f4dee3c4d259f82e5ec315c6fc5337
   "metadata": {
    "execution": {
     "iopub.execute_input": "2021-03-31T14:50:29.002349Z",
     "iopub.status.busy": "2021-03-31T14:50:29.002133Z",
     "iopub.status.idle": "2021-03-31T14:50:37.363843Z",
     "shell.execute_reply": "2021-03-31T14:50:37.363278Z",
     "shell.execute_reply.started": "2021-03-31T14:50:29.002325Z"
    },
    "tags": []
   },
   "outputs": [],
   "source": [
    "maps_comparison(\"initial\", \"grad_cam_map\", \"normal\", folder_maps)"
   ]
  },
  {
   "cell_type": "code",
   "execution_count": null,
<<<<<<< HEAD
=======
   "id": "ordered-consensus",
>>>>>>> 71fd0b98d1f4dee3c4d259f82e5ec315c6fc5337
   "metadata": {},
   "outputs": [],
   "source": []
  }
 ],
 "metadata": {
  "kernelspec": {
   "display_name": "Python 3",
   "language": "python",
   "name": "python3"
  },
  "language_info": {
   "codemirror_mode": {
    "name": "ipython",
    "version": 3
   },
   "file_extension": ".py",
   "mimetype": "text/x-python",
   "name": "python",
   "nbconvert_exporter": "python",
   "pygments_lexer": "ipython3",
   "version": "3.7.6"
  }
 },
 "nbformat": 4,
 "nbformat_minor": 5
}
