{
 "cells": [
  {
   "cell_type": "markdown",
   "id": "incorrect-fence",
   "metadata": {},
   "source": [
    "# Results"
   ]
  },
  {
   "cell_type": "markdown",
   "id": "ancient-winter",
   "metadata": {},
   "source": [
    "We will present the results of the metrics in this notebook."
   ]
  },
  {
   "cell_type": "code",
   "execution_count": 1,
   "id": "celtic-ireland",
   "metadata": {},
   "outputs": [],
   "source": [
    "from json import load\n",
    "from os.path import join\n",
    "import numpy as np"
   ]
  },
  {
   "cell_type": "code",
   "execution_count": 38,
   "id": "alternative-pitch",
   "metadata": {},
   "outputs": [],
   "source": [
    "def convert_to_float(data):\n",
    "    return np.array([float(val) for val in data])\n",
    "\n",
    "def present_values(folder, params=None):\n",
    "    for beat in ['initial', 'mid', 'final']:\n",
    "        path_to_results = join(folder, f\"{beat}_grad_cam_map_metrics.json\")\n",
    "        with open(path_to_results, 'r') as file:\n",
    "            sal_initial = load(file)\n",
    "        values = convert_to_float(sal_initial['values'])\n",
    "        if params is not None:\n",
    "            values = values[np.where(values != params)]\n",
    "        print(f\"Mean value of {beat} beat: {np.nanmean(values)*100:.2f} +- {np.nanstd(values)*100:.2f}%\")\n",
    "    return values\n",
    "\n",
    "def present(folder, params=None):\n",
    "    for beat in ['initial', 'mid', 'final']:\n",
    "        path_to_results = join(folder, f\"{beat}_grad_cam_map_metrics.json\")\n",
    "        with open(path_to_results, 'r') as file:\n",
    "            sal_initial = load(file)\n",
    "        values = convert_to_float(sal_initial['values'])\n",
    "        if params is not None:\n",
    "            values = values[np.where(np.array(sal_initial[params[0]]) == params[1])]\n",
    "        print(f\"Mean value of {beat} beat: {np.nanmean(values)*100:.2f} +- {np.nanstd(values)*100:.2f}%\")"
   ]
  },
  {
   "cell_type": "markdown",
   "id": "lined-taxation",
   "metadata": {},
   "source": [
    "## Sum of the ROI divided by the Total sum"
   ]
  },
  {
   "cell_type": "code",
   "execution_count": 39,
   "id": "palestinian-message",
   "metadata": {},
   "outputs": [],
   "source": [
    "folder = \"../../XAI_metrics/metrics/\""
   ]
  },
  {
   "cell_type": "markdown",
   "id": "dependent-drama",
   "metadata": {},
   "source": [
    "### Saliency Maps"
   ]
  },
  {
   "cell_type": "markdown",
   "id": "protected-practitioner",
   "metadata": {},
   "source": [
    "#### All Values"
   ]
  },
  {
   "cell_type": "code",
   "execution_count": 40,
   "id": "fatal-forth",
   "metadata": {},
   "outputs": [
    {
     "name": "stdout",
     "output_type": "stream",
     "text": [
      "Mean value of initial beat: 0.84 +- 2.20%\n",
      "Mean value of mid beat: 2.05 +- 4.85%\n",
      "Mean value of final beat: 2.43 +- 5.01%\n"
     ]
    },
    {
     "data": {
      "text/plain": [
       "True"
      ]
     },
     "execution_count": 40,
     "metadata": {},
     "output_type": "execute_result"
    }
   ],
   "source": [
    "values = present_values(folder)\n",
    "any(np.isnan(values[np.where(values != np.nan)]))"
   ]
  },
  {
   "cell_type": "markdown",
   "id": "clean-advance",
   "metadata": {},
   "source": [
    "#### All But 0's"
   ]
  },
  {
   "cell_type": "code",
   "execution_count": 41,
   "id": "humanitarian-style",
   "metadata": {},
   "outputs": [
    {
     "name": "stdout",
     "output_type": "stream",
     "text": [
      "Mean value of initial beat: 4.75 +- 2.99%\n",
      "Mean value of mid beat: 9.44 +- 6.22%\n",
      "Mean value of final beat: 10.37 +- 4.96%\n"
     ]
    },
    {
     "data": {
      "text/plain": [
       "array([5.7722060e-04, 8.5006000e-02, 5.9544283e-01, ..., 1.2888367e-01,\n",
       "       4.5776203e-02, 4.5809526e-02])"
      ]
     },
     "execution_count": 41,
     "metadata": {},
     "output_type": "execute_result"
    }
   ],
   "source": [
    "present_values(folder, 0)"
   ]
  },
  {
   "cell_type": "markdown",
   "id": "assured-criminal",
   "metadata": {},
   "source": [
    "#### Correct Classification"
   ]
  },
  {
   "cell_type": "code",
   "execution_count": 42,
   "id": "certain-croatia",
   "metadata": {},
   "outputs": [
    {
     "name": "stdout",
     "output_type": "stream",
     "text": [
      "Mean value of initial beat: 0.73 +- 2.09%\n",
      "Mean value of mid beat: 1.68 +- 4.11%\n",
      "Mean value of final beat: 2.43 +- 4.88%\n"
     ]
    }
   ],
   "source": [
    "present(folder, ['pred_results', 'ok'])"
   ]
  },
  {
   "cell_type": "markdown",
   "id": "serious-oracle",
   "metadata": {},
   "source": [
    "#### Incorrect Classification"
   ]
  },
  {
   "cell_type": "code",
   "execution_count": 43,
   "id": "renewable-breach",
   "metadata": {},
   "outputs": [
    {
     "name": "stdout",
     "output_type": "stream",
     "text": [
      "Mean value of initial beat: 1.31 +- 2.58%\n",
      "Mean value of mid beat: 3.50 +- 6.87%\n",
      "Mean value of final beat: 2.41 +- 6.73%\n"
     ]
    }
   ],
   "source": [
    "present(folder, ['pred_results', 'wrong'])"
   ]
  },
  {
   "cell_type": "markdown",
   "id": "electoral-paris",
   "metadata": {},
   "source": [
    "#### Normal Label"
   ]
  },
  {
   "cell_type": "code",
   "execution_count": 44,
   "id": "received-timing",
   "metadata": {},
   "outputs": [
    {
     "name": "stdout",
     "output_type": "stream",
     "text": [
      "Mean value of initial beat: 0.68 +- 2.03%\n",
      "Mean value of mid beat: 1.82 +- 4.68%\n",
      "Mean value of final beat: 2.03 +- 4.27%\n"
     ]
    }
   ],
   "source": [
    "present(folder, ['true_labels', 'normal'])"
   ]
  },
  {
   "cell_type": "markdown",
   "id": "looking-interest",
   "metadata": {},
   "source": [
    "#### Abnormal Label"
   ]
  },
  {
   "cell_type": "code",
   "execution_count": 45,
   "id": "industrial-voice",
   "metadata": {},
   "outputs": [
    {
     "name": "stdout",
     "output_type": "stream",
     "text": [
      "Mean value of initial beat: 2.13 +- 2.99%\n",
      "Mean value of mid beat: 3.89 +- 5.73%\n",
      "Mean value of final beat: 5.88 +- 8.41%\n"
     ]
    }
   ],
   "source": [
    "present(folder, ['true_labels', 'abnormal'])"
   ]
  }
 ],
 "metadata": {
  "kernelspec": {
   "display_name": "Python 3",
   "language": "python",
   "name": "python3"
  },
  "language_info": {
   "codemirror_mode": {
    "name": "ipython",
    "version": 3
   },
   "file_extension": ".py",
   "mimetype": "text/x-python",
   "name": "python",
   "nbconvert_exporter": "python",
   "pygments_lexer": "ipython3",
   "version": "3.6.5"
  }
 },
 "nbformat": 4,
 "nbformat_minor": 5
}
