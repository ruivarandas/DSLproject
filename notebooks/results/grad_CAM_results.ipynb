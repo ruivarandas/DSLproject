{
 "cells": [
  {
   "cell_type": "markdown",
   "metadata": {},
   "source": [
    "# Results"
   ]
  },
  {
   "cell_type": "markdown",
   "metadata": {},
   "source": [
    "We will present the results of the metrics in this notebook."
   ]
  },
  {
   "cell_type": "code",
   "execution_count": 1,
   "metadata": {
    "execution": {
     "iopub.execute_input": "2021-05-06T09:43:53.912411Z",
     "iopub.status.busy": "2021-05-06T09:43:53.911444Z",
     "iopub.status.idle": "2021-05-06T09:43:54.162597Z",
     "shell.execute_reply": "2021-05-06T09:43:54.162164Z",
     "shell.execute_reply.started": "2021-05-06T09:43:53.912290Z"
    },
    "tags": []
   },
   "outputs": [],
   "source": [
    "from results_preparation import *"
   ]
  },
  {
   "cell_type": "code",
   "execution_count": 2,
   "metadata": {
    "execution": {
     "iopub.execute_input": "2021-05-06T09:43:54.164178Z",
     "iopub.status.busy": "2021-05-06T09:43:54.164037Z",
     "iopub.status.idle": "2021-05-06T09:43:54.166593Z",
     "shell.execute_reply": "2021-05-06T09:43:54.166143Z",
     "shell.execute_reply.started": "2021-05-06T09:43:54.164162Z"
    },
    "tags": []
   },
   "outputs": [],
   "source": [
    "folder = \"../../XAI_metrics/metrics/\""
   ]
  },
  {
   "cell_type": "markdown",
   "metadata": {},
   "source": [
    "## Sum of the ROI divided by the Total sum"
   ]
  },
  {
   "cell_type": "markdown",
   "metadata": {},
   "source": [
    "### Saliency Maps"
   ]
  },
  {
   "cell_type": "markdown",
   "metadata": {},
   "source": [
    "#### All Values"
   ]
  },
  {
   "cell_type": "code",
   "execution_count": 4,
   "metadata": {
    "execution": {
     "iopub.execute_input": "2021-05-06T09:43:55.638027Z",
     "iopub.status.busy": "2021-05-06T09:43:55.637802Z",
     "iopub.status.idle": "2021-05-06T09:43:57.413914Z",
     "shell.execute_reply": "2021-05-06T09:43:57.413389Z",
     "shell.execute_reply.started": "2021-05-06T09:43:55.638002Z"
    },
    "tags": []
   },
   "outputs": [
    {
     "name": "stdout",
     "output_type": "stream",
     "text": [
      "Mean value of initial beat: 8.72 +- 5.16%\n",
      "Mean value of final beat: 22.74 +- 11.46%\n"
     ]
    },
    {
     "data": {
      "image/png": "[encoded data removed]",
      "text/plain": [
       "<Figure size 720x360 with 2 Axes>"
      ]
     },
     "metadata": {
      "needs_background": "light"
     },
     "output_type": "display_data"
    }
   ],
   "source": [
    "values = present_values(folder, \"grad_cam\")"
   ]
  },
  {
   "cell_type": "markdown",
   "metadata": {},
   "source": [
    "#### All But 0's"
   ]
  },
  {
   "cell_type": "code",
   "execution_count": 8,
   "metadata": {
    "execution": {
     "iopub.execute_input": "2021-03-31T14:50:13.061072Z",
     "iopub.status.busy": "2021-03-31T14:50:13.060845Z",
     "iopub.status.idle": "2021-03-31T14:50:13.873316Z",
     "shell.execute_reply": "2021-03-31T14:50:13.872834Z",
     "shell.execute_reply.started": "2021-03-31T14:50:13.061045Z"
    },
    "tags": []
   },
   "outputs": [],
   "source": [
    "present_values(folder, \"grad_cam\", 0)"
   ]
  },
  {
   "cell_type": "markdown",
   "metadata": {},
   "source": [
    "#### Correct Classification"
   ]
  },
  {
   "cell_type": "code",
   "execution_count": 9,
   "metadata": {
    "execution": {
     "iopub.execute_input": "2021-03-31T14:50:15.077089Z",
     "iopub.status.busy": "2021-03-31T14:50:15.076822Z",
     "iopub.status.idle": "2021-03-31T14:50:15.904904Z",
     "shell.execute_reply": "2021-03-31T14:50:15.904507Z",
     "shell.execute_reply.started": "2021-03-31T14:50:15.077058Z"
    },
    "tags": []
   },
   "outputs": [],
   "source": [
    "present(folder, \"grad_cam\", ['pred_results', 'ok'], but_zeros=False)"
   ]
  },
  {
   "cell_type": "markdown",
   "metadata": {},
   "source": [
    "#### Incorrect Classification"
   ]
  },
  {
   "cell_type": "code",
   "execution_count": 10,
   "metadata": {
    "execution": {
     "iopub.execute_input": "2021-03-31T14:50:19.782630Z",
     "iopub.status.busy": "2021-03-31T14:50:19.782278Z",
     "iopub.status.idle": "2021-03-31T14:50:20.531436Z",
     "shell.execute_reply": "2021-03-31T14:50:20.530838Z",
     "shell.execute_reply.started": "2021-03-31T14:50:19.782592Z"
    },
    "tags": []
   },
   "outputs": [],
   "source": [
    "present(folder,\"grad_cam\", ['pred_results', 'wrong'], but_zeros=False)"
   ]
  },
  {
   "cell_type": "markdown",
   "metadata": {},
   "source": [
    "#### Normal Label"
   ]
  },
  {
   "cell_type": "code",
   "execution_count": 11,
   "metadata": {
    "execution": {
     "iopub.execute_input": "2021-03-31T14:50:22.218011Z",
     "iopub.status.busy": "2021-03-31T14:50:22.217844Z",
     "iopub.status.idle": "2021-03-31T14:50:23.015695Z",
     "shell.execute_reply": "2021-03-31T14:50:23.015222Z",
     "shell.execute_reply.started": "2021-03-31T14:50:22.217992Z"
    },
    "tags": []
   },
   "outputs": [],
   "source": [
    "present(folder, \"grad_cam\", ['true_labels', 'normal'], but_zeros=False)"
   ]
  },
  {
   "cell_type": "markdown",
   "metadata": {},
   "source": [
    "#### Abnormal Label"
   ]
  },
  {
   "cell_type": "code",
   "execution_count": 12,
   "metadata": {
    "execution": {
     "iopub.execute_input": "2021-03-31T14:50:24.459518Z",
     "iopub.status.busy": "2021-03-31T14:50:24.459316Z",
     "iopub.status.idle": "2021-03-31T14:50:25.183403Z",
     "shell.execute_reply": "2021-03-31T14:50:25.182869Z",
     "shell.execute_reply.started": "2021-03-31T14:50:24.459497Z"
    },
    "tags": []
   },
   "outputs": [],
   "source": [
    "present(folder, \"grad_cam\", ['true_labels', 'abnormal'], but_zeros=False)"
   ]
  },
  {
   "cell_type": "markdown",
   "metadata": {
    "execution": {
     "iopub.execute_input": "2021-03-11T11:24:29.515708Z",
     "iopub.status.busy": "2021-03-11T11:24:29.515420Z",
     "iopub.status.idle": "2021-03-11T11:24:29.753350Z",
     "shell.execute_reply": "2021-03-11T11:24:29.752848Z",
     "shell.execute_reply.started": "2021-03-11T11:24:29.515637Z"
    },
    "tags": []
   },
   "source": [
    "# Attention Maps Comparison"
   ]
  },
  {
   "cell_type": "code",
   "execution_count": 13,
   "metadata": {
    "execution": {
     "iopub.execute_input": "2021-03-31T14:50:28.116210Z",
     "iopub.status.busy": "2021-03-31T14:50:28.115964Z",
     "iopub.status.idle": "2021-03-31T14:50:28.119689Z",
     "shell.execute_reply": "2021-03-31T14:50:28.118646Z",
     "shell.execute_reply.started": "2021-03-31T14:50:28.116181Z"
    },
    "tags": []
   },
   "outputs": [],
   "source": [
    "# folder = '../../data/attribution_maps/'\n",
    "folder_maps = \"/mnt/Media/bernardo/attribution_maps_revisited/\""
   ]
  },
  {
   "cell_type": "code",
   "execution_count": 14,
   "metadata": {
    "execution": {
     "iopub.execute_input": "2021-03-31T14:50:29.002349Z",
     "iopub.status.busy": "2021-03-31T14:50:29.002133Z",
     "iopub.status.idle": "2021-03-31T14:50:37.363843Z",
     "shell.execute_reply": "2021-03-31T14:50:37.363278Z",
     "shell.execute_reply.started": "2021-03-31T14:50:29.002325Z"
    },
    "tags": []
   },
   "outputs": [],
   "source": [
    "maps_comparison(\"initial\", \"grad_cam_map\", \"normal\", folder_maps)"
   ]
  },
  {
   "cell_type": "code",
   "execution_count": null,
   "metadata": {},
   "outputs": [],
   "source": []
  }
 ],
 "metadata": {
  "kernelspec": {
   "display_name": "Python 3",
   "language": "python",
   "name": "python3"
  },
  "language_info": {
   "codemirror_mode": {
    "name": "ipython",
    "version": 3
   },
   "file_extension": ".py",
   "mimetype": "text/x-python",
   "name": "python",
   "nbconvert_exporter": "python",
   "pygments_lexer": "ipython3",
   "version": "3.7.6"
  }
 },
 "nbformat": 4,
 "nbformat_minor": 5
}
