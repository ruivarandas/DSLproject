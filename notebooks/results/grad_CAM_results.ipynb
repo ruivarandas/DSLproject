{
 "cells": [
  {
   "cell_type": "markdown",
   "id": "aggressive-means",
   "metadata": {},
   "source": [
    "# Results"
   ]
  },
  {
   "cell_type": "markdown",
   "id": "northern-adoption",
   "metadata": {},
   "source": [
    "We will present the results of the metrics in this notebook."
   ]
  },
  {
   "cell_type": "code",
   "execution_count": 1,
   "id": "subsequent-berry",
   "metadata": {
    "execution": {
     "iopub.execute_input": "2021-03-09T10:09:16.610838Z",
     "iopub.status.busy": "2021-03-09T10:09:16.609885Z",
     "iopub.status.idle": "2021-03-09T10:09:16.692641Z",
     "shell.execute_reply": "2021-03-09T10:09:16.692160Z",
     "shell.execute_reply.started": "2021-03-09T10:09:16.610630Z"
    }
   },
   "outputs": [],
   "source": [
    "from json import load\n",
    "from os.path import join\n",
    "import numpy as np"
   ]
  },
  {
   "cell_type": "code",
   "execution_count": 7,
   "id": "ideal-joyce",
   "metadata": {
    "execution": {
     "iopub.execute_input": "2021-03-09T10:09:23.087297Z",
     "iopub.status.busy": "2021-03-09T10:09:23.086953Z",
     "iopub.status.idle": "2021-03-09T10:09:23.100018Z",
     "shell.execute_reply": "2021-03-09T10:09:23.099116Z",
     "shell.execute_reply.started": "2021-03-09T10:09:23.087256Z"
    },
    "tags": []
   },
   "outputs": [],
   "source": [
    "def convert_to_float(data):\n",
    "    return np.array([float(val) for val in data])\n",
    "\n",
    "def present_values(folder, params=None):\n",
    "    for beat in ['initial', 'mid', 'final']:\n",
    "        path_to_results = join(folder, f\"{beat}_grad_cam_map_metrics.json\")\n",
    "        with open(path_to_results, 'r') as file:\n",
    "            sal_initial = load(file)\n",
    "        values = convert_to_float(sal_initial['values'])\n",
    "        if params is not None:\n",
    "            values = values[np.where(values != params)]\n",
    "        print(f\"Mean value of {beat} beat: {np.nanmean(values)*100:.2f} +- {np.nanstd(values)*100:.2f}%\")\n",
    "    return values\n",
    "\n",
    "def present(folder, params=None):\n",
    "    for beat in ['initial', 'mid', 'final']:\n",
    "        path_to_results = join(folder, f\"{beat}_grad_cam_map_metrics.json\")\n",
    "        with open(path_to_results, 'r') as file:\n",
    "            sal_initial = load(file)\n",
    "        values = convert_to_float(sal_initial['values'])\n",
    "        if params is not None:\n",
    "            values = values[np.where(np.array(sal_initial[params[0]]) == params[1])]\n",
    "        print(f\"Mean value of {beat} beat: {np.nanmean(values)*100:.2f} +- {np.nanstd(values)*100:.2f}%\")"
   ]
  },
  {
   "cell_type": "markdown",
   "id": "disciplinary-fusion",
   "metadata": {},
   "source": [
    "## Sum of the ROI divided by the Total sum"
   ]
  },
  {
   "cell_type": "code",
   "execution_count": 8,
   "id": "conscious-plate",
   "metadata": {
    "execution": {
     "iopub.execute_input": "2021-03-09T10:09:23.779216Z",
     "iopub.status.busy": "2021-03-09T10:09:23.778792Z",
     "iopub.status.idle": "2021-03-09T10:09:23.783009Z",
     "shell.execute_reply": "2021-03-09T10:09:23.782048Z",
     "shell.execute_reply.started": "2021-03-09T10:09:23.779166Z"
    },
    "tags": []
   },
   "outputs": [],
   "source": [
    "folder = \"../../XAI_metrics/metrics/\""
   ]
  },
  {
   "cell_type": "markdown",
   "id": "printable-girlfriend",
   "metadata": {},
   "source": [
    "### Saliency Maps"
   ]
  },
  {
   "cell_type": "markdown",
   "id": "attached-powder",
   "metadata": {},
   "source": [
    "#### All Values"
   ]
  },
  {
   "cell_type": "code",
   "execution_count": 9,
   "id": "revolutionary-guide",
   "metadata": {
    "execution": {
     "iopub.execute_input": "2021-03-09T10:09:24.424157Z",
     "iopub.status.busy": "2021-03-09T10:09:24.423806Z",
     "iopub.status.idle": "2021-03-09T10:09:24.503484Z",
     "shell.execute_reply": "2021-03-09T10:09:24.502823Z",
     "shell.execute_reply.started": "2021-03-09T10:09:24.424118Z"
    },
    "tags": []
   },
   "outputs": [
    {
     "name": "stdout",
     "output_type": "stream",
     "text": [
      "Mean value of initial beat: 1.66 +- 4.67%\n",
      "Mean value of mid beat: 2.26 +- 4.92%\n",
      "Mean value of final beat: 2.43 +- 5.01%\n"
     ]
    },
    {
     "data": {
      "text/plain": [
       "True"
      ]
     },
     "execution_count": 9,
     "metadata": {},
     "output_type": "execute_result"
    }
   ],
   "source": [
    "values = present_values(folder)\n",
    "any(np.isnan(values[np.where(values != np.nan)]))"
   ]
  },
  {
   "cell_type": "markdown",
   "id": "broke-worcester",
   "metadata": {},
   "source": [
    "#### All But 0's"
   ]
  },
  {
   "cell_type": "code",
   "execution_count": 10,
   "id": "loving-feeling",
   "metadata": {
    "execution": {
     "iopub.execute_input": "2021-03-09T10:09:24.943155Z",
     "iopub.status.busy": "2021-03-09T10:09:24.942804Z",
     "iopub.status.idle": "2021-03-09T10:09:25.017554Z",
     "shell.execute_reply": "2021-03-09T10:09:25.016908Z",
     "shell.execute_reply.started": "2021-03-09T10:09:24.943115Z"
    },
    "tags": []
   },
   "outputs": [
    {
     "name": "stdout",
     "output_type": "stream",
     "text": [
      "Mean value of initial beat: 8.15 +- 7.37%\n",
      "Mean value of mid beat: 8.96 +- 5.99%\n",
      "Mean value of final beat: 10.37 +- 4.96%\n"
     ]
    },
    {
     "data": {
      "text/plain": [
       "array([5.7722060e-04, 8.5006000e-02, 5.9544283e-01, ..., 1.2888367e-01,\n",
       "       4.5776203e-02, 4.5809526e-02])"
      ]
     },
     "execution_count": 10,
     "metadata": {},
     "output_type": "execute_result"
    }
   ],
   "source": [
    "present_values(folder, 0)"
   ]
  },
  {
   "cell_type": "markdown",
   "id": "bottom-physiology",
   "metadata": {},
   "source": [
    "#### Correct Classification"
   ]
  },
  {
   "cell_type": "code",
   "execution_count": 11,
   "id": "incomplete-aruba",
   "metadata": {
    "execution": {
     "iopub.execute_input": "2021-03-09T10:09:25.328394Z",
     "iopub.status.busy": "2021-03-09T10:09:25.328022Z",
     "iopub.status.idle": "2021-03-09T10:09:25.421571Z",
     "shell.execute_reply": "2021-03-09T10:09:25.420432Z",
     "shell.execute_reply.started": "2021-03-09T10:09:25.328351Z"
    }
   },
   "outputs": [
    {
     "name": "stdout",
     "output_type": "stream",
     "text": [
      "Mean value of initial beat: 1.62 +- 4.50%\n",
      "Mean value of mid beat: 2.06 +- 4.20%\n",
      "Mean value of final beat: 2.43 +- 4.88%\n"
     ]
    }
   ],
   "source": [
    "present(folder, ['pred_results', 'ok'])"
   ]
  },
  {
   "cell_type": "markdown",
   "id": "brazilian-paradise",
   "metadata": {},
   "source": [
    "#### Incorrect Classification"
   ]
  },
  {
   "cell_type": "code",
   "execution_count": 12,
   "id": "sound-merit",
   "metadata": {
    "execution": {
     "iopub.execute_input": "2021-03-09T10:09:25.717724Z",
     "iopub.status.busy": "2021-03-09T10:09:25.717422Z",
     "iopub.status.idle": "2021-03-09T10:09:25.803559Z",
     "shell.execute_reply": "2021-03-09T10:09:25.803043Z",
     "shell.execute_reply.started": "2021-03-09T10:09:25.717688Z"
    }
   },
   "outputs": [
    {
     "name": "stdout",
     "output_type": "stream",
     "text": [
      "Mean value of initial beat: 2.14 +- 6.43%\n",
      "Mean value of mid beat: 4.32 +- 9.34%\n",
      "Mean value of final beat: 2.41 +- 6.73%\n"
     ]
    }
   ],
   "source": [
    "present(folder, ['pred_results', 'wrong'])"
   ]
  },
  {
   "cell_type": "markdown",
   "id": "second-wallpaper",
   "metadata": {},
   "source": [
    "#### Normal Label"
   ]
  },
  {
   "cell_type": "code",
   "execution_count": 13,
   "id": "secure-armor",
   "metadata": {
    "execution": {
     "iopub.execute_input": "2021-03-09T10:09:26.153688Z",
     "iopub.status.busy": "2021-03-09T10:09:26.153071Z",
     "iopub.status.idle": "2021-03-09T10:09:26.248561Z",
     "shell.execute_reply": "2021-03-09T10:09:26.248068Z",
     "shell.execute_reply.started": "2021-03-09T10:09:26.153613Z"
    }
   },
   "outputs": [
    {
     "name": "stdout",
     "output_type": "stream",
     "text": [
      "Mean value of initial beat: 0.85 +- 2.18%\n",
      "Mean value of mid beat: 2.14 +- 4.82%\n",
      "Mean value of final beat: 2.03 +- 4.27%\n"
     ]
    }
   ],
   "source": [
    "present(folder, ['true_labels', 'normal'])"
   ]
  },
  {
   "cell_type": "markdown",
   "id": "fossil-physiology",
   "metadata": {},
   "source": [
    "#### Abnormal Label"
   ]
  },
  {
   "cell_type": "code",
   "execution_count": 14,
   "id": "determined-poland",
   "metadata": {
    "execution": {
     "iopub.execute_input": "2021-03-09T10:09:26.873384Z",
     "iopub.status.busy": "2021-03-09T10:09:26.872935Z",
     "iopub.status.idle": "2021-03-09T10:09:26.956056Z",
     "shell.execute_reply": "2021-03-09T10:09:26.955544Z",
     "shell.execute_reply.started": "2021-03-09T10:09:26.873330Z"
    }
   },
   "outputs": [
    {
     "name": "stdout",
     "output_type": "stream",
     "text": [
      "Mean value of initial beat: 8.22 +- 10.60%\n",
      "Mean value of mid beat: 3.29 +- 5.61%\n",
      "Mean value of final beat: 5.88 +- 8.41%\n"
     ]
    }
   ],
   "source": [
    "present(folder, ['true_labels', 'abnormal'])"
   ]
  },
  {
   "cell_type": "code",
   "execution_count": null,
   "id": "looking-sport",
   "metadata": {},
   "outputs": [],
   "source": []
  }
 ],
 "metadata": {
  "kernelspec": {
   "display_name": "Python 3",
   "language": "python",
   "name": "python3"
  },
  "language_info": {
   "codemirror_mode": {
    "name": "ipython",
    "version": 3
   },
   "file_extension": ".py",
   "mimetype": "text/x-python",
   "name": "python",
   "nbconvert_exporter": "python",
   "pygments_lexer": "ipython3",
   "version": "3.8.5"
  }
 },
 "nbformat": 4,
 "nbformat_minor": 5
}
