{
 "cells": [
  {
   "cell_type": "markdown",
   "id": "decreased-father",
   "metadata": {},
   "source": [
    "# Results"
   ]
  },
  {
   "cell_type": "markdown",
   "id": "behavioral-guatemala",
   "metadata": {},
   "source": [
    "We will present the results of the metrics in this notebook."
   ]
  },
  {
   "cell_type": "code",
   "execution_count": 1,
   "id": "infectious-history",
   "metadata": {
    "execution": {
     "iopub.execute_input": "2021-03-11T10:37:25.586946Z",
     "iopub.status.busy": "2021-03-11T10:37:25.586731Z",
     "iopub.status.idle": "2021-03-11T10:37:25.649449Z",
     "shell.execute_reply": "2021-03-11T10:37:25.648959Z",
     "shell.execute_reply.started": "2021-03-11T10:37:25.586891Z"
    },
    "tags": []
   },
   "outputs": [],
   "source": [
    "from json import load\n",
    "from os.path import join\n",
    "import numpy as np"
   ]
  },
  {
   "cell_type": "code",
   "execution_count": 2,
   "id": "naval-newton",
   "metadata": {
    "execution": {
     "iopub.execute_input": "2021-03-11T10:37:25.933744Z",
     "iopub.status.busy": "2021-03-11T10:37:25.933537Z",
     "iopub.status.idle": "2021-03-11T10:37:25.939523Z",
     "shell.execute_reply": "2021-03-11T10:37:25.939096Z",
     "shell.execute_reply.started": "2021-03-11T10:37:25.933723Z"
    },
    "tags": []
   },
   "outputs": [],
   "source": [
    "def convert_to_float(data):\n",
    "    return np.array([float(val) for val in data])\n",
    "\n",
    "def present_values(folder, params=None):\n",
    "    for beat in ['initial', 'mid', 'final']:\n",
    "        path_to_results = join(folder, f\"{beat}_grad_cam_map_metrics.json\")\n",
    "        with open(path_to_results, 'r') as file:\n",
    "            sal_initial = load(file)\n",
    "        values = convert_to_float(sal_initial['values'])\n",
    "        if params is not None:\n",
    "            values = values[np.where(values != params)]\n",
    "        print(f\"Mean value of {beat} beat: {np.nanmean(values)*100:.2f} +- {np.nanstd(values)*100:.2f}%\")\n",
    "    return values\n",
    "\n",
    "def present(folder, params=None):\n",
    "    for beat in ['initial', 'mid', 'final']:\n",
    "        path_to_results = join(folder, f\"{beat}_grad_cam_map_metrics.json\")\n",
    "        with open(path_to_results, 'r') as file:\n",
    "            sal_initial = load(file)\n",
    "        values = convert_to_float(sal_initial['values'])\n",
    "        if params is not None:\n",
    "            values = values[np.where(np.array(sal_initial[params[0]]) == params[1])]\n",
    "        print(f\"Mean value of {beat} beat: {np.nanmean(values)*100:.2f} +- {np.nanstd(values)*100:.2f}%\")"
   ]
  },
  {
   "cell_type": "markdown",
   "id": "several-wonder",
   "metadata": {},
   "source": [
    "## Sum of the ROI divided by the Total sum"
   ]
  },
  {
   "cell_type": "code",
   "execution_count": 3,
   "id": "future-graph",
   "metadata": {
    "execution": {
     "iopub.execute_input": "2021-03-11T10:37:26.662767Z",
     "iopub.status.busy": "2021-03-11T10:37:26.662528Z",
     "iopub.status.idle": "2021-03-11T10:37:26.666287Z",
     "shell.execute_reply": "2021-03-11T10:37:26.665498Z",
     "shell.execute_reply.started": "2021-03-11T10:37:26.662740Z"
    },
    "tags": []
   },
   "outputs": [],
   "source": [
    "folder = \"../../XAI_metrics/metrics/no_grid\""
   ]
  },
  {
   "cell_type": "markdown",
   "id": "subtle-reggae",
   "metadata": {},
   "source": [
    "### Saliency Maps"
   ]
  },
  {
   "cell_type": "markdown",
   "id": "narrative-symposium",
   "metadata": {},
   "source": [
    "#### All Values"
   ]
  },
  {
   "cell_type": "code",
   "execution_count": 4,
   "id": "formed-employee",
   "metadata": {
    "execution": {
     "iopub.execute_input": "2021-03-11T10:37:27.952248Z",
     "iopub.status.busy": "2021-03-11T10:37:27.952033Z",
     "iopub.status.idle": "2021-03-11T10:37:28.045356Z",
     "shell.execute_reply": "2021-03-11T10:37:28.044899Z",
     "shell.execute_reply.started": "2021-03-11T10:37:27.952223Z"
    },
    "tags": []
   },
   "outputs": [
    {
     "name": "stdout",
     "output_type": "stream",
     "text": [
      "Mean value of initial beat: 1.57 +- 3.95%\n",
      "Mean value of mid beat: 2.24 +- 4.84%\n",
      "Mean value of final beat: 5.21 +- 11.06%\n"
     ]
    },
    {
     "data": {
      "text/plain": [
       "False"
      ]
     },
     "execution_count": 4,
     "metadata": {},
     "output_type": "execute_result"
    }
   ],
   "source": [
    "values = present_values(folder)\n",
    "any(np.isnan(values[np.where(values != np.nan)]))"
   ]
  },
  {
   "cell_type": "markdown",
   "id": "large-polyester",
   "metadata": {},
   "source": [
    "#### All But 0's"
   ]
  },
  {
   "cell_type": "code",
   "execution_count": 5,
   "id": "changing-empty",
   "metadata": {
    "execution": {
     "iopub.execute_input": "2021-03-11T10:37:34.908434Z",
     "iopub.status.busy": "2021-03-11T10:37:34.908143Z",
     "iopub.status.idle": "2021-03-11T10:37:34.979994Z",
     "shell.execute_reply": "2021-03-11T10:37:34.979393Z",
     "shell.execute_reply.started": "2021-03-11T10:37:34.908402Z"
    },
    "tags": []
   },
   "outputs": [
    {
     "name": "stdout",
     "output_type": "stream",
     "text": [
      "Mean value of initial beat: 7.89 +- 5.34%\n",
      "Mean value of mid beat: 9.51 +- 5.49%\n",
      "Mean value of final beat: 21.69 +- 12.29%\n"
     ]
    },
    {
     "data": {
      "text/plain": [
       "array([0.07476282, 0.00648333, 0.21698704, ..., 0.21422066, 0.13777153,\n",
       "       0.052109  ])"
      ]
     },
     "execution_count": 5,
     "metadata": {},
     "output_type": "execute_result"
    }
   ],
   "source": [
    "present_values(folder, 0)"
   ]
  },
  {
   "cell_type": "markdown",
   "id": "paperback-metabolism",
   "metadata": {},
   "source": [
    "#### Correct Classification"
   ]
  },
  {
   "cell_type": "code",
   "execution_count": 7,
   "id": "racial-chrome",
   "metadata": {
    "execution": {
     "iopub.execute_input": "2021-03-11T10:37:47.729492Z",
     "iopub.status.busy": "2021-03-11T10:37:47.729150Z",
     "iopub.status.idle": "2021-03-11T10:37:47.814201Z",
     "shell.execute_reply": "2021-03-11T10:37:47.813647Z",
     "shell.execute_reply.started": "2021-03-11T10:37:47.729454Z"
    },
    "tags": []
   },
   "outputs": [
    {
     "name": "stdout",
     "output_type": "stream",
     "text": [
      "Mean value of initial beat: 1.51 +- 3.60%\n",
      "Mean value of mid beat: 2.25 +- 4.79%\n",
      "Mean value of final beat: 5.36 +- 11.17%\n"
     ]
    }
   ],
   "source": [
    "present(folder, ['pred_results', 'ok'])"
   ]
  },
  {
   "cell_type": "markdown",
   "id": "classical-accessory",
   "metadata": {},
   "source": [
    "#### Incorrect Classification"
   ]
  },
  {
   "cell_type": "code",
   "execution_count": 8,
   "id": "incomplete-logan",
   "metadata": {
    "execution": {
     "iopub.execute_input": "2021-03-11T10:37:50.789239Z",
     "iopub.status.busy": "2021-03-11T10:37:50.788789Z",
     "iopub.status.idle": "2021-03-11T10:37:50.876312Z",
     "shell.execute_reply": "2021-03-11T10:37:50.875713Z",
     "shell.execute_reply.started": "2021-03-11T10:37:50.789188Z"
    },
    "tags": []
   },
   "outputs": [
    {
     "name": "stdout",
     "output_type": "stream",
     "text": [
      "Mean value of initial beat: 2.31 +- 6.73%\n",
      "Mean value of mid beat: 2.15 +- 5.53%\n",
      "Mean value of final beat: 3.11 +- 9.02%\n"
     ]
    }
   ],
   "source": [
    "present(folder, ['pred_results', 'wrong'])"
   ]
  },
  {
   "cell_type": "markdown",
   "id": "sexual-calibration",
   "metadata": {},
   "source": [
    "#### Normal Label"
   ]
  },
  {
   "cell_type": "code",
   "execution_count": 9,
   "id": "quiet-witness",
   "metadata": {
    "execution": {
     "iopub.execute_input": "2021-03-11T10:37:55.513927Z",
     "iopub.status.busy": "2021-03-11T10:37:55.513573Z",
     "iopub.status.idle": "2021-03-11T10:37:55.603498Z",
     "shell.execute_reply": "2021-03-11T10:37:55.603092Z",
     "shell.execute_reply.started": "2021-03-11T10:37:55.513887Z"
    },
    "tags": []
   },
   "outputs": [
    {
     "name": "stdout",
     "output_type": "stream",
     "text": [
      "Mean value of initial beat: 1.16 +- 2.84%\n",
      "Mean value of mid beat: 1.88 +- 4.37%\n",
      "Mean value of final beat: 4.60 +- 10.47%\n"
     ]
    }
   ],
   "source": [
    "present(folder, ['true_labels', 'normal'])"
   ]
  },
  {
   "cell_type": "markdown",
   "id": "protective-burton",
   "metadata": {},
   "source": [
    "#### Abnormal Label"
   ]
  },
  {
   "cell_type": "code",
   "execution_count": 10,
   "id": "intermediate-company",
   "metadata": {
    "execution": {
     "iopub.execute_input": "2021-03-11T10:37:58.643426Z",
     "iopub.status.busy": "2021-03-11T10:37:58.642900Z",
     "iopub.status.idle": "2021-03-11T10:37:58.751581Z",
     "shell.execute_reply": "2021-03-11T10:37:58.751123Z",
     "shell.execute_reply.started": "2021-03-11T10:37:58.643369Z"
    },
    "tags": []
   },
   "outputs": [
    {
     "name": "stdout",
     "output_type": "stream",
     "text": [
      "Mean value of initial beat: 5.25 +- 8.25%\n",
      "Mean value of mid beat: 5.40 +- 7.09%\n",
      "Mean value of final beat: 10.18 +- 14.04%\n"
     ]
    }
   ],
   "source": [
    "present(folder, ['true_labels', 'abnormal'])"
   ]
  },
  {
   "cell_type": "code",
   "execution_count": null,
   "id": "prerequisite-kingston",
   "metadata": {},
   "outputs": [],
   "source": [
    "from os import listdir\n",
    "from os.path import join\n",
    "import matplotlib.pyplot as plt\n",
    "import cv2\n",
    "\n",
    "path1 =  \"/mnt/Media/bernardo/attribution_maps_with_grid/attribution_maps/grad_cam_/label_final_beat/abnormal\"\n",
    "path2 = \"/mnt/Media/bernardo/attribution_maps_no_grid/attribution_maps/saliency_map/label_final_beat/abnormal\"\n",
    "folder1 = listdir(path1)\n",
    "folder2 = listdir(path2)\n",
    "\n",
    "for file in folder1:\n",
    "    if file in folder2:\n",
    "        print(file)\n",
    "        fig, (ax1, ax2) = plt.subplots(ncols=2, figsize=(18,10))\n",
    "        ax1.imshow(cv2.imread(join(path1, file)))\n",
    "        ax2.imshow(cv2.imread(join(path2, file)))\n",
    "        ax1.axis('off')\n",
    "        ax2.axis('off')\n",
    "        plt.tight_layout()\n",
    "        plt.show()"
   ]
  }
 ],
 "metadata": {
  "kernelspec": {
   "display_name": "Python 3",
   "language": "python",
   "name": "python3"
  },
  "language_info": {
   "codemirror_mode": {
    "name": "ipython",
    "version": 3
   },
   "file_extension": ".py",
   "mimetype": "text/x-python",
   "name": "python",
   "nbconvert_exporter": "python",
   "pygments_lexer": "ipython3",
   "version": "3.8.5"
  }
 },
 "nbformat": 4,
 "nbformat_minor": 5
}
