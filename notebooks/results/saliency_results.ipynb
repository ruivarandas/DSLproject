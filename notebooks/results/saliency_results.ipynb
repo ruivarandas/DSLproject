{
 "cells": [
  {
   "cell_type": "markdown",
   "metadata": {},
   "source": [
    "# Results"
   ]
  },
  {
   "cell_type": "markdown",
   "metadata": {},
   "source": [
    "We will present the results of the metrics in this notebook."
   ]
  },
  {
   "cell_type": "code",
   "execution_count": null,
   "metadata": {
    "execution": {
     "iopub.execute_input": "2021-03-31T14:48:25.593825Z",
     "iopub.status.busy": "2021-03-31T14:48:25.593547Z",
     "iopub.status.idle": "2021-03-31T14:48:25.854366Z",
     "shell.execute_reply": "2021-03-31T14:48:25.853851Z",
     "shell.execute_reply.started": "2021-03-31T14:48:25.593752Z"
    },
    "tags": []
   },
   "outputs": [],
   "source": [
    "%matplotlib inline\n",
    "\n",
    "from results_preparation import *"
   ]
  },
  {
   "cell_type": "markdown",
   "metadata": {},
   "source": [
    "## Sum of the ROI divided by the Total sum"
   ]
  },
  {
   "cell_type": "code",
   "execution_count": null,
   "metadata": {
    "execution": {
     "iopub.execute_input": "2021-03-31T14:48:26.327645Z",
     "iopub.status.busy": "2021-03-31T14:48:26.327454Z",
     "iopub.status.idle": "2021-03-31T14:48:26.330329Z",
     "shell.execute_reply": "2021-03-31T14:48:26.329655Z",
     "shell.execute_reply.started": "2021-03-31T14:48:26.327626Z"
    },
    "tags": []
   },
   "outputs": [],
   "source": [
    "folder = \"../../XAI_metrics/metrics/no_grid\""
   ]
  },
  {
   "cell_type": "markdown",
   "metadata": {},
   "source": [
    "### Saliency Maps"
   ]
  },
  {
   "cell_type": "markdown",
   "metadata": {},
   "source": [
    "#### All Values"
   ]
  },
  {
   "cell_type": "code",
   "execution_count": null,
   "metadata": {
    "execution": {
     "iopub.execute_input": "2021-03-31T14:48:27.243782Z",
     "iopub.status.busy": "2021-03-31T14:48:27.243611Z",
     "iopub.status.idle": "2021-03-31T14:48:28.223174Z",
     "shell.execute_reply": "2021-03-31T14:48:28.222590Z",
     "shell.execute_reply.started": "2021-03-31T14:48:27.243764Z"
    },
    "tags": []
   },
   "outputs": [],
   "source": [
    "present_values(folder, \"saliency\")"
   ]
  },
  {
   "cell_type": "markdown",
   "metadata": {},
   "source": [
    "#### All But 0's"
   ]
  },
  {
   "cell_type": "code",
   "execution_count": null,
   "metadata": {
    "execution": {
     "iopub.execute_input": "2021-03-31T14:48:29.811158Z",
     "iopub.status.busy": "2021-03-31T14:48:29.810812Z",
     "iopub.status.idle": "2021-03-31T14:48:30.622394Z",
     "shell.execute_reply": "2021-03-31T14:48:30.621864Z",
     "shell.execute_reply.started": "2021-03-31T14:48:29.811108Z"
    },
    "tags": []
   },
   "outputs": [],
   "source": [
    "present_values(folder,\"saliency\", 0)"
   ]
  },
  {
   "cell_type": "markdown",
   "metadata": {},
   "source": [
    "#### Correct Classification"
   ]
  },
  {
   "cell_type": "code",
   "execution_count": null,
   "metadata": {
    "execution": {
     "iopub.execute_input": "2021-03-31T14:48:32.206907Z",
     "iopub.status.busy": "2021-03-31T14:48:32.206455Z",
     "iopub.status.idle": "2021-03-31T14:48:33.009302Z",
     "shell.execute_reply": "2021-03-31T14:48:33.008801Z",
     "shell.execute_reply.started": "2021-03-31T14:48:32.206851Z"
    },
    "tags": []
   },
   "outputs": [],
   "source": [
    "present(folder, \"saliency\", ['pred_results', 'ok'], but_zeros=False)"
   ]
  },
  {
   "cell_type": "markdown",
   "metadata": {},
   "source": [
    "#### Incorrect Classification"
   ]
  },
  {
   "cell_type": "code",
   "execution_count": null,
   "metadata": {
    "execution": {
     "iopub.execute_input": "2021-03-31T14:48:41.204175Z",
     "iopub.status.busy": "2021-03-31T14:48:41.203994Z",
     "iopub.status.idle": "2021-03-31T14:48:41.961073Z",
     "shell.execute_reply": "2021-03-31T14:48:41.960618Z",
     "shell.execute_reply.started": "2021-03-31T14:48:41.204153Z"
    },
    "tags": []
   },
   "outputs": [],
   "source": [
    "present(folder, \"saliency\", ['pred_results', 'wrong'], but_zeros=False)"
   ]
  },
  {
   "cell_type": "markdown",
   "metadata": {},
   "source": [
    "#### Normal Label"
   ]
  },
  {
   "cell_type": "code",
   "execution_count": null,
   "metadata": {
    "execution": {
     "iopub.execute_input": "2021-03-31T14:48:43.012285Z",
     "iopub.status.busy": "2021-03-31T14:48:43.011938Z",
     "iopub.status.idle": "2021-03-31T14:48:43.834140Z",
     "shell.execute_reply": "2021-03-31T14:48:43.833464Z",
     "shell.execute_reply.started": "2021-03-31T14:48:43.012236Z"
    },
    "tags": []
   },
   "outputs": [],
   "source": [
    "present(folder, \"saliency\", ['true_labels', 'normal'], but_zeros=False)"
   ]
  },
  {
   "cell_type": "markdown",
   "metadata": {},
   "source": [
    "#### Abnormal Label"
   ]
  },
  {
   "cell_type": "code",
   "execution_count": null,
   "metadata": {
    "execution": {
     "iopub.execute_input": "2021-03-31T14:48:44.855282Z",
     "iopub.status.busy": "2021-03-31T14:48:44.855114Z",
     "iopub.status.idle": "2021-03-31T14:48:45.571269Z",
     "shell.execute_reply": "2021-03-31T14:48:45.570774Z",
     "shell.execute_reply.started": "2021-03-31T14:48:44.855263Z"
    },
    "tags": []
   },
   "outputs": [],
   "source": [
    "present(folder,\"saliency\", ['true_labels', 'abnormal'], but_zeros=False)"
   ]
  },
  {
   "cell_type": "markdown",
   "metadata": {},
   "source": [
    "# Accuracy classification: \n",
    "* **final**: 0.9366\n",
    "* **mid**: 0.9341\n",
    "* **initial**: 0.9172"
   ]
  },
  {
   "cell_type": "markdown",
   "metadata": {
    "execution": {
     "iopub.execute_input": "2021-03-11T11:24:29.515708Z",
     "iopub.status.busy": "2021-03-11T11:24:29.515420Z",
     "iopub.status.idle": "2021-03-11T11:24:29.753350Z",
     "shell.execute_reply": "2021-03-11T11:24:29.752848Z",
     "shell.execute_reply.started": "2021-03-11T11:24:29.515637Z"
    },
    "tags": []
   },
   "source": [
    "# Attention Maps Comparison"
   ]
  },
  {
   "cell_type": "code",
   "execution_count": null,
   "metadata": {
    "execution": {
     "iopub.execute_input": "2021-03-31T14:48:46.543832Z",
     "iopub.status.busy": "2021-03-31T14:48:46.543644Z",
     "iopub.status.idle": "2021-03-31T14:48:46.546394Z",
     "shell.execute_reply": "2021-03-31T14:48:46.545753Z",
     "shell.execute_reply.started": "2021-03-31T14:48:46.543812Z"
    },
    "tags": []
   },
   "outputs": [],
   "source": [
    "#folder = '../../data/attribution_maps/' # RUI\n",
    "folder_maps = \"/mnt/Media/bernardo/attribution_maps_revisited/\""
   ]
  },
  {
   "cell_type": "code",
   "execution_count": null,
   "metadata": {
    "execution": {
     "iopub.execute_input": "2021-03-31T15:43:21.348231Z",
     "iopub.status.busy": "2021-03-31T15:43:21.347955Z",
     "iopub.status.idle": "2021-03-31T15:43:26.176347Z",
     "shell.execute_reply": "2021-03-31T15:43:26.175689Z",
     "shell.execute_reply.started": "2021-03-31T15:43:21.348201Z"
    },
    "tags": []
   },
   "outputs": [],
   "source": [
    "maps_comparison(\"final\", \"saliency_map\", \"abnormal\", folder_maps)"
   ]
  },
  {
   "cell_type": "code",
   "execution_count": null,
   "metadata": {},
   "outputs": [],
   "source": []
  }
 ],
 "metadata": {
  "kernelspec": {
   "display_name": "Python 3",
   "language": "python",
   "name": "python3"
  },
  "language_info": {
   "codemirror_mode": {
    "name": "ipython",
    "version": 3
   },
   "file_extension": ".py",
   "mimetype": "text/x-python",
   "name": "python",
   "nbconvert_exporter": "python",
   "pygments_lexer": "ipython3",
   "version": "3.7.6"
  }
 },
 "nbformat": 4,
 "nbformat_minor": 5
}
