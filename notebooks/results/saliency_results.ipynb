{
 "cells": [
  {
   "cell_type": "markdown",
   "metadata": {},
   "source": [
    "# Results"
   ]
  },
  {
   "cell_type": "markdown",
   "metadata": {},
   "source": [
    "We will present the results of the metrics in this notebook."
   ]
  },
  {
   "cell_type": "code",
   "execution_count": 1,
   "metadata": {
    "execution": {
     "iopub.execute_input": "2021-05-06T09:44:07.520424Z",
     "iopub.status.busy": "2021-05-06T09:44:07.519776Z",
     "iopub.status.idle": "2021-05-06T09:44:07.529708Z",
     "shell.execute_reply": "2021-05-06T09:44:07.528200Z",
     "shell.execute_reply.started": "2021-05-06T09:44:07.520349Z"
    },
    "tags": []
   },
   "outputs": [],
   "source": [
    "%matplotlib inline\n",
    "\n",
    "from results_preparation import *"
   ]
  },
  {
   "cell_type": "markdown",
   "metadata": {},
   "source": [
    "## Sum of the ROI divided by the Total sum"
   ]
  },
  {
   "cell_type": "code",
   "execution_count": 2,
   "metadata": {
    "execution": {
     "iopub.execute_input": "2021-05-06T09:44:08.029875Z",
     "iopub.status.busy": "2021-05-06T09:44:08.029233Z",
     "iopub.status.idle": "2021-05-06T09:44:08.038850Z",
     "shell.execute_reply": "2021-05-06T09:44:08.035588Z",
     "shell.execute_reply.started": "2021-05-06T09:44:08.029802Z"
    },
    "tags": []
   },
   "outputs": [],
   "source": [
    "folder = \"../../XAI_metrics/metrics/\""
   ]
  },
  {
   "cell_type": "markdown",
   "metadata": {},
   "source": [
    "### Saliency Maps"
   ]
  },
  {
   "cell_type": "markdown",
   "metadata": {},
   "source": [
    "#### All Values"
   ]
  },
  {
   "cell_type": "code",
   "execution_count": 3,
   "metadata": {
    "execution": {
     "iopub.execute_input": "2021-05-06T09:44:08.908977Z",
     "iopub.status.busy": "2021-05-06T09:44:08.908810Z",
     "iopub.status.idle": "2021-05-06T09:44:09.377046Z",
     "shell.execute_reply": "2021-05-06T09:44:09.376591Z",
     "shell.execute_reply.started": "2021-05-06T09:44:08.908959Z"
    },
    "tags": []
   },
   "outputs": [
    {
     "name": "stdout",
     "output_type": "stream",
     "text": [
      "Mean value of initial beat: 25.02 +- 18.23%\n",
      "Mean value of final beat: 30.34 +- 9.17%\n"
     ]
    },
    {
     "data": {
      "image/png": "[encoded data removed]",
      "text/plain": [
       "<Figure size 720x360 with 2 Axes>"
      ]
     },
     "metadata": {
      "needs_background": "light"
     },
     "output_type": "display_data"
    }
   ],
   "source": [
    "present_values(folder, \"saliency\")"
   ]
  },
  {
   "cell_type": "markdown",
   "metadata": {},
   "source": [
    "#### All But 0's"
   ]
  },
  {
   "cell_type": "code",
   "execution_count": 4,
   "metadata": {
    "execution": {
     "iopub.execute_input": "2021-03-31T14:48:29.811158Z",
     "iopub.status.busy": "2021-03-31T14:48:29.810812Z",
     "iopub.status.idle": "2021-03-31T14:48:30.622394Z",
     "shell.execute_reply": "2021-03-31T14:48:30.621864Z",
     "shell.execute_reply.started": "2021-03-31T14:48:29.811108Z"
    },
    "tags": []
   },
   "outputs": [],
   "source": [
    "present_values(folder,\"saliency\", 0)"
   ]
  },
  {
   "cell_type": "markdown",
   "metadata": {},
   "source": [
    "#### Correct Classification"
   ]
  },
  {
   "cell_type": "code",
   "execution_count": 5,
   "metadata": {
    "execution": {
     "iopub.execute_input": "2021-03-31T14:48:32.206907Z",
     "iopub.status.busy": "2021-03-31T14:48:32.206455Z",
     "iopub.status.idle": "2021-03-31T14:48:33.009302Z",
     "shell.execute_reply": "2021-03-31T14:48:33.008801Z",
     "shell.execute_reply.started": "2021-03-31T14:48:32.206851Z"
    },
    "tags": []
   },
   "outputs": [],
   "source": [
    "present(folder, \"saliency\", ['pred_results', 'ok'], but_zeros=False)"
   ]
  },
  {
   "cell_type": "markdown",
   "metadata": {},
   "source": [
    "#### Incorrect Classification"
   ]
  },
  {
   "cell_type": "code",
   "execution_count": 6,
   "metadata": {
    "execution": {
     "iopub.execute_input": "2021-03-31T14:48:41.204175Z",
     "iopub.status.busy": "2021-03-31T14:48:41.203994Z",
     "iopub.status.idle": "2021-03-31T14:48:41.961073Z",
     "shell.execute_reply": "2021-03-31T14:48:41.960618Z",
     "shell.execute_reply.started": "2021-03-31T14:48:41.204153Z"
    },
    "tags": []
   },
   "outputs": [],
   "source": [
    "present(folder, \"saliency\", ['pred_results', 'wrong'], but_zeros=False)"
   ]
  },
  {
   "cell_type": "markdown",
   "metadata": {},
   "source": [
    "#### Normal Label"
   ]
  },
  {
   "cell_type": "code",
   "execution_count": 7,
   "metadata": {
    "execution": {
     "iopub.execute_input": "2021-03-31T14:48:43.012285Z",
     "iopub.status.busy": "2021-03-31T14:48:43.011938Z",
     "iopub.status.idle": "2021-03-31T14:48:43.834140Z",
     "shell.execute_reply": "2021-03-31T14:48:43.833464Z",
     "shell.execute_reply.started": "2021-03-31T14:48:43.012236Z"
    },
    "tags": []
   },
   "outputs": [],
   "source": [
    "present(folder, \"saliency\", ['true_labels', 'normal'], but_zeros=False)"
   ]
  },
  {
   "cell_type": "markdown",
   "metadata": {},
   "source": [
    "#### Abnormal Label"
   ]
  },
  {
   "cell_type": "code",
   "execution_count": 8,
   "metadata": {
    "execution": {
     "iopub.execute_input": "2021-03-31T14:48:44.855282Z",
     "iopub.status.busy": "2021-03-31T14:48:44.855114Z",
     "iopub.status.idle": "2021-03-31T14:48:45.571269Z",
     "shell.execute_reply": "2021-03-31T14:48:45.570774Z",
     "shell.execute_reply.started": "2021-03-31T14:48:44.855263Z"
    },
    "tags": []
   },
   "outputs": [],
   "source": [
    "present(folder,\"saliency\", ['true_labels', 'abnormal'], but_zeros=False)"
   ]
  },
  {
   "cell_type": "markdown",
   "metadata": {},
   "source": [
    "# Accuracy classification: \n",
    "* **final**: 0.9366\n",
    "* **mid**: 0.9341\n",
    "* **initial**: 0.9172"
   ]
  },
  {
   "cell_type": "markdown",
   "metadata": {
    "execution": {
     "iopub.execute_input": "2021-03-11T11:24:29.515708Z",
     "iopub.status.busy": "2021-03-11T11:24:29.515420Z",
     "iopub.status.idle": "2021-03-11T11:24:29.753350Z",
     "shell.execute_reply": "2021-03-11T11:24:29.752848Z",
     "shell.execute_reply.started": "2021-03-11T11:24:29.515637Z"
    },
    "tags": []
   },
   "source": [
    "# Attention Maps Comparison"
   ]
  },
  {
   "cell_type": "code",
   "execution_count": 9,
   "metadata": {
    "execution": {
     "iopub.execute_input": "2021-03-31T14:48:46.543832Z",
     "iopub.status.busy": "2021-03-31T14:48:46.543644Z",
     "iopub.status.idle": "2021-03-31T14:48:46.546394Z",
     "shell.execute_reply": "2021-03-31T14:48:46.545753Z",
     "shell.execute_reply.started": "2021-03-31T14:48:46.543812Z"
    },
    "tags": []
   },
   "outputs": [],
   "source": [
    "#folder = '../../data/attribution_maps/' # RUI\n",
    "folder_maps = \"/mnt/Media/bernardo/attribution_maps_revisited/\""
   ]
  },
  {
   "cell_type": "code",
   "execution_count": 10,
   "metadata": {
    "execution": {
     "iopub.execute_input": "2021-03-31T15:43:21.348231Z",
     "iopub.status.busy": "2021-03-31T15:43:21.347955Z",
     "iopub.status.idle": "2021-03-31T15:43:26.176347Z",
     "shell.execute_reply": "2021-03-31T15:43:26.175689Z",
     "shell.execute_reply.started": "2021-03-31T15:43:21.348201Z"
    },
    "tags": []
   },
   "outputs": [],
   "source": [
    "maps_comparison(\"final\", \"saliency_map\", \"abnormal\", folder_maps)"
   ]
  },
  {
   "cell_type": "code",
   "execution_count": null,
   "metadata": {},
   "outputs": [],
   "source": []
  }
 ],
 "metadata": {
  "kernelspec": {
   "display_name": "Python 3",
   "language": "python",
   "name": "python3"
  },
  "language_info": {
   "codemirror_mode": {
    "name": "ipython",
    "version": 3
   },
   "file_extension": ".py",
   "mimetype": "text/x-python",
   "name": "python",
   "nbconvert_exporter": "python",
   "pygments_lexer": "ipython3",
   "version": "3.7.6"
  }
 },
 "nbformat": 4,
 "nbformat_minor": 5
}
