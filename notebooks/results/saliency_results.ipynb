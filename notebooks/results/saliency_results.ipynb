{
 "cells": [
  {
   "cell_type": "markdown",
<<<<<<< HEAD
=======
   "id": "joined-metadata",
>>>>>>> 71fd0b98d1f4dee3c4d259f82e5ec315c6fc5337
   "metadata": {},
   "source": [
    "# Results"
   ]
  },
  {
   "cell_type": "markdown",
<<<<<<< HEAD
=======
   "id": "further-essex",
>>>>>>> 71fd0b98d1f4dee3c4d259f82e5ec315c6fc5337
   "metadata": {},
   "source": [
    "We will present the results of the metrics in this notebook."
   ]
  },
  {
   "cell_type": "code",
<<<<<<< HEAD
   "execution_count": null,
=======
   "execution_count": 6,
   "id": "union-compound",
>>>>>>> 71fd0b98d1f4dee3c4d259f82e5ec315c6fc5337
   "metadata": {
    "execution": {
     "iopub.execute_input": "2021-05-06T09:44:07.520424Z",
     "iopub.status.busy": "2021-05-06T09:44:07.519776Z",
     "iopub.status.idle": "2021-05-06T09:44:07.529708Z",
     "shell.execute_reply": "2021-05-06T09:44:07.528200Z",
     "shell.execute_reply.started": "2021-05-06T09:44:07.520349Z"
    },
    "tags": []
   },
   "outputs": [],
   "source": [
    "%matplotlib inline\n",
    "\n",
    "from results_preparation import *"
   ]
  },
  {
   "cell_type": "markdown",
<<<<<<< HEAD
=======
   "id": "plastic-physiology",
>>>>>>> 71fd0b98d1f4dee3c4d259f82e5ec315c6fc5337
   "metadata": {},
   "source": [
    "## Sum of the ROI divided by the Total sum"
   ]
  },
  {
   "cell_type": "code",
<<<<<<< HEAD
   "execution_count": null,
=======
   "execution_count": 7,
   "id": "developmental-accordance",
>>>>>>> 71fd0b98d1f4dee3c4d259f82e5ec315c6fc5337
   "metadata": {
    "execution": {
     "iopub.execute_input": "2021-05-06T09:44:08.029875Z",
     "iopub.status.busy": "2021-05-06T09:44:08.029233Z",
     "iopub.status.idle": "2021-05-06T09:44:08.038850Z",
     "shell.execute_reply": "2021-05-06T09:44:08.035588Z",
     "shell.execute_reply.started": "2021-05-06T09:44:08.029802Z"
    },
    "tags": []
   },
   "outputs": [],
   "source": [
    "folder = \"../../XAI_metrics/metrics/\""
   ]
  },
  {
   "cell_type": "markdown",
<<<<<<< HEAD
=======
   "id": "funky-turkey",
>>>>>>> 71fd0b98d1f4dee3c4d259f82e5ec315c6fc5337
   "metadata": {},
   "source": [
    "### Saliency Maps"
   ]
  },
  {
   "cell_type": "markdown",
<<<<<<< HEAD
=======
   "id": "collective-compact",
>>>>>>> 71fd0b98d1f4dee3c4d259f82e5ec315c6fc5337
   "metadata": {},
   "source": [
    "#### All Values"
   ]
  },
  {
   "cell_type": "code",
<<<<<<< HEAD
   "execution_count": null,
=======
   "execution_count": 8,
   "id": "foster-constraint",
>>>>>>> 71fd0b98d1f4dee3c4d259f82e5ec315c6fc5337
   "metadata": {
    "execution": {
     "iopub.execute_input": "2021-05-06T09:44:08.908977Z",
     "iopub.status.busy": "2021-05-06T09:44:08.908810Z",
     "iopub.status.idle": "2021-05-06T09:44:09.377046Z",
     "shell.execute_reply": "2021-05-06T09:44:09.376591Z",
     "shell.execute_reply.started": "2021-05-06T09:44:08.908959Z"
    },
    "tags": []
   },
<<<<<<< HEAD
   "outputs": [],
=======
   "outputs": [
    {
     "name": "stdout",
     "output_type": "stream",
     "text": [
      "Mean value of initial beat: 25.02 +- 18.23%\n",
      "Mean value of final beat: 30.34 +- 9.17%\n"
     ]
    },
    {
     "data": {
      "image/png": "iVBORw0KGgoAAAANSUhEUgAAAsgAAAFgCAYAAACmDI9oAAAAOXRFWHRTb2Z0d2FyZQBNYXRwbG90bGliIHZlcnNpb24zLjMuNCwgaHR0cHM6Ly9tYXRwbG90bGliLm9yZy8QVMy6AAAACXBIWXMAAAsTAAALEwEAmpwYAAAlSElEQVR4nO3df5BlZ13n8ffHRNCFCMFob5xEO+4OlIFZI3QlbPmr3QiEZIvAroXJIslAZFCSXS2ndAd0lyzZuNnVYIlidJApEgsSoohMmdEYI7fQLQMJEPMLMUMYNjM7JJpkE5podMJ3/7in06d7uqd/35/vV9WtPvc5P+5zv337ud9+znOek6pCkiRJUtfX9bsCkiRJ0iAxQZYkSZJaTJAlSZKkFhNkSZIkqcUEWZIkSWoxQZYkSZJaTJA1UpLcm2R6vdsl+aMkF6/wNQ8k+eGV1lGSxkmSFyW5M8lXknwtyX/ZgGNOJqkkx29EHaWF/GBppFTVi1e7XZLLgX9ZVT/WWv/qja+dJI2lnwM+XlVn9Lsi0krZgyxJkjbTdwD39rsS0mqYIGukzA53SHJ5khuTXNec1rs3ydQi250DvAP40SQzSf6qWd9J8uPN8r9I8mdJHknyd0k+mOT5fXmDkjREkvwZ8EPArzdt7IeS/Pdm3XSSg0l2Jnk4yeEkb2rte16SzyZ5IsmDzdk+qSdMkDXKXgPcADwf2Av8+sINquqPgV8EPlxVz62q717kOAH+B/BtwHcBpwKXb06VJWl0VNW/Af4cuKyqngv844JN/jnwPGALcAnw3iQnNuu+ClxEtw0/D/jJJK/tQbUlE2SNtL+oqn1V9TTwO8Biye+yqmp/Vd1SVU9V1d8C7wZ+cCMrKklj6p+Ad1XVP1XVPmAGeBFAVXWq6u6q+lpV3QVcj22vesSL9DTKvtxafhL4hiTHV9WR1RwkyQTwq8D3AyfQ/cfysQ2rpSSNr0cWtMlPAs8FSHIWcBXwEuBZwLOB3+15DTWW7EGWoJZZ/4vNNtuq6puAH6M77EKStHk+RHd43KlV9TzgN7HtVY+YIEvwEDCZZKm/hxPonvZ7PMkW4Gd7VjNJGl8nAI9W1T8kORP4D/2ukMaHCbI0d8rukSSfWWT9fwNeCjwO3AT8fq8qJklj7G3Au5J8BfivwI19ro/GSKqWO7ssSZIkjQ97kCVJkqQWE2RJkiSpxQRZkiRJajFBlqQhkOTUJB9Pcl9z6/SfasovT3IoyZ3N49zWPm9Psj/J55O8qlV+TlO2P8mufrwfSRpkA3+R3kknnVSTk5Or3u+rX/0qz3nOcza+QkPKeBzNmMxnPI62mTH59Kc//XdV9S0r3T7JycDJVfWZJCcAnwZeC7wemKmqX16w/el07zx2Jt3bpP8p8MJm9d8ArwAOArcDF1bVfUu9tu3w+hmL+YzHHGMxX6/jsVRbPPB30pucnOSOO+5Y9X6dTofp6emNr9CQMh5HMybzGY+jbWZMknxpNdtX1WHgcLP8lSSfA7YcY5fzgRuq6ingi0n2002WAfZX1QNNPW5otl0yQbYdXj9jMZ/xmGMs5ut1PJZqiwc+QZYkzZdkEvge4JPA9wKXJbkIuAPYWVWP0U2eb2vtdpC5hPrBBeVnLfIaO4AdABMTE3Q6nVXXc2ZmZk37jSJjMZ/xmGMs5huUeJggS9IQSfJc4CPAT1fVE0muAa6gezv0K4CrgTev93WqajewG2BqaqrW0qNjz9gcYzGf8ZhjLOYblHiYIEvSkEjy9XST4w9W1e8DVNVDrfXvA/6weXoIOLW1+ylNGccolyThLBaSNBSSBHg/8Lmqener/OTWZq8D7mmW9wIXJHl2ktOArcCn6F6UtzXJaUmeBVzQbCtJatiDLEnD4XuBNwJ3J7mzKXsHcGGSM+gOsTgAvBWgqu5NciPdi++OAJdW1dMASS4DbgaOA/ZU1b29exuSNPhMkCVpCFTVXwBZZNW+Y+xzJXDlIuX7jrWfJI07h1hIkiRJLSbIkiRJUosJsiRJktRigixJkiS1mCBLkiRJLSbIkiRJUosJsiRJktTiPMjHMLnrpmeWD1x1Xh9rIknSyvjdJa2fPciSJElSiwmyJEmS1GKCLEmSJLWYIEuSJEktJsiSJElSy7IJcpI9SR5Ock+r7MNJ7mweB5Lc2ZRPJvn71rrfbO3zsiR3J9mf5D1JsinvSJIkSVqHlUzz9gHg14HrZguq6kdnl5NcDTze2v4LVXXGIse5BngL8ElgH3AO8EerrvEma0+PI0mSpPGzbA9yVX0CeHSxdU0v8OuB6491jCQnA99UVbdVVdFNtl+76tpKkqQVm9x1kx0/0hqs90Yh3w88VFX3t8pOS/JZ4AngF6rqz4EtwMHWNgebMkmStE4mwdLGWm+CfCHze48PA99eVY8keRnwB0levNqDJtkB7ACYmJig0+msumIzMzNr2m/ntiOLlq/lWINkrfEYZcZkPuNxNGMiSeNpzQlykuOBfwe8bLasqp4CnmqWP53kC8ALgUPAKa3dT2nKFlVVu4HdAFNTUzU9Pb3q+nU6Hday3/Yl/gs/8IbVH2uQrDUeo8yYzGc8jmZMJGk8rWeatx8G/rqqnhk6keRbkhzXLH8nsBV4oKoOA08keXkzbvki4GPreG1JkiRpU6xkmrfrgb8EXpTkYJJLmlUXcPTFeT8A3NVM+/Z7wE9U1ewFfm8DfhvYD3yBAZzBQpIkSVp2iEVVXbhE+fZFyj4CfGSJ7e8AXrLK+kmSJEk95Z30JEmSpBYTZEmSJKnFBFmSJElqMUGWJEmSWkyQJUmSpBYTZEmSJKnFBFmSJElqMUGWJEmSWpa9UYgkSRpuk7tuemb5wFXn9bEm0nCwB1mSJElqMUFeocldN837D1ySJEmjySEWYOIrSZKkZ9iDLEmSJLXYgyxJ0hDy7Ke0eexBliRJklpMkCVJkqQWE2RJkiSpxQRZkiRJajFBliRJklpMkCVJkqQWE2RJkiSpxQRZkiRJajFBliRJklpMkCVJkqQWbzUtSdIYad+i+sBV5/WxJtLgsgdZkiRJajFBliRJklpMkCVJkqQWE2RJkiSpxQRZkoZAklOTfDzJfUnuTfJTTfkLktyS5P7m54lNeZK8J8n+JHcleWnrWBc329+f5OJ+vSdJGlQmyJI0HI4AO6vqdODlwKVJTgd2AbdW1Vbg1uY5wKuBrc1jB3ANdBNq4J3AWcCZwDtnk2pJUpcJsiQNgao6XFWfaZa/AnwO2AKcD1zbbHYt8Npm+Xzguuq6DXh+kpOBVwG3VNWjVfUYcAtwTu/eiSQNvmUT5CR7kjyc5J5W2eVJDiW5s3mc21r39uaU3ueTvKpVfk5Ttj/JroWvI0lamSSTwPcAnwQmqupws+rLwESzvAV4sLXbwaZsqXJJUmMlNwr5APDrwHULyn+lqn65XdCc7rsAeDHwbcCfJnlhs/q9wCvoNsa3J9lbVfeto+6SNHaSPBf4CPDTVfVEkmfWVVUlqQ16nR10h2YwMTFBp9NZ9TFmZmbWtN8o2oxY7Nx2ZN3H6Nfvx8/GHGMx36DEY9kEuao+0fRWrMT5wA1V9RTwxST76Y5xA9hfVQ8AJLmh2dYEWZJWKMnX002OP1hVv98UP5Tk5Ko63AyheLgpPwSc2tr9lKbsEDC9oLyz8LWqajewG2Bqaqqmp6cXbrKsTqfDWvYbRZsRi+2tO+Kt2d1ffWaxl3fV87Mxx1jMNyjxWM+tpi9LchFwB90LRx6je5ruttY27VN3C0/pnbXUgXvdc7Ga/8IH4b+atRiU/8gGiTGZz3gcbZBikm5X8fuBz1XVu1ur9gIXA1c1Pz/WKr+s6ZA4C3i8SaJvBn6xdWHeK4G39+I9SNKwWGuCfA1wBVDNz6uBN29UpXrdc7Ga/8IPvGH1dRkEg/If2SAxJvMZj6MNWEy+F3gjcHeSO5uyd9BNjG9McgnwJeD1zbp9wLnAfuBJ4E0AVfVokiuA25vt3lVVj/bkHUjSkFhTglxVD80uJ3kf8IfN06VO6XGMcknSMqrqL4AssfrsRbYv4NIljrUH2LNxtZOk0bKmad6acW6zXgfMznCxF7ggybOTnEZ3/s1P0e2p2JrktCTPonsh3961V1uSJEnaHMv2ICe5nu4FHSclOUh3gvnpJGfQHWJxAHgrQFXdm+RGuhffHQEuraqnm+NcBtwMHAfsqap7N/rNSJIkSeu1klksLlyk+P3H2P5K4MpFyvfRHRMnSZIkDSzvpCdJkiS1mCBLkiRJLeuZB3moTW7EBOuSJEkaOWObIEuSNGw2s3Onfexe3lVPGkQOsZAkSZJa7EFeJf/DliRJGm32IEuSJEktJsiSJElSiwmyJEmS1GKCLEmSJLWYIEuSJEktJsiSJElSiwmyJEmS1GKCLEmSJLWYIEuSJEkt3klvHbyrniRJ0uixB1mSJElqMUGWJEmSWkyQJUmSpBYTZEmSJKnFi/QkSRpg7QvCJfWGPciSJElSiz3IkiRpHqcx1bizB1mSJElqMUGWJEmSWkyQJUmSpBYTZEmSJKnFBFmSJElqMUGWJEmSWkyQJUmSpBYTZEmSJKll2QQ5yZ4kDye5p1X2S0n+OsldST6a5PlN+WSSv09yZ/P4zdY+L0tyd5L9Sd6TJJvyjiRJkqR1WEkP8geAcxaU3QK8pKr+FfA3wNtb675QVWc0j59olV8DvAXY2jwWHlOSJEnqu2UT5Kr6BPDogrI/qaojzdPbgFOOdYwkJwPfVFW3VVUB1wGvXVONJUmSpE10/AYc483Ah1vPT0vyWeAJ4Beq6s+BLcDB1jYHm7JFJdkB7ACYmJig0+msulIzMzPH3G/ntiNLrluLtdSxl5aLxzgyJvMZj6MZE0kaT+tKkJP8PHAE+GBTdBj49qp6JMnLgD9I8uLVHreqdgO7Aaampmp6enrVdet0Ohxrv+27blr1MY/lwBuWfq1BsFw8xpExmc94HM2YSNJ4WnOCnGQ78G+Bs5thE1TVU8BTzfKnk3wBeCFwiPnDME5pyiRJkqSBsqZp3pKcA/wc8JqqerJV/i1JjmuWv5PuxXgPVNVh4IkkL29mr7gI+Ni6ay9JkiRtsGV7kJNcD0wDJyU5CLyT7qwVzwZuaWZru62ZseIHgHcl+Sfga8BPVNXsBX5vozsjxjcCf9Q8JEmSpIGybIJcVRcuUvz+Jbb9CPCRJdbdAbxkVbWTJGlMTW7wtTKSVs476UmSJEktJsiSJElSiwmyJEmS1GKCLEmSljS56ybHQ2vsmCBLkiRJLSbIkiRJUosJsiRJktRigixJkiS1mCBLkiRJLSbIkjQEkuxJ8nCSe1pllyc5lOTO5nFua93bk+xP8vkkr2qVn9OU7U+yq9fvQ5KGgQmyJA2HDwDnLFL+K1V1RvPYB5DkdOAC4MXNPr+R5LgkxwHvBV4NnA5c2GwrSWo5vt8VkCQtr6o+kWRyhZufD9xQVU8BX0yyHzizWbe/qh4ASHJDs+19G11fSRpmJsiSNNwuS3IRcAews6oeA7YAt7W2OdiUATy4oPysxQ6aZAewA2BiYoJOp7Pqis3MzKxpv1G0lljs3HZkcyqzRhv5u/SzMcdYzDco8TBBlqThdQ1wBVDNz6uBN2/EgatqN7AbYGpqqqanp1d9jE6nw1r2G0VricX2Abt73YE3TG/YsfxszDEW8w1KPEyQJWlIVdVDs8tJ3gf8YfP0EHBqa9NTmjKOUS5JaniRniQNqSQnt56+Dpid4WIvcEGSZyc5DdgKfAq4Hdia5LQkz6J7Id/eXtZZkoaBPcgbZLJ1KuzAVef1sSaSRlGS64Fp4KQkB4F3AtNJzqA7xOIA8FaAqro3yY10L747AlxaVU83x7kMuBk4DthTVff29p1I0uAzQZakIVBVFy5S/P5jbH8lcOUi5fuAfRtYNUkaOQ6xkCRJklpMkCVJkqQWh1hIkqRlea2NxokJsiRJA2JywOY+lsaVQywkSZKkFhNkSZIkqcUEWZIkSWoxQZYkSZJaTJAlSZKkFmex2AROhSNJkjS87EGWJEmSWkyQJUmSpBYTZEmSJKllRQlykj1JHk5yT6vsBUluSXJ/8/PEpjxJ3pNkf5K7kry0tc/Fzfb3J7l449+OJEmStD4r7UH+AHDOgrJdwK1VtRW4tXkO8Gpga/PYAVwD3YQaeCdwFnAm8M7ZpFqSJEkaFCtKkKvqE8CjC4rPB65tlq8FXtsqv666bgOen+Rk4FXALVX1aFU9BtzC0Um3JEmS1FfrmeZtoqoON8tfBiaa5S3Ag63tDjZlS5UfJckOur3PTExM0Ol0Vl25mZmZY+63c9uRVR9zLdZS982wXDzGkTGZz3gczZhI0njakHmQq6qS1EYcqznebmA3wNTUVE1PT6/6GJ1Oh2Ptt701V/FmOvCGpevQS8vFYxwZk/mMx9GMiSSNp/XMYvFQM3SC5ufDTfkh4NTWdqc0ZUuVS5IkSQNjPQnyXmB2JoqLgY+1yi9qZrN4OfB4MxTjZuCVSU5sLs57ZVMmSZKGyOSum555SKNoRUMsklwPTAMnJTlIdzaKq4Abk1wCfAl4fbP5PuBcYD/wJPAmgKp6NMkVwO3Ndu+qqoUX/kmSJEl9taIEuaouXGLV2YtsW8ClSxxnD7BnxbWTJEmSesw76UmSJEktGzKLxbBwrJQkSZKWYw+yJEmS1GKCLEmSJLWYIEuSJEktJsiSJElSiwmyJEmS1GKCLEmSJLWM1TRv/dCeWu7AVef1sSaSpEHkFKTS4LEHWZIkSWoxQZYkSZJaTJAlSZKkFhNkSZIkqcUEWZIkSWoxQZYkSZJaTJAlSZKkFhPkHprcdZPzXUqSJA04E2RJkiSpxQRZkiRJajFBliRJklqO73cFJEnS8Frq2poDV53X45pIG8ceZEmSJKnFBFmSJElqcYhFH7RPR3kKSpIkabDYgyxJkiS1mCBLkiRJLSbIkiRJUosJsiRJktTiRXqSJPXYUnMHSxoM9iBLkiRJLSbIkjQEkuxJ8nCSe1plL0hyS5L7m58nNuVJ8p4k+5PcleSlrX0ubra/P8nF/XgvkjTo1pwgJ3lRkjtbjyeS/HSSy5McapWf29rn7U2D/fkkr9qYtyBJY+EDwDkLynYBt1bVVuDW5jnAq4GtzWMHcA10E2rgncBZwJnAO2eTaknSnDUnyFX1+ao6o6rOAF4GPAl8tFn9K7PrqmofQJLTgQuAF9Nt5H8jyXHrqr0kjYmq+gTw6ILi84Frm+Vrgde2yq+rrtuA5yc5GXgVcEtVPVpVjwG3cHTSLUljb6Mu0jsb+EJVfSnJUtucD9xQVU8BX0yyn24Pxl9uUB0kadxMVNXhZvnLwESzvAV4sLXdwaZsqfKjJNlBt/eZiYkJOp3Oqis3MzOzpv1G0cJY7Nx2pH+V6ZFj/e79bMwxFvMNSjw2KkG+ALi+9fyyJBcBdwA7m56KLcBtrW163jAPYoPUqw/BoHzgBokxmc94HG2YYlJVlaQ28Hi7gd0AU1NTNT09vepjdDod1rLfKFoYi+1jMIvFgTdML7nOz8YcYzHfoMRj3QlykmcBrwHe3hRdA1wBVPPzauDNqznmZjXMg9ggHasB2UiD8oEbJMZkPuNxtCGIyUNJTq6qw80Qioeb8kPAqa3tTmnKDgHTC8o7PainJA2VjZjF4tXAZ6rqIYCqeqiqnq6qrwHvozuMApZusCVJa7MXmJ2J4mLgY63yi5rZLF4OPN4MxbgZeGWSE5uL817ZlEmSWjYiQb6Q1vCKphdj1uuA2SmJ9gIXJHl2ktPoXl39qQ14fUkaeUmup3vNxouSHExyCXAV8Iok9wM/3DwH2Ac8AOyn21HxNoCqepTumb3bm8e7mjJJUsu6hlgkeQ7wCuCtreL/leQMukMsDsyuq6p7k9wI3AccAS6tqqfX8/qSNC6q6sIlVp29yLYFXLrEcfYAezawatKi2ncLPHDVeX2sibR660qQq+qrwDcvKHvjMba/ErhyPa8pSZIkbaaNmsVCa+R/2JIkSYPFW01LkiRJLSbIkiRJUosJsiRJktTiGOQBMrmCG5k4TnnzOB5c0mZaSRsvaTDYgyxJkiS1mCBLkiRJLQ6x0FjzlKckSVrIHmRJkiSpxQRZkiRJanGIhcbS5K6b2LntCEv9CTijhSRJ48sEWWNjreONTZYlaX1m21HbUA0Lh1hIkiRJLfYga6BsdG+ts1RIkqTVMkEeMsudpnI4gCRJ0vo4xEKSJElqMUGWJEmSWhxioU231LAPxwdLkqRBZII8pFYy1ri9zQfOec6m12klTIolSdKgM0EeAaOadC71vhb7h8CLEyVp8M221Tu3HWG6v1WRjskEeUzcfehxtjtRuyT1VDsh9CtXGh7+tWpNVjPd3GbXQZIkaSOZIGtdHNogSZJGjQmyRo49y5IkaT2cB1mSJElqsQd5DA3C+OH1GPT6SZKk4WYPsiRJktRiD7IAe2UlSb3lRd4aZCbIY2yjk2KTbEmSNApMkKVVsMdDkqTR5xhkSZIkqWXdPchJDgBfAZ4GjlTVVJIXAB8GJoEDwOur6rEkAX4VOBd4EtheVZ9Zbx0kSRokDjmThttG9SD/UFWdUVVTzfNdwK1VtRW4tXkO8Gpga/PYAVyzQa8v9dzkrpv8EpQkaQRt1hCL84Frm+Vrgde2yq+rrtuA5yc5eZPqIEmSJK3aRlykV8CfJCngt6pqNzBRVYeb9V8GJprlLcCDrX0PNmWHW2Uk2UG3h5mJiQk6nc6qKzUzM3PUfju3HVn1cUbFxDeO9/tfzEbFZC2fz0G02N/MuDMmkjSeNiJB/r6qOpTkW4Fbkvx1e2VVVZM8r1iTZO8GmJqaqunp6VVXqtPpsHC/7WN8OnzntiNcfbeTlrRtWEzu/uozi8M8s8VifzPjzphI0nha9xCLqjrU/HwY+ChwJvDQ7NCJ5ufDzeaHgFNbu5/SlEmSJEkDYV0JcpLnJDlhdhl4JXAPsBe4uNnsYuBjzfJe4KJ0vRx4vDUUQ5IkSeq79Z5fngA+2p29jeOBD1XVHye5HbgxySXAl4DXN9vvozvF236607y9aZ2vvyLONCBJ2mx+10ijY10JclU9AHz3IuWPAGcvUl7Apet5TUmSJGkzeSc9SZIkqcVpDaQN1D7FOswzWkiSNM7sQZYkSZJaTJAlSZKkFhNkSZIkqcUxyJIkqa+8fkODxh5kSZIkqcUEWZIkSWoxQZYkSZJaHIMsbZKlbjvr+DpJkgabPciSJElSiwmyJA25JAeS3J3kziR3NGUvSHJLkvubnyc25UnyniT7k9yV5KX9rb0kDR4TZEkaDT9UVWdU1VTzfBdwa1VtBW5tngO8GtjaPHYA1/S8ppI04ByDLEmj6Xxgulm+FugA/7kpv66qCrgtyfOTnFxVh/tSyyG31LUGkoabCbIkDb8C/iRJAb9VVbuBiVbS+2VgolneAjzY2vdgUzYvQU6yg24PMxMTE3Q6nVVXamZmZk37DZOd246saLuJb1z5tuPgWPH4tQ9+7JnlbVue16sq9c04/J2sxqDEwwRZkobf91XVoSTfCtyS5K/bK6uqmuR5xZokezfA1NRUTU9Pr7pSnU6Htew3TLavsAd557YjXH23X7mzVhqPA2+Y3vzK9Nk4/J2sxqDEwzHIkjTkqupQ8/Nh4KPAmcBDSU4GaH4+3Gx+CDi1tfspTZkkqWGCLElDLMlzkpwwuwy8ErgH2Atc3Gx2MTB73novcFEzm8XLgccdf6xBNbnrpmceUi95vkfqsXZD701DtAEmgI8mgW6b/qGq+uMktwM3JrkE+BLw+mb7fcC5wH7gSeBNva+yJA02E2RJGmJV9QDw3YuUPwKcvUh5AZf2oGrShprtXLBjQb1ggixJ0ip4ul8afSbIUh8t1iPiEAxJkvrLi/QkSZKkFnuQpQHgKVtJkgaHPciSJElSiz3I0ohw7LIkSRvDHmRJkiSpxQRZkiRJanGIhSRJGhoOJ1MvmCBLA2ytXwR+gUiStHYmyNIQMnGWJGnzrDlBTnIqcB0wARSwu6p+NcnlwFuAv202fUdV7Wv2eTtwCfA08J+q6uZ11F0aK0vNlewcypIkbaz19CAfAXZW1WeSnAB8Osktzbpfqapfbm+c5HTgAuDFwLcBf5rkhVX19DrqIGkZJtCSJK3OmhPkqjoMHG6Wv5Lkc8CWY+xyPnBDVT0FfDHJfuBM4C/XWgdJknrBfzQHk8PGtFk2ZJq3JJPA9wCfbIouS3JXkj1JTmzKtgAPtnY7yLETakmSJKnn1n2RXpLnAh8BfrqqnkhyDXAF3XHJVwBXA29e5TF3ADsAJiYm6HQ6q67XzMzMM/vt3HZk1fuPmolvNA4LjXtMfu2DH3tmeduW5837m1GXMZGk8bSuBDnJ19NNjj9YVb8PUFUPtda/D/jD5ukh4NTW7qc0ZUepqt3AboCpqamanp5edd06nQ6z+2331Bg7tx3h6rudtKTNmMw58IbpeX8z6jImkjSe1jOLRYD3A5+rqne3yk9uxicDvA64p1neC3woybvpXqS3FfjUWl9/OXcfetzEWJK0Zo47lsbXerrPvhd4I3B3kjubsncAFyY5g+4QiwPAWwGq6t4kNwL30Z0B41JnsJAGy1IJgRe/SJLGyXpmsfgLIIus2neMfa4Erlzra0rqD68U1zix51jShsxiIWm4Te66ibsPPd7vakiSNBC8QkmSJA09z3RpI9mDLEmSJLXYgyxJkkaKvclaLxNkSaviF48kadQ5xEKSJElqMUGWJEmSWkyQJUmSpBbHIEuSpJHldRNaCxNkSRti9kvILyANI++eNx5sp7RSDrGQJEmSWuxBlrRmi/W6eTpTkjTs7EGWJEmSWuxBliRJY2WpMeee9dIse5AlSZKkFnuQJUljyZkrtJDXUGiWCbKkTeNpTEnSMDJBliRJWsDe5PHmGGRJkiSpxR5kST1nz4z6xXHHklbCHmRJkiSpxR5kSZKkY/Cs1/gxQZbUV37xjId+/p4dVqGNNPt5sr0abSbIkqRNcfehx9lucqox4D/6o8cEWZIkaZU8MzHaTJAlST1lb5ukQWeCLEkaGY4PVb95B9HRYIIsSRo5nv6WtB4myJIGxmJJjb0uWo7JsIaBZzeGiwmypIHmeFVJo8Q2bTiYIEsaGn6xjJ61/k7tNdYomNx1Ezu3HWH7rpts0waMCbIkaSAsdgraRFhSP/Q8QU5yDvCrwHHAb1fVVb2ug6ThZ2/y2g16O2xSrHG0ks+9bV3v9DRBTnIc8F7gFcBB4PYke6vqvl7WQ9JoMVleOdthafjZ5m2+Xvcgnwnsr6oHAJLcAJwP2DBL2hAb0fs4+4XTvlXyCH0J2Q5LQ2qx9m2tbd5GDGVaql1czfFWcox+tL+pqt69WPIjwDlV9ePN8zcCZ1XVZQu22wHsaJ6+CPj8Gl7uJODv1lHdUWM8jmZM5jMeR9vMmHxHVX3LJh17SbbDfWMs5jMec4zFfL2Ox6Jt8UBepFdVu4Hd6zlGkjuqamqDqjT0jMfRjMl8xuNo4xwT2+GNZSzmMx5zjMV8gxKPr+vx6x0CTm09P6UpkyT1hu2wJC2j1wny7cDWJKcleRZwAbC3x3WQpHFmOyxJy+jpEIuqOpLkMuBmutML7amqezfp5dZ1anAEGY+jGZP5jMfRRi4mtsN9YyzmMx5zjMV8AxGPnl6kJ0mSJA26Xg+xkCRJkgaaCbIkSZLUMtQJcpJzknw+yf4kuxZZ/+wkH27WfzLJZB+q2VMriMnPJLkvyV1Jbk3yHf2oZ68sF4/Wdv8+SSXp+9Qym20lMUny+uZzcm+SD/W6jr20gr+Zb0/y8SSfbf5uzu1HPQeZbfEc2+A5tr/z2fbOGYp2t6qG8kH34pIvAN8JPAv4K+D0Bdu8DfjNZvkC4MP9rvcAxOSHgH/WLP/kKMdkJfFotjsB+ARwGzDV73r3OybAVuCzwInN82/td737HI/dwE82y6cDB/pd70F62BavOhZj0Qbb/q7pszEWbe+wtLvD3IP8zO1Sq+ofgdnbpbadD1zbLP8ecHaS9LCOvbZsTKrq41X1ZPP0NrpzoI6qlXxGAK4A/ifwD72sXJ+sJCZvAd5bVY8BVNXDPa5jL60kHgV8U7P8POD/9rB+w8C2eI5t8Bzb3/lse+cMRbs7zAnyFuDB1vODTdmi21TVEeBx4Jt7Urv+WElM2i4B/mhTa9Rfy8YjyUuBU6tqbTeiHz4r+Yy8EHhhkv+d5LYk5/Ssdr23knhcDvxYkoPAPuA/9qZqQ8O2eI5t8Bzb3/lse+cMRbs7kLea1uZL8mPAFPCD/a5LvyT5OuDdwPY+V2XQHE/3VN803d6tTyTZVlX/r5+V6qMLgQ9U1dVJ/jXwO0leUlVf63fFNLzGvQ22/V2Ube+cvre7w9yDvJLbpT6zTZLj6XbTP9KT2vXHim4hm+SHgZ8HXlNVT/Wobv2wXDxOAF4CdJIcAF4O7B3xC0VW8hk5COytqn+qqi8Cf0O30R5FK4nHJcCNAFX1l8A3ACf1pHbDwbZ4jm3wHNvf+Wx75wxFuzvMCfJKbpe6F7i4Wf4R4M+qGfE9opaNSZLvAX6LbsM8quObZh0zHlX1eFWdVFWTVTVJdzzga6rqjv5UtydW8nfzB3R7MEhyEt3Tfg/0sI69tJJ4/B/gbIAk30W3of7bntZysNkWz7ENnmP7O59t75yhaHeHNkFuxrHN3i71c8CNVXVvkncleU2z2fuBb06yH/gZYMlpZkbBCmPyS8Bzgd9NcmeShR/KkbHCeIyVFcbkZuCRJPcBHwd+tqpGsbdvpfHYCbwlyV8B1wPbRzS5WxPb4jm2wXNsf+ez7Z0zLO2ut5qWJEmSWoa2B1mSJEnaDCbIkiRJUosJsiRJktRigixJkiS1mCBLkiRJLSbIkiRJUosJsiRJktTy/wEcftKdMhiinAAAAABJRU5ErkJggg==\n",
      "text/plain": [
       "<Figure size 720x360 with 2 Axes>"
      ]
     },
     "metadata": {
      "needs_background": "light"
     },
     "output_type": "display_data"
    }
   ],
>>>>>>> 71fd0b98d1f4dee3c4d259f82e5ec315c6fc5337
   "source": [
    "present_values(folder, \"saliency\")"
   ]
  },
  {
   "cell_type": "markdown",
<<<<<<< HEAD
=======
   "id": "infectious-brazilian",
>>>>>>> 71fd0b98d1f4dee3c4d259f82e5ec315c6fc5337
   "metadata": {},
   "source": [
    "#### All But 0's"
   ]
  },
  {
   "cell_type": "code",
<<<<<<< HEAD
   "execution_count": null,
=======
   "execution_count": 4,
   "id": "ranking-light",
>>>>>>> 71fd0b98d1f4dee3c4d259f82e5ec315c6fc5337
   "metadata": {
    "execution": {
     "iopub.execute_input": "2021-03-31T14:48:29.811158Z",
     "iopub.status.busy": "2021-03-31T14:48:29.810812Z",
     "iopub.status.idle": "2021-03-31T14:48:30.622394Z",
     "shell.execute_reply": "2021-03-31T14:48:30.621864Z",
     "shell.execute_reply.started": "2021-03-31T14:48:29.811108Z"
    },
    "tags": []
   },
   "outputs": [],
   "source": [
    "present_values(folder,\"saliency\", 0)"
   ]
  },
  {
   "cell_type": "markdown",
<<<<<<< HEAD
=======
   "id": "alpha-frank",
>>>>>>> 71fd0b98d1f4dee3c4d259f82e5ec315c6fc5337
   "metadata": {},
   "source": [
    "#### Correct Classification"
   ]
  },
  {
   "cell_type": "code",
<<<<<<< HEAD
   "execution_count": null,
=======
   "execution_count": 5,
   "id": "municipal-cameroon",
>>>>>>> 71fd0b98d1f4dee3c4d259f82e5ec315c6fc5337
   "metadata": {
    "execution": {
     "iopub.execute_input": "2021-03-31T14:48:32.206907Z",
     "iopub.status.busy": "2021-03-31T14:48:32.206455Z",
     "iopub.status.idle": "2021-03-31T14:48:33.009302Z",
     "shell.execute_reply": "2021-03-31T14:48:33.008801Z",
     "shell.execute_reply.started": "2021-03-31T14:48:32.206851Z"
    },
    "tags": []
   },
   "outputs": [],
   "source": [
    "present(folder, \"saliency\", ['pred_results', 'ok'], but_zeros=False)"
   ]
  },
  {
   "cell_type": "markdown",
<<<<<<< HEAD
=======
   "id": "broken-demonstration",
>>>>>>> 71fd0b98d1f4dee3c4d259f82e5ec315c6fc5337
   "metadata": {},
   "source": [
    "#### Incorrect Classification"
   ]
  },
  {
   "cell_type": "code",
<<<<<<< HEAD
   "execution_count": null,
=======
   "execution_count": 6,
   "id": "sharing-kennedy",
>>>>>>> 71fd0b98d1f4dee3c4d259f82e5ec315c6fc5337
   "metadata": {
    "execution": {
     "iopub.execute_input": "2021-03-31T14:48:41.204175Z",
     "iopub.status.busy": "2021-03-31T14:48:41.203994Z",
     "iopub.status.idle": "2021-03-31T14:48:41.961073Z",
     "shell.execute_reply": "2021-03-31T14:48:41.960618Z",
     "shell.execute_reply.started": "2021-03-31T14:48:41.204153Z"
    },
    "tags": []
   },
   "outputs": [],
   "source": [
    "present(folder, \"saliency\", ['pred_results', 'wrong'], but_zeros=False)"
   ]
  },
  {
   "cell_type": "markdown",
<<<<<<< HEAD
=======
   "id": "comfortable-olympus",
>>>>>>> 71fd0b98d1f4dee3c4d259f82e5ec315c6fc5337
   "metadata": {},
   "source": [
    "#### Normal Label"
   ]
  },
  {
   "cell_type": "code",
<<<<<<< HEAD
   "execution_count": null,
=======
   "execution_count": 7,
   "id": "preliminary-diana",
>>>>>>> 71fd0b98d1f4dee3c4d259f82e5ec315c6fc5337
   "metadata": {
    "execution": {
     "iopub.execute_input": "2021-03-31T14:48:43.012285Z",
     "iopub.status.busy": "2021-03-31T14:48:43.011938Z",
     "iopub.status.idle": "2021-03-31T14:48:43.834140Z",
     "shell.execute_reply": "2021-03-31T14:48:43.833464Z",
     "shell.execute_reply.started": "2021-03-31T14:48:43.012236Z"
    },
    "tags": []
   },
   "outputs": [],
   "source": [
    "present(folder, \"saliency\", ['true_labels', 'normal'], but_zeros=False)"
   ]
  },
  {
   "cell_type": "markdown",
<<<<<<< HEAD
=======
   "id": "secondary-treasure",
>>>>>>> 71fd0b98d1f4dee3c4d259f82e5ec315c6fc5337
   "metadata": {},
   "source": [
    "#### Abnormal Label"
   ]
  },
  {
   "cell_type": "code",
<<<<<<< HEAD
   "execution_count": null,
=======
   "execution_count": 8,
   "id": "identical-affair",
>>>>>>> 71fd0b98d1f4dee3c4d259f82e5ec315c6fc5337
   "metadata": {
    "execution": {
     "iopub.execute_input": "2021-03-31T14:48:44.855282Z",
     "iopub.status.busy": "2021-03-31T14:48:44.855114Z",
     "iopub.status.idle": "2021-03-31T14:48:45.571269Z",
     "shell.execute_reply": "2021-03-31T14:48:45.570774Z",
     "shell.execute_reply.started": "2021-03-31T14:48:44.855263Z"
    },
    "tags": []
   },
   "outputs": [],
   "source": [
    "present(folder,\"saliency\", ['true_labels', 'abnormal'], but_zeros=False)"
   ]
  },
  {
   "cell_type": "markdown",
<<<<<<< HEAD
=======
   "id": "furnished-obligation",
>>>>>>> 71fd0b98d1f4dee3c4d259f82e5ec315c6fc5337
   "metadata": {},
   "source": [
    "# Accuracy classification: \n",
    "* **final**: 0.9366\n",
    "* **mid**: 0.9341\n",
    "* **initial**: 0.9172"
   ]
  },
  {
   "cell_type": "markdown",
<<<<<<< HEAD
=======
   "id": "considered-spain",
>>>>>>> 71fd0b98d1f4dee3c4d259f82e5ec315c6fc5337
   "metadata": {
    "execution": {
     "iopub.execute_input": "2021-03-11T11:24:29.515708Z",
     "iopub.status.busy": "2021-03-11T11:24:29.515420Z",
     "iopub.status.idle": "2021-03-11T11:24:29.753350Z",
     "shell.execute_reply": "2021-03-11T11:24:29.752848Z",
     "shell.execute_reply.started": "2021-03-11T11:24:29.515637Z"
    },
    "tags": []
   },
   "source": [
    "# Attention Maps Comparison"
   ]
  },
  {
   "cell_type": "code",
<<<<<<< HEAD
   "execution_count": null,
=======
   "execution_count": 9,
   "id": "nuclear-preparation",
>>>>>>> 71fd0b98d1f4dee3c4d259f82e5ec315c6fc5337
   "metadata": {
    "execution": {
     "iopub.execute_input": "2021-03-31T14:48:46.543832Z",
     "iopub.status.busy": "2021-03-31T14:48:46.543644Z",
     "iopub.status.idle": "2021-03-31T14:48:46.546394Z",
     "shell.execute_reply": "2021-03-31T14:48:46.545753Z",
     "shell.execute_reply.started": "2021-03-31T14:48:46.543812Z"
    },
    "tags": []
   },
   "outputs": [],
   "source": [
    "#folder = '../../data/attribution_maps/' # RUI\n",
    "folder_maps = \"/mnt/Media/bernardo/attribution_maps_revisited/\""
   ]
  },
  {
   "cell_type": "code",
<<<<<<< HEAD
   "execution_count": null,
=======
   "execution_count": 10,
   "id": "subjective-channels",
>>>>>>> 71fd0b98d1f4dee3c4d259f82e5ec315c6fc5337
   "metadata": {
    "execution": {
     "iopub.execute_input": "2021-03-31T15:43:21.348231Z",
     "iopub.status.busy": "2021-03-31T15:43:21.347955Z",
     "iopub.status.idle": "2021-03-31T15:43:26.176347Z",
     "shell.execute_reply": "2021-03-31T15:43:26.175689Z",
     "shell.execute_reply.started": "2021-03-31T15:43:21.348201Z"
    },
    "tags": []
   },
   "outputs": [],
   "source": [
    "maps_comparison(\"final\", \"saliency_map\", \"abnormal\", folder_maps)"
   ]
  },
  {
   "cell_type": "code",
   "execution_count": null,
<<<<<<< HEAD
=======
   "id": "republican-literature",
>>>>>>> 71fd0b98d1f4dee3c4d259f82e5ec315c6fc5337
   "metadata": {},
   "outputs": [],
   "source": []
  }
 ],
 "metadata": {
  "kernelspec": {
   "display_name": "Python 3",
   "language": "python",
   "name": "python3"
  },
  "language_info": {
   "codemirror_mode": {
    "name": "ipython",
    "version": 3
   },
   "file_extension": ".py",
   "mimetype": "text/x-python",
   "name": "python",
   "nbconvert_exporter": "python",
   "pygments_lexer": "ipython3",
<<<<<<< HEAD
   "version": "3.7.6"
=======
   "version": "3.8.5"
>>>>>>> 71fd0b98d1f4dee3c4d259f82e5ec315c6fc5337
  }
 },
 "nbformat": 4,
 "nbformat_minor": 5
}
