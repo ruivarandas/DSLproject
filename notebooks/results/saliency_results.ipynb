{
 "cells": [
  {
   "cell_type": "markdown",
   "id": "incorrect-fence",
   "metadata": {},
   "source": [
    "# Results"
   ]
  },
  {
   "cell_type": "markdown",
   "id": "ancient-winter",
   "metadata": {},
   "source": [
    "We will present the results of the metrics in this notebook."
   ]
  },
  {
   "cell_type": "code",
   "execution_count": 1,
   "id": "celtic-ireland",
   "metadata": {},
   "outputs": [],
   "source": [
    "from json import load\n",
    "from os.path import join\n",
    "import numpy as np"
   ]
  },
  {
   "cell_type": "code",
   "execution_count": 2,
   "id": "alternative-pitch",
   "metadata": {},
   "outputs": [],
   "source": [
    "def convert_to_float(data):\n",
    "    return np.array([float(val) for val in data])\n",
    "\n",
    "def present_values(folder, params=None):\n",
    "    for beat in ['initial', 'mid', 'final']:\n",
    "        path_to_results = join(folder, f\"{beat}_saliency_map_metrics.json\")\n",
    "        with open(path_to_results, 'r') as file:\n",
    "            sal_initial = load(file)\n",
    "        values = convert_to_float(sal_initial['values'])\n",
    "        if params is not None:\n",
    "            values = values[np.where(values != params)]\n",
    "        print(f\"Mean value of {beat} beat: {np.nanmean(values)*100:.2f} +- {np.nanstd(values)*100:.2f}%\")\n",
    "\n",
    "def present(folder, params=None):\n",
    "    for beat in ['initial', 'mid', 'final']:\n",
    "        path_to_results = join(folder, f\"{beat}_saliency_map_metrics.json\")\n",
    "        with open(path_to_results, 'r') as file:\n",
    "            sal_initial = load(file)\n",
    "        values = convert_to_float(sal_initial['values'])\n",
    "        if params is not None:\n",
    "            values = values[np.where(np.array(sal_initial[params[0]]) == params[1])]\n",
    "        print(f\"Mean value of {beat} beat: {np.nanmean(values)*100:.2f} +- {np.nanstd(values)*100:.2f}%\")"
   ]
  },
  {
   "cell_type": "markdown",
   "id": "lined-taxation",
   "metadata": {},
   "source": [
    "## Sum of the ROI divided by the Total sum"
   ]
  },
  {
   "cell_type": "code",
   "execution_count": 3,
   "id": "palestinian-message",
   "metadata": {},
   "outputs": [],
   "source": [
    "folder = \"../../XAI_metrics/metrics/\""
   ]
  },
  {
   "cell_type": "markdown",
   "id": "dependent-drama",
   "metadata": {},
   "source": [
    "### Saliency Maps"
   ]
  },
  {
   "cell_type": "markdown",
   "id": "protected-practitioner",
   "metadata": {},
   "source": [
    "#### All Values"
   ]
  },
  {
   "cell_type": "code",
   "execution_count": 4,
   "id": "fatal-forth",
   "metadata": {},
   "outputs": [
    {
     "name": "stdout",
     "output_type": "stream",
     "text": [
      "Mean value of initial beat: 3.02 +- 7.00%\n",
      "Mean value of mid beat: 1.75 +- 3.85%\n",
      "Mean value of final beat: 2.61 +- 5.81%\n"
     ]
    },
    {
     "data": {
      "text/plain": [
       "(array([0], dtype=int64),)"
      ]
     },
     "execution_count": 4,
     "metadata": {},
     "output_type": "execute_result"
    }
   ],
   "source": [
    "values = present_values(folder)\n",
    "np.where(values != 0)"
   ]
  },
  {
   "cell_type": "markdown",
   "id": "clean-advance",
   "metadata": {},
   "source": [
    "#### All But 0's"
   ]
  },
  {
   "cell_type": "code",
   "execution_count": 5,
   "id": "humanitarian-style",
   "metadata": {},
   "outputs": [
    {
     "name": "stdout",
     "output_type": "stream",
     "text": [
      "Mean value of initial beat: 13.02 +- 9.03%\n",
      "Mean value of mid beat: 6.96 +- 4.77%\n",
      "Mean value of final beat: 10.44 +- 7.31%\n"
     ]
    }
   ],
   "source": [
    "present_values(folder, 0)"
   ]
  },
  {
   "cell_type": "markdown",
   "id": "assured-criminal",
   "metadata": {},
   "source": [
    "#### Correct Classification"
   ]
  },
  {
   "cell_type": "code",
   "execution_count": 6,
   "id": "certain-croatia",
   "metadata": {},
   "outputs": [
    {
     "name": "stdout",
     "output_type": "stream",
     "text": [
      "Mean value of initial beat: 2.01 +- 5.70%\n",
      "Mean value of mid beat: 1.44 +- 3.68%\n",
      "Mean value of final beat: 2.45 +- 5.43%\n"
     ]
    }
   ],
   "source": [
    "present(folder, ['pred_results', 'ok'])"
   ]
  },
  {
   "cell_type": "markdown",
   "id": "serious-oracle",
   "metadata": {},
   "source": [
    "#### Incorrect Classification"
   ]
  },
  {
   "cell_type": "code",
   "execution_count": 7,
   "id": "renewable-breach",
   "metadata": {},
   "outputs": [
    {
     "name": "stdout",
     "output_type": "stream",
     "text": [
      "Mean value of initial beat: 7.40 +- 9.90%\n",
      "Mean value of mid beat: 2.98 +- 4.27%\n",
      "Mean value of final beat: 5.28 +- 9.88%\n"
     ]
    }
   ],
   "source": [
    "present(folder, ['pred_results', 'wrong'])"
   ]
  },
  {
   "cell_type": "markdown",
   "id": "electoral-paris",
   "metadata": {},
   "source": [
    "#### Normal Label"
   ]
  },
  {
   "cell_type": "code",
   "execution_count": 8,
   "id": "received-timing",
   "metadata": {},
   "outputs": [
    {
     "name": "stdout",
     "output_type": "stream",
     "text": [
      "Mean value of initial beat: 2.73 +- 6.78%\n",
      "Mean value of mid beat: 1.53 +- 3.64%\n",
      "Mean value of final beat: 1.81 +- 4.18%\n"
     ]
    }
   ],
   "source": [
    "present(folder, ['true_labels', 'normal'])"
   ]
  },
  {
   "cell_type": "markdown",
   "id": "looking-interest",
   "metadata": {},
   "source": [
    "#### Abnormal Label"
   ]
  },
  {
   "cell_type": "code",
   "execution_count": 9,
   "id": "industrial-voice",
   "metadata": {},
   "outputs": [
    {
     "name": "stdout",
     "output_type": "stream",
     "text": [
      "Mean value of initial beat: 5.37 +- 8.25%\n",
      "Mean value of mid beat: 3.58 +- 4.91%\n",
      "Mean value of final beat: 9.15 +- 10.89%\n"
     ]
    }
   ],
   "source": [
    "present(folder, ['true_labels', 'abnormal'])"
   ]
  }
 ],
 "metadata": {
  "kernelspec": {
   "display_name": "Python 3",
   "language": "python",
   "name": "python3"
  },
  "language_info": {
   "codemirror_mode": {
    "name": "ipython",
    "version": 3
   },
   "file_extension": ".py",
   "mimetype": "text/x-python",
   "name": "python",
   "nbconvert_exporter": "python",
   "pygments_lexer": "ipython3",
   "version": "3.6.5"
  }
 },
 "nbformat": 4,
 "nbformat_minor": 5
}
