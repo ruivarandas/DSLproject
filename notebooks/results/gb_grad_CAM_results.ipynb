{
 "cells": [
  {
   "cell_type": "markdown",
   "id": "organized-olympus",
   "metadata": {},
   "source": [
    "# Results"
   ]
  },
  {
   "cell_type": "markdown",
   "id": "weird-wayne",
   "metadata": {},
   "source": [
    "We will present the results of the metrics in this notebook."
   ]
  },
  {
   "cell_type": "code",
   "execution_count": 5,
   "id": "charming-pathology",
   "metadata": {
    "execution": {
     "iopub.execute_input": "2021-05-06T10:09:26.936281Z",
     "iopub.status.busy": "2021-05-06T10:09:26.936042Z",
     "iopub.status.idle": "2021-05-06T10:09:26.939474Z",
     "shell.execute_reply": "2021-05-06T10:09:26.938723Z",
     "shell.execute_reply.started": "2021-05-06T10:09:26.936255Z"
    },
    "tags": []
   },
   "outputs": [],
   "source": [
    "from results_preparation import *"
   ]
  },
  {
   "cell_type": "code",
   "execution_count": 6,
   "id": "charming-citation",
   "metadata": {
    "execution": {
     "iopub.execute_input": "2021-05-06T10:09:27.205225Z",
     "iopub.status.busy": "2021-05-06T10:09:27.204565Z",
     "iopub.status.idle": "2021-05-06T10:09:27.213122Z",
     "shell.execute_reply": "2021-05-06T10:09:27.210969Z",
     "shell.execute_reply.started": "2021-05-06T10:09:27.205150Z"
    },
    "tags": []
   },
   "outputs": [],
   "source": [
    "folder = \"../../XAI_metrics/metrics/\""
   ]
  },
  {
   "cell_type": "markdown",
   "id": "spatial-housing",
   "metadata": {},
   "source": [
    "## Sum of the ROI divided by the Total sum"
   ]
  },
  {
   "cell_type": "markdown",
   "id": "royal-partition",
   "metadata": {},
   "source": [
    "### Saliency Maps"
   ]
  },
  {
   "cell_type": "markdown",
   "id": "reliable-while",
   "metadata": {},
   "source": [
    "#### All Values"
   ]
  },
  {
   "cell_type": "code",
   "execution_count": 7,
   "id": "charming-ottawa",
   "metadata": {
    "execution": {
     "iopub.execute_input": "2021-05-06T10:09:28.354027Z",
     "iopub.status.busy": "2021-05-06T10:09:28.353750Z",
     "iopub.status.idle": "2021-05-06T10:09:28.844899Z",
     "shell.execute_reply": "2021-05-06T10:09:28.844461Z",
     "shell.execute_reply.started": "2021-05-06T10:09:28.353996Z"
    },
    "tags": []
   },
   "outputs": [
    {
     "name": "stdout",
     "output_type": "stream",
     "text": [
      "Mean value of initial beat: 7.71 +- 2.94%\n",
      "Mean value of final beat: 6.19 +- 12.39%\n"
     ]
    },
    {
     "data": {
      "image/png": "[encoded data removed]",
      "text/plain": [
       "<Figure size 720x360 with 2 Axes>"
      ]
     },
     "metadata": {
      "needs_background": "light"
     },
     "output_type": "display_data"
    }
   ],
   "source": [
    "present_values(folder, \"gb_grad_cam\")"
   ]
  },
  {
   "cell_type": "markdown",
   "id": "executive-weekend",
   "metadata": {},
   "source": [
    "#### All But 0's"
   ]
  },
  {
   "cell_type": "code",
   "execution_count": 5,
   "id": "arranged-painting",
   "metadata": {
    "execution": {
     "iopub.execute_input": "2021-03-21T11:41:44.729067Z",
     "iopub.status.busy": "2021-03-21T11:41:44.728773Z",
     "iopub.status.idle": "2021-03-21T11:41:45.526932Z",
     "shell.execute_reply": "2021-03-21T11:41:45.525754Z",
     "shell.execute_reply.started": "2021-03-21T11:41:44.729034Z"
    },
    "tags": []
   },
   "outputs": [],
   "source": [
    "present_values(folder,\"gb_grad_cam\", 0)"
   ]
  },
  {
   "cell_type": "markdown",
   "id": "completed-return",
   "metadata": {},
   "source": [
    "#### Correct Classification"
   ]
  },
  {
   "cell_type": "code",
   "execution_count": 7,
   "id": "norwegian-holmes",
   "metadata": {
    "execution": {
     "iopub.execute_input": "2021-03-31T14:51:24.865828Z",
     "iopub.status.busy": "2021-03-31T14:51:24.865660Z",
     "iopub.status.idle": "2021-03-31T14:51:25.680649Z",
     "shell.execute_reply": "2021-03-31T14:51:25.680131Z",
     "shell.execute_reply.started": "2021-03-31T14:51:24.865809Z"
    },
    "tags": []
   },
   "outputs": [],
   "source": [
    "present(folder, \"gb_grad_cam\", ['pred_results', 'ok'], but_zeros=False)"
   ]
  },
  {
   "cell_type": "markdown",
   "id": "healthy-michael",
   "metadata": {},
   "source": [
    "#### Incorrect Classification"
   ]
  },
  {
   "cell_type": "code",
   "execution_count": 8,
   "id": "informative-annex",
   "metadata": {
    "execution": {
     "iopub.execute_input": "2021-03-31T14:51:29.612631Z",
     "iopub.status.busy": "2021-03-31T14:51:29.612412Z",
     "iopub.status.idle": "2021-03-31T14:51:30.332584Z",
     "shell.execute_reply": "2021-03-31T14:51:30.332084Z",
     "shell.execute_reply.started": "2021-03-31T14:51:29.612607Z"
    },
    "tags": []
   },
   "outputs": [],
   "source": [
    "present(folder, \"gb_grad_cam\", ['pred_results', 'wrong'], but_zeros=False)"
   ]
  },
  {
   "cell_type": "markdown",
   "id": "immediate-modeling",
   "metadata": {},
   "source": [
    "#### Normal Label"
   ]
  },
  {
   "cell_type": "code",
   "execution_count": 9,
   "id": "powered-curve",
   "metadata": {
    "execution": {
     "iopub.execute_input": "2021-03-31T14:51:34.319737Z",
     "iopub.status.busy": "2021-03-31T14:51:34.319367Z",
     "iopub.status.idle": "2021-03-31T14:51:35.120647Z",
     "shell.execute_reply": "2021-03-31T14:51:35.120084Z",
     "shell.execute_reply.started": "2021-03-31T14:51:34.319693Z"
    },
    "tags": []
   },
   "outputs": [],
   "source": [
    "present(folder, \"gb_grad_cam\", ['true_labels', 'normal'], but_zeros=False)"
   ]
  },
  {
   "cell_type": "markdown",
   "id": "shared-palestine",
   "metadata": {},
   "source": [
    "#### Abnormal Label"
   ]
  },
  {
   "cell_type": "code",
   "execution_count": 10,
   "id": "civilian-honey",
   "metadata": {
    "execution": {
     "iopub.execute_input": "2021-03-31T14:51:42.493433Z",
     "iopub.status.busy": "2021-03-31T14:51:42.492922Z",
     "iopub.status.idle": "2021-03-31T14:51:43.255606Z",
     "shell.execute_reply": "2021-03-31T14:51:43.255108Z",
     "shell.execute_reply.started": "2021-03-31T14:51:42.493361Z"
    },
    "tags": []
   },
   "outputs": [],
   "source": [
    "present(folder, \"gb_grad_cam\", ['true_labels', 'abnormal'], but_zeros=False)"
   ]
  },
  {
   "cell_type": "markdown",
   "id": "destroyed-interface",
   "metadata": {
    "execution": {
     "iopub.execute_input": "2021-03-11T11:24:29.515708Z",
     "iopub.status.busy": "2021-03-11T11:24:29.515420Z",
     "iopub.status.idle": "2021-03-11T11:24:29.753350Z",
     "shell.execute_reply": "2021-03-11T11:24:29.752848Z",
     "shell.execute_reply.started": "2021-03-11T11:24:29.515637Z"
    },
    "tags": []
   },
   "source": [
    "# Attention Maps Comparison"
   ]
  },
  {
   "cell_type": "code",
   "execution_count": 13,
   "id": "incident-eugene",
   "metadata": {
    "execution": {
     "iopub.execute_input": "2021-03-21T11:43:19.945277Z",
     "iopub.status.busy": "2021-03-21T11:43:19.945011Z",
     "iopub.status.idle": "2021-03-21T11:43:19.948099Z",
     "shell.execute_reply": "2021-03-21T11:43:19.947482Z",
     "shell.execute_reply.started": "2021-03-21T11:43:19.945248Z"
    }
   },
   "outputs": [],
   "source": [
    "#folder = '../../data/attribution_maps/'\n",
    "folder_maps = \"/mnt/Media/bernardo/attribution_maps_revisited/\""
   ]
  },
  {
   "cell_type": "code",
   "execution_count": 14,
   "id": "waiting-planet",
   "metadata": {
    "execution": {
     "iopub.execute_input": "2021-03-21T11:43:20.171421Z",
     "iopub.status.busy": "2021-03-21T11:43:20.171193Z",
     "iopub.status.idle": "2021-03-21T11:43:27.770612Z",
     "shell.execute_reply": "2021-03-21T11:43:27.770061Z",
     "shell.execute_reply.started": "2021-03-21T11:43:20.171395Z"
    },
    "tags": []
   },
   "outputs": [],
   "source": [
    "maps_comparison(\"final\", \"gb_grad_cam_map\", \"normal\", folder_maps)"
   ]
  },
  {
   "cell_type": "code",
   "execution_count": null,
   "id": "collaborative-prototype",
   "metadata": {},
   "outputs": [],
   "source": []
  },
  {
   "cell_type": "code",
   "execution_count": null,
   "id": "color-faculty",
   "metadata": {},
   "outputs": [],
   "source": []
  }
 ],
 "metadata": {
  "kernelspec": {
   "display_name": "Python 3",
   "language": "python",
   "name": "python3"
  },
  "language_info": {
   "codemirror_mode": {
    "name": "ipython",
    "version": 3
   },
   "file_extension": ".py",
   "mimetype": "text/x-python",
   "name": "python",
   "nbconvert_exporter": "python",
   "pygments_lexer": "ipython3",
   "version": "3.7.6"
  }
 },
 "nbformat": 4,
 "nbformat_minor": 5
}
