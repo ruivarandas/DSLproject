{
 "cells": [
  {
   "cell_type": "markdown",
   "id": "detailed-chapel",
   "metadata": {},
   "source": [
    "# Results"
   ]
  },
  {
   "cell_type": "markdown",
   "id": "polyphonic-potter",
   "metadata": {},
   "source": [
    "We will present the results of the metrics in this notebook."
   ]
  },
  {
   "cell_type": "code",
   "execution_count": 1,
   "id": "hindu-plate",
   "metadata": {
    "execution": {
     "iopub.execute_input": "2021-03-09T10:04:41.402986Z",
     "iopub.status.busy": "2021-03-09T10:04:41.402208Z",
     "iopub.status.idle": "2021-03-09T10:04:41.476367Z",
     "shell.execute_reply": "2021-03-09T10:04:41.475847Z",
     "shell.execute_reply.started": "2021-03-09T10:04:41.402793Z"
    }
   },
   "outputs": [],
   "source": [
    "from json import load\n",
    "from os.path import join\n",
    "import numpy as np"
   ]
  },
  {
   "cell_type": "code",
   "execution_count": 2,
   "id": "decimal-transparency",
   "metadata": {
    "execution": {
     "iopub.execute_input": "2021-03-09T10:04:44.536817Z",
     "iopub.status.busy": "2021-03-09T10:04:44.536075Z",
     "iopub.status.idle": "2021-03-09T10:04:44.551040Z",
     "shell.execute_reply": "2021-03-09T10:04:44.550033Z",
     "shell.execute_reply.started": "2021-03-09T10:04:44.536741Z"
    }
   },
   "outputs": [],
   "source": [
    "def convert_to_float(data):\n",
    "    return np.array([float(val) for val in data])\n",
    "\n",
    "def present_values(folder, params=None):\n",
    "    for beat in ['initial', 'mid', 'final']:\n",
    "        path_to_results = join(folder, f\"{beat}_gb_grad_cam_map_metrics.json\")\n",
    "        with open(path_to_results, 'r') as file:\n",
    "            sal_initial = load(file)\n",
    "        values = convert_to_float(sal_initial['values'])\n",
    "        if params is not None:\n",
    "            values = values[np.where(values != params)[0]]\n",
    "        print(f\"Mean value of {beat} beat: {np.nanmean(values)*100:.2f} +- {np.nanstd(values)*100:.2f}%\")\n",
    "\n",
    "def present(folder, params=None):\n",
    "    for beat in ['initial', 'mid', 'final']:\n",
    "        path_to_results = join(folder, f\"{beat}_gb_grad_cam_map_metrics.json\")\n",
    "        with open(path_to_results, 'r') as file:\n",
    "            sal_initial = load(file)\n",
    "        values = convert_to_float(sal_initial['values'])\n",
    "        if params is not None:\n",
    "            values = values[np.where(np.array(sal_initial[params[0]]) == params[1])[0]]\n",
    "        print(f\"Mean value of {beat} beat: {np.nanmean(values)*100:.2f} +- {np.nanstd(values)*100:.2f}%\")"
   ]
  },
  {
   "cell_type": "code",
   "execution_count": 8,
   "id": "muslim-requirement",
   "metadata": {
    "execution": {
     "iopub.execute_input": "2021-03-09T10:05:10.093229Z",
     "iopub.status.busy": "2021-03-09T10:05:10.092752Z",
     "iopub.status.idle": "2021-03-09T10:05:10.158839Z",
     "shell.execute_reply": "2021-03-09T10:05:10.158353Z",
     "shell.execute_reply.started": "2021-03-09T10:05:10.093172Z"
    },
    "tags": []
   },
   "outputs": [
    {
     "name": "stdout",
     "output_type": "stream",
     "text": [
      "initial beat: 0.9266674731833212\n",
      "mid beat: 0.9098314380191951\n",
      "final beat: 0.9427764895654804\n"
     ]
    }
   ],
   "source": [
    "for beat in ['initial', 'mid', 'final']:\n",
    "    path_to_results = join(folder, f\"{beat}_gb_grad_cam_map_metrics.json\")\n",
    "    with open(path_to_results, 'r') as file:\n",
    "        sal_initial = load(file)\n",
    "        print(f\"{beat} beat: {len(np.where(np.array(sal_initial['pred_results']) == 'ok')[0]) / len(sal_initial['pred_results'])}\")"
   ]
  },
  {
   "cell_type": "markdown",
   "id": "satellite-ancient",
   "metadata": {},
   "source": [
    "## Sum of the ROI divided by the Total sum"
   ]
  },
  {
   "cell_type": "code",
   "execution_count": 4,
   "id": "curious-punishment",
   "metadata": {
    "execution": {
     "iopub.execute_input": "2021-03-09T10:04:55.373704Z",
     "iopub.status.busy": "2021-03-09T10:04:55.373097Z",
     "iopub.status.idle": "2021-03-09T10:04:55.381050Z",
     "shell.execute_reply": "2021-03-09T10:04:55.379269Z",
     "shell.execute_reply.started": "2021-03-09T10:04:55.373636Z"
    }
   },
   "outputs": [],
   "source": [
    "folder = \"../../XAI_metrics/metrics/\""
   ]
  },
  {
   "cell_type": "markdown",
   "id": "conservative-peripheral",
   "metadata": {},
   "source": [
    "### Saliency Maps"
   ]
  },
  {
   "cell_type": "markdown",
   "id": "caroline-understanding",
   "metadata": {},
   "source": [
    "#### All Values"
   ]
  },
  {
   "cell_type": "code",
   "execution_count": 10,
   "id": "moral-blanket",
   "metadata": {
    "execution": {
     "iopub.execute_input": "2021-03-09T10:05:57.629378Z",
     "iopub.status.busy": "2021-03-09T10:05:57.629007Z",
     "iopub.status.idle": "2021-03-09T10:05:57.709027Z",
     "shell.execute_reply": "2021-03-09T10:05:57.708544Z",
     "shell.execute_reply.started": "2021-03-09T10:05:57.629336Z"
    },
    "tags": []
   },
   "outputs": [
    {
     "name": "stdout",
     "output_type": "stream",
     "text": [
      "Mean value of initial beat: 2.16 +- 5.79%\n",
      "Mean value of mid beat: 2.28 +- 4.94%\n",
      "Mean value of final beat: 2.14 +- 4.46%\n"
     ]
    }
   ],
   "source": [
    "present_values(folder)"
   ]
  },
  {
   "cell_type": "markdown",
   "id": "stretch-ecology",
   "metadata": {},
   "source": [
    "#### All But 0's"
   ]
  },
  {
   "cell_type": "code",
   "execution_count": 11,
   "id": "romantic-costume",
   "metadata": {
    "execution": {
     "iopub.execute_input": "2021-03-09T10:05:58.518407Z",
     "iopub.status.busy": "2021-03-09T10:05:58.518119Z",
     "iopub.status.idle": "2021-03-09T10:05:58.593320Z",
     "shell.execute_reply": "2021-03-09T10:05:58.592842Z",
     "shell.execute_reply.started": "2021-03-09T10:05:58.518375Z"
    },
    "tags": []
   },
   "outputs": [
    {
     "name": "stdout",
     "output_type": "stream",
     "text": [
      "Mean value of initial beat: 10.96 +- 8.59%\n",
      "Mean value of mid beat: 9.11 +- 5.95%\n",
      "Mean value of final beat: 9.15 +- 4.56%\n"
     ]
    }
   ],
   "source": [
    "present_values(folder, 0)"
   ]
  },
  {
   "cell_type": "markdown",
   "id": "wooden-employment",
   "metadata": {},
   "source": [
    "#### Correct Classification"
   ]
  },
  {
   "cell_type": "code",
   "execution_count": 12,
   "id": "posted-numbers",
   "metadata": {
    "execution": {
     "iopub.execute_input": "2021-03-09T10:05:59.285044Z",
     "iopub.status.busy": "2021-03-09T10:05:59.284472Z",
     "iopub.status.idle": "2021-03-09T10:05:59.372529Z",
     "shell.execute_reply": "2021-03-09T10:05:59.372040Z",
     "shell.execute_reply.started": "2021-03-09T10:05:59.284990Z"
    },
    "tags": []
   },
   "outputs": [
    {
     "name": "stdout",
     "output_type": "stream",
     "text": [
      "Mean value of initial beat: 2.06 +- 5.22%\n",
      "Mean value of mid beat: 2.06 +- 4.17%\n",
      "Mean value of final beat: 2.14 +- 4.29%\n"
     ]
    }
   ],
   "source": [
    "present(folder, ['pred_results', 'ok'])"
   ]
  },
  {
   "cell_type": "markdown",
   "id": "numeric-compromise",
   "metadata": {},
   "source": [
    "#### Incorrect Classification"
   ]
  },
  {
   "cell_type": "code",
   "execution_count": 13,
   "id": "mineral-envelope",
   "metadata": {
    "execution": {
     "iopub.execute_input": "2021-03-09T10:05:59.694602Z",
     "iopub.status.busy": "2021-03-09T10:05:59.693859Z",
     "iopub.status.idle": "2021-03-09T10:05:59.791970Z",
     "shell.execute_reply": "2021-03-09T10:05:59.791443Z",
     "shell.execute_reply.started": "2021-03-09T10:05:59.694481Z"
    }
   },
   "outputs": [
    {
     "name": "stdout",
     "output_type": "stream",
     "text": [
      "Mean value of initial beat: 3.59 +- 10.83%\n",
      "Mean value of mid beat: 4.76 +- 9.84%\n",
      "Mean value of final beat: 2.14 +- 6.98%\n"
     ]
    }
   ],
   "source": [
    "present(folder, ['pred_results', 'wrong'])"
   ]
  },
  {
   "cell_type": "markdown",
   "id": "alien-federal",
   "metadata": {},
   "source": [
    "#### Normal Label"
   ]
  },
  {
   "cell_type": "code",
   "execution_count": 14,
   "id": "affected-static",
   "metadata": {
    "execution": {
     "iopub.execute_input": "2021-03-09T10:06:00.115387Z",
     "iopub.status.busy": "2021-03-09T10:06:00.114426Z",
     "iopub.status.idle": "2021-03-09T10:06:00.209980Z",
     "shell.execute_reply": "2021-03-09T10:06:00.209491Z",
     "shell.execute_reply.started": "2021-03-09T10:06:00.115271Z"
    }
   },
   "outputs": [
    {
     "name": "stdout",
     "output_type": "stream",
     "text": [
      "Mean value of initial beat: 1.32 +- 3.32%\n",
      "Mean value of mid beat: 2.14 +- 4.75%\n",
      "Mean value of final beat: 1.79 +- 3.76%\n"
     ]
    }
   ],
   "source": [
    "present(folder, ['true_labels', 'normal'])"
   ]
  },
  {
   "cell_type": "markdown",
   "id": "excess-scholarship",
   "metadata": {},
   "source": [
    "#### Abnormal Label"
   ]
  },
  {
   "cell_type": "code",
   "execution_count": 15,
   "id": "fossil-dairy",
   "metadata": {
    "execution": {
     "iopub.execute_input": "2021-03-09T10:06:00.563474Z",
     "iopub.status.busy": "2021-03-09T10:06:00.562861Z",
     "iopub.status.idle": "2021-03-09T10:06:00.668641Z",
     "shell.execute_reply": "2021-03-09T10:06:00.668152Z",
     "shell.execute_reply.started": "2021-03-09T10:06:00.563406Z"
    }
   },
   "outputs": [
    {
     "name": "stdout",
     "output_type": "stream",
     "text": [
      "Mean value of initial beat: 9.35 +- 13.00%\n",
      "Mean value of mid beat: 3.63 +- 6.32%\n",
      "Mean value of final beat: 5.61 +- 7.98%\n"
     ]
    }
   ],
   "source": [
    "present(folder, ['true_labels', 'abnormal'])"
   ]
  },
  {
   "cell_type": "code",
   "execution_count": null,
   "id": "western-electronics",
   "metadata": {},
   "outputs": [],
   "source": []
  }
 ],
 "metadata": {
  "kernelspec": {
   "display_name": "Python 3",
   "language": "python",
   "name": "python3"
  },
  "language_info": {
   "codemirror_mode": {
    "name": "ipython",
    "version": 3
   },
   "file_extension": ".py",
   "mimetype": "text/x-python",
   "name": "python",
   "nbconvert_exporter": "python",
   "pygments_lexer": "ipython3",
   "version": "3.8.5"
  }
 },
 "nbformat": 4,
 "nbformat_minor": 5
}
