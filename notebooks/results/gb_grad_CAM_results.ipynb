{
 "cells": [
  {
   "cell_type": "markdown",
   "id": "adverse-johnston",
   "metadata": {},
   "source": [
    "# Results"
   ]
  },
  {
   "cell_type": "markdown",
   "id": "comfortable-person",
   "metadata": {},
   "source": [
    "We will present the results of the metrics in this notebook."
   ]
  },
  {
   "cell_type": "code",
   "execution_count": 1,
   "id": "decent-choice",
   "metadata": {
    "execution": {
     "iopub.execute_input": "2021-03-11T10:35:25.976806Z",
     "iopub.status.busy": "2021-03-11T10:35:25.976484Z",
     "iopub.status.idle": "2021-03-11T10:35:26.131011Z",
     "shell.execute_reply": "2021-03-11T10:35:26.130268Z",
     "shell.execute_reply.started": "2021-03-11T10:35:25.976725Z"
    },
    "tags": []
   },
   "outputs": [],
   "source": [
    "from json import load\n",
    "from os.path import join\n",
    "import numpy as np"
   ]
  },
  {
   "cell_type": "code",
   "execution_count": 4,
   "id": "ceramic-insight",
   "metadata": {
    "execution": {
     "iopub.execute_input": "2021-03-11T10:36:14.200905Z",
     "iopub.status.busy": "2021-03-11T10:36:14.200551Z",
     "iopub.status.idle": "2021-03-11T10:36:14.210480Z",
     "shell.execute_reply": "2021-03-11T10:36:14.209731Z",
     "shell.execute_reply.started": "2021-03-11T10:36:14.200863Z"
    },
    "tags": []
   },
   "outputs": [],
   "source": [
    "def convert_to_float(data):\n",
    "    return np.array([float(val) for val in data])\n",
    "\n",
    "def present_values(folder, params=None):\n",
    "    for beat in ['initial', 'mid', 'final']:\n",
    "        path_to_results = join(folder, f\"{beat}_gb_grad_cam_map_metrics.json\")\n",
    "        with open(path_to_results, 'r') as file:\n",
    "            sal_initial = load(file)\n",
    "        values = convert_to_float(sal_initial['values'])\n",
    "        if params is not None:\n",
    "            values = values[np.where(values != params)[0]]\n",
    "        print(f\"Mean value of {beat} beat: {np.nanmean(values)*100:.2f} +- {np.nanstd(values)*100:.2f}%\")\n",
    "\n",
    "def present(folder, params=None):\n",
    "    for beat in ['initial', 'mid', 'final']:\n",
    "        path_to_results = join(folder, f\"{beat}_gb_grad_cam_map_metrics.json\")\n",
    "        with open(path_to_results, 'r') as file:\n",
    "            sal_initial = load(file)\n",
    "        values = convert_to_float(sal_initial['values'])\n",
    "        if params is not None:\n",
    "            values = values[np.where(np.array(sal_initial[params[0]]) == params[1])[0]]\n",
    "        print(f\"Mean value of {beat} beat: {np.nanmean(values)*100:.2f} +- {np.nanstd(values)*100:.2f}%\")"
   ]
  },
  {
   "cell_type": "code",
   "execution_count": 3,
   "id": "floppy-hebrew",
   "metadata": {
    "execution": {
     "iopub.execute_input": "2021-03-11T10:36:11.380755Z",
     "iopub.status.busy": "2021-03-11T10:36:11.380444Z",
     "iopub.status.idle": "2021-03-11T10:36:11.384896Z",
     "shell.execute_reply": "2021-03-11T10:36:11.383918Z",
     "shell.execute_reply.started": "2021-03-11T10:36:11.380719Z"
    },
    "tags": []
   },
   "outputs": [],
   "source": [
    "folder = \"../../XAI_metrics/metrics/no_grid\""
   ]
  },
  {
   "cell_type": "code",
   "execution_count": 6,
   "id": "polyphonic-advance",
   "metadata": {
    "execution": {
     "iopub.execute_input": "2021-03-11T10:36:23.501920Z",
     "iopub.status.busy": "2021-03-11T10:36:23.501576Z",
     "iopub.status.idle": "2021-03-11T10:36:23.586918Z",
     "shell.execute_reply": "2021-03-11T10:36:23.586467Z",
     "shell.execute_reply.started": "2021-03-11T10:36:23.501879Z"
    },
    "tags": []
   },
   "outputs": [
    {
     "name": "stdout",
     "output_type": "stream",
     "text": [
      "initial beat: 0.9172312283248649\n",
      "mid beat: 0.9340860973888497\n",
      "final beat: 0.9366670027220486\n"
     ]
    }
   ],
   "source": [
    "for beat in ['initial', 'mid', 'final']:\n",
    "    path_to_results = join(folder, f\"{beat}_gb_grad_cam_map_metrics.json\")\n",
    "    with open(path_to_results, 'r') as file:\n",
    "        sal_initial = load(file)\n",
    "        print(f\"{beat} beat: {len(np.where(np.array(sal_initial['pred_results']) == 'ok')[0]) / len(sal_initial['pred_results'])}\")"
   ]
  },
  {
   "cell_type": "markdown",
   "id": "advised-benjamin",
   "metadata": {},
   "source": [
    "## Sum of the ROI divided by the Total sum"
   ]
  },
  {
   "cell_type": "markdown",
   "id": "unavailable-stranger",
   "metadata": {},
   "source": [
    "### Saliency Maps"
   ]
  },
  {
   "cell_type": "markdown",
   "id": "caroline-router",
   "metadata": {},
   "source": [
    "#### All Values"
   ]
  },
  {
   "cell_type": "code",
   "execution_count": 7,
   "id": "positive-costume",
   "metadata": {
    "execution": {
     "iopub.execute_input": "2021-03-11T10:36:26.589963Z",
     "iopub.status.busy": "2021-03-11T10:36:26.589415Z",
     "iopub.status.idle": "2021-03-11T10:36:26.672057Z",
     "shell.execute_reply": "2021-03-11T10:36:26.671564Z",
     "shell.execute_reply.started": "2021-03-11T10:36:26.589886Z"
    },
    "tags": []
   },
   "outputs": [
    {
     "name": "stdout",
     "output_type": "stream",
     "text": [
      "Mean value of initial beat: 3.81 +- 15.11%\n",
      "Mean value of mid beat: 2.31 +- 4.75%\n",
      "Mean value of final beat: 3.29 +- 6.91%\n"
     ]
    }
   ],
   "source": [
    "present_values(folder)"
   ]
  },
  {
   "cell_type": "markdown",
   "id": "appropriate-visibility",
   "metadata": {},
   "source": [
    "#### All But 0's"
   ]
  },
  {
   "cell_type": "code",
   "execution_count": 8,
   "id": "alternate-prescription",
   "metadata": {
    "execution": {
     "iopub.execute_input": "2021-03-11T10:36:36.416320Z",
     "iopub.status.busy": "2021-03-11T10:36:36.415926Z",
     "iopub.status.idle": "2021-03-11T10:36:36.498049Z",
     "shell.execute_reply": "2021-03-11T10:36:36.497512Z",
     "shell.execute_reply.started": "2021-03-11T10:36:36.416277Z"
    },
    "tags": []
   },
   "outputs": [
    {
     "name": "stdout",
     "output_type": "stream",
     "text": [
      "Mean value of initial beat: 29.86 +- 31.77%\n",
      "Mean value of mid beat: 9.96 +- 4.59%\n",
      "Mean value of final beat: 14.08 +- 7.22%\n"
     ]
    }
   ],
   "source": [
    "present_values(folder, 0)"
   ]
  },
  {
   "cell_type": "markdown",
   "id": "familiar-craft",
   "metadata": {},
   "source": [
    "#### Correct Classification"
   ]
  },
  {
   "cell_type": "code",
   "execution_count": 9,
   "id": "apparent-seventh",
   "metadata": {
    "execution": {
     "iopub.execute_input": "2021-03-11T10:36:40.263221Z",
     "iopub.status.busy": "2021-03-11T10:36:40.262899Z",
     "iopub.status.idle": "2021-03-11T10:36:40.349019Z",
     "shell.execute_reply": "2021-03-11T10:36:40.348559Z",
     "shell.execute_reply.started": "2021-03-11T10:36:40.263183Z"
    },
    "tags": []
   },
   "outputs": [
    {
     "name": "stdout",
     "output_type": "stream",
     "text": [
      "Mean value of initial beat: 3.49 +- 14.09%\n",
      "Mean value of mid beat: 2.30 +- 4.68%\n",
      "Mean value of final beat: 3.31 +- 6.81%\n"
     ]
    }
   ],
   "source": [
    "present(folder, ['pred_results', 'ok'])"
   ]
  },
  {
   "cell_type": "markdown",
   "id": "personalized-universal",
   "metadata": {},
   "source": [
    "#### Incorrect Classification"
   ]
  },
  {
   "cell_type": "code",
   "execution_count": 10,
   "id": "grave-competition",
   "metadata": {
    "execution": {
     "iopub.execute_input": "2021-03-11T10:36:46.231902Z",
     "iopub.status.busy": "2021-03-11T10:36:46.231379Z",
     "iopub.status.idle": "2021-03-11T10:36:46.316442Z",
     "shell.execute_reply": "2021-03-11T10:36:46.315945Z",
     "shell.execute_reply.started": "2021-03-11T10:36:46.231842Z"
    },
    "tags": []
   },
   "outputs": [
    {
     "name": "stdout",
     "output_type": "stream",
     "text": [
      "Mean value of initial beat: 18.85 +- 36.99%\n",
      "Mean value of mid beat: 2.51 +- 5.77%\n",
      "Mean value of final beat: 2.95 +- 8.16%\n"
     ]
    }
   ],
   "source": [
    "present(folder, ['pred_results', 'wrong'])"
   ]
  },
  {
   "cell_type": "markdown",
   "id": "architectural-pierce",
   "metadata": {},
   "source": [
    "#### Normal Label"
   ]
  },
  {
   "cell_type": "code",
   "execution_count": 11,
   "id": "light-advance",
   "metadata": {
    "execution": {
     "iopub.execute_input": "2021-03-11T10:37:00.746507Z",
     "iopub.status.busy": "2021-03-11T10:37:00.746238Z",
     "iopub.status.idle": "2021-03-11T10:37:00.839919Z",
     "shell.execute_reply": "2021-03-11T10:37:00.839286Z",
     "shell.execute_reply.started": "2021-03-11T10:37:00.746476Z"
    },
    "tags": []
   },
   "outputs": [
    {
     "name": "stdout",
     "output_type": "stream",
     "text": [
      "Mean value of initial beat: 1.40 +- 6.61%\n",
      "Mean value of mid beat: 1.98 +- 4.33%\n",
      "Mean value of final beat: 2.81 +- 6.22%\n"
     ]
    }
   ],
   "source": [
    "present(folder, ['true_labels', 'normal'])"
   ]
  },
  {
   "cell_type": "markdown",
   "id": "acquired-heath",
   "metadata": {},
   "source": [
    "#### Abnormal Label"
   ]
  },
  {
   "cell_type": "code",
   "execution_count": 12,
   "id": "sunset-washer",
   "metadata": {
    "execution": {
     "iopub.execute_input": "2021-03-11T10:37:02.680651Z",
     "iopub.status.busy": "2021-03-11T10:37:02.680227Z",
     "iopub.status.idle": "2021-03-11T10:37:02.779423Z",
     "shell.execute_reply": "2021-03-11T10:37:02.779014Z",
     "shell.execute_reply.started": "2021-03-11T10:37:02.680604Z"
    },
    "tags": []
   },
   "outputs": [
    {
     "name": "stdout",
     "output_type": "stream",
     "text": [
      "Mean value of initial beat: 41.19 +- 40.03%\n",
      "Mean value of mid beat: 5.73 +- 7.07%\n",
      "Mean value of final beat: 7.25 +- 10.20%\n"
     ]
    }
   ],
   "source": [
    "present(folder, ['true_labels', 'abnormal'])"
   ]
  },
  {
   "cell_type": "code",
   "execution_count": null,
   "id": "massive-parish",
   "metadata": {},
   "outputs": [],
   "source": []
  }
 ],
 "metadata": {
  "kernelspec": {
   "display_name": "Python 3",
   "language": "python",
   "name": "python3"
  },
  "language_info": {
   "codemirror_mode": {
    "name": "ipython",
    "version": 3
   },
   "file_extension": ".py",
   "mimetype": "text/x-python",
   "name": "python",
   "nbconvert_exporter": "python",
   "pygments_lexer": "ipython3",
   "version": "3.8.5"
  }
 },
 "nbformat": 4,
 "nbformat_minor": 5
}
