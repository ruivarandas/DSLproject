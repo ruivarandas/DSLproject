{
 "cells": [
  {
   "cell_type": "markdown",
   "metadata": {},
   "source": [
    "# Data folders organization"
   ]
  },
  {
   "cell_type": "code",
   "execution_count": 2,
   "metadata": {},
   "outputs": [],
   "source": [
    "from pathlib import Path\n",
    "import shutil\n",
    "from sklearn.model_selection import train_test_split\n",
    "import attr\n",
    "from os import sep"
   ]
  },
  {
   "cell_type": "markdown",
   "metadata": {},
   "source": [
    "## Preparing labels txt!"
   ]
  },
  {
   "cell_type": "code",
   "execution_count": 7,
   "metadata": {},
   "outputs": [],
   "source": [
    "raw_fig = Path.cwd().parents[0] / \"data/raw_figures\"\n",
    "labels = Path.cwd().parents[0] / \"data/labels_mid\""
   ]
  },
  {
   "cell_type": "code",
   "execution_count": 8,
   "metadata": {},
   "outputs": [],
   "source": [
    "for filename in labels.iterdir():\n",
    "    shutil.copy(filename, raw_fig / filename.stem)"
   ]
  },
  {
   "cell_type": "markdown",
   "metadata": {},
   "source": [
    "-------------------------------------------------------------------------------"
   ]
  },
  {
   "cell_type": "code",
   "execution_count": 46,
   "metadata": {},
   "outputs": [],
   "source": [
    "@attr.s(auto_attribs=True)\n",
    "class DirManagement:\n",
    "    project_dir: str\n",
    "    labels_dict: dict \n",
    "    \n",
    "    @property\n",
    "    def labels_list(self):\n",
    "        return list(self.labels_dict.keys())\n",
    "    \n",
    "    @property\n",
    "    def data_dir(self):\n",
    "        return Path(self.project_dir) / \"figures\"\n",
    "    \n",
    "    @property\n",
    "    def raw_data_dir(self):\n",
    "        return Path(self.project_dir) / \"raw_figures\"\n",
    "    \n",
    "    @property\n",
    "    def all_filenames(self):\n",
    "        all_filenames = []\n",
    "        for folder in self.raw_data_dir.iterdir():\n",
    "            for image in folder.glob(\"*.png\"):\n",
    "                all_filenames.append(image)\n",
    "        return all_filenames\n",
    "\n",
    "    @property\n",
    "    def all_labels(self):\n",
    "        all_labels = {}\n",
    "        for folder in self.raw_data_dir.iterdir():\n",
    "            for txt in folder.glob(\"*.txt\"):\n",
    "                all_labels[folder.name] = np.loadtxt(Path(folder) / txt.name, dtype=np.object)[1:, 1]\n",
    "        return all_labels\n",
    "\n",
    "    @property\n",
    "    def groups(self):\n",
    "        groups = []\n",
    "        for folder in self.raw_data_dir.iterdir():\n",
    "            for txt in folder.glob(\"*.txt\"):\n",
    "                groups.append([int(folder.parts[-1])] * len(np.loadtxt(Path(folder) / txt.name, dtype=np.object)[1:, 1]))\n",
    "        return np.concatenate(groups)\n",
    "                \n",
    "    def create_datasets(self, test_size, val_size):\n",
    "        \"\"\"\n",
    "        split all filenames in train, validation and test datasets\n",
    "        \"\"\"\n",
    "        _, test_filenames = train_test_split(self.all_filenames, test_size=test_size, random_state=42, shuffle=True)\n",
    "        train_filenames, val_filenames = train_test_split(_, test_size=val_size/(1-test_size), random_state=42, shuffle=True)\n",
    "        return train_filenames, val_filenames, test_filenames\n",
    "    \n",
    "    def _create_new_dirs(self):\n",
    "        \"\"\"\n",
    "        create new organized directories\n",
    "        \"\"\"\n",
    "        if self.data_dir.exists():\n",
    "            shutil.rmtree(self.data_dir)\n",
    "        Path.mkdir(self.data_dir)\n",
    "        datasets = [\"train\", \"val\", \"test\"]\n",
    "        for dataset in datasets:\n",
    "            dataset_dir = self.data_dir / dataset\n",
    "            Path.mkdir(dataset_dir)\n",
    "            for label in self.labels_list:\n",
    "                Path.mkdir(dataset_dir / label)\n",
    "    \n",
    "    def write_data(self, train_filenames, val_filenames, test_filenames):\n",
    "        \"\"\"\n",
    "\n",
    "        copy the images from raw dir to the new directory\n",
    "        \"\"\"\n",
    "        self._create_new_dirs()\n",
    "        all_labels = self.all_labels\n",
    "        for dataset in [(\"train\", train_filenames), (\"val\", val_filenames), (\"test\", test_filenames)]:\n",
    "            print(dataset[0])\n",
    "            for i, filename in enumerate(dataset[1]):\n",
    "                print(f\"{i+1}/{len(dataset[1])}\", end='\\r')\n",
    "                signal, segment = str(filename).split(sep)[-2:]\n",
    "                segment = segment.split('_')[0]\n",
    "                # print(all_labels[signal][int(segment)], self.labels_dict[\"normal\"])\n",
    "                if all_labels[signal][int(segment)] in self.labels_dict[\"normal\"]:\n",
    "                    shutil.copy(filename, self.data_dir / dataset[0] / \"normal\" / f\"{filename.stem}_{signal}.png\")\n",
    "                elif all_labels[signal][int(segment)] in self.labels_dict[\"abnormal\"]:\n",
    "                    shutil.copy(filename, self.data_dir / dataset[0] / \"abnormal\" / f\"{filename.stem}_{signal}.png\")\n",
    "    "
   ]
  },
  {
   "cell_type": "code",
   "execution_count": 47,
   "metadata": {},
   "outputs": [],
   "source": [
    "PROJ_DIR_STR = \"../data\"\n",
    "LABELS_DICT = {\n",
    "    \"abnormal\": [], \n",
    "    \"normal\": \"N\"\n",
    "}\n",
    "TEST_FRACTION = 0.1\n",
    "VAL_FRACTION = 0.05"
   ]
  },
  {
   "cell_type": "code",
   "execution_count": 48,
   "metadata": {},
   "outputs": [
    {
     "name": "stdout",
     "output_type": "stream",
     "text": [
      "train\n",
      "val80/30180\n",
      "test/1776\n",
      "3551/3551\r"
     ]
    }
   ],
   "source": [
    "dir_prep = DirManagement(PROJ_DIR_STR, LABELS_DICT)\n",
    "train, val, test = dir_prep.create_datasets(TEST_FRACTION, VAL_FRACTION)\n",
    "dir_prep.write_data(train, val, test)"
   ]
  },
  {
   "cell_type": "markdown",
   "metadata": {},
   "source": [
    "# Pytorch data loading - adapted from [transfer learning tutorial](https://pytorch.org/tutorials/beginner/transfer_learning_tutorial.html)"
   ]
  },
  {
   "cell_type": "code",
   "execution_count": 49,
   "metadata": {},
   "outputs": [],
   "source": [
    "import matplotlib.pyplot as plt\n",
    "import torch\n",
    "from torchvision import datasets, models, transforms\n",
    "import torchvision\n",
    "import numpy as np\n",
    "import os\n",
    "import torch.nn as nn\n",
    "import torch.optim as optim\n",
    "from torch.optim import lr_scheduler\n",
    "import time\n",
    "plt.ion()   # interactive mode"
   ]
  },
  {
   "cell_type": "markdown",
   "metadata": {},
   "source": [
    "* All pre-trained models expect input images normalized in the same way, i.e. mini-batches of 3-channel RGB images of shape (3 x H x W), where H and W are expected to be at least 224. The images have to be loaded in to a range of [0, 1] and then normalized using mean = [0.485, 0.456, 0.406] and std = [0.229, 0.224, 0.225]\n",
    "https://pytorch.org/docs/stable/torchvision/models.html\n",
    "* Augmentation: maybe not necessary, random flips or rotations\n",
    "* Image resizing: not sure... from a [medium](https://medium.com/@nina95dan/simple-image-classification-with-resnet-50-334366e7311a#:~:text=ResNet%2D50%20is%20a%20pre,applied%20to%20analyzing%20visual%20imagery.) post size has to be 224*224 --> transforms resize(224) not working as suppose I think"
   ]
  },
  {
   "cell_type": "code",
   "execution_count": 101,
   "metadata": {},
   "outputs": [],
   "source": [
    "@attr.s(auto_attribs=True)\n",
    "class DataPreparation:\n",
    "    dirs: DirManagement    \n",
    "    device: str = attr.ib(default=torch.device(\"cuda:0\" if torch.cuda.is_available() else \"cpu\"), init=False)  \n",
    "        \n",
    "    @staticmethod\n",
    "    def data_transformations():\n",
    "        data_transforms = {\n",
    "            'train': transforms.Compose([\n",
    "                transforms.CenterCrop((200, 1500)),\n",
    "                transforms.Resize((224,224)),\n",
    "                transforms.ToTensor(),\n",
    "                transforms.Normalize([0.485, 0.456, 0.406], [0.229, 0.224, 0.225])\n",
    "            ]),\n",
    "            'val': transforms.Compose([\n",
    "                transforms.CenterCrop((200, 1500)),\n",
    "                transforms.Resize((224,224)),\n",
    "                transforms.ToTensor(),\n",
    "                transforms.Normalize([0.485, 0.456, 0.406], [0.229, 0.224, 0.225])\n",
    "            ]),\n",
    "            'test': transforms.Compose([\n",
    "                transforms.CenterCrop((200, 1500)),\n",
    "                transforms.Resize((224, 224)),\n",
    "                transforms.ToTensor(),\n",
    "                transforms.Normalize([0.485, 0.456, 0.406], [0.229, 0.224, 0.225])\n",
    "            ])\n",
    "        }\n",
    "        return data_transforms\n",
    "    \n",
    "    \n",
    "    def create_dataloaders(self, batch_size, shuffle, num_workers):\n",
    "        data_transforms = self.data_transformations()\n",
    "        image_datasets = {x: datasets.ImageFolder(self.dirs.data_dir / x, data_transforms[x]) for x in ['train', 'val', 'test']}\n",
    "        dataloaders = {x: torch.utils.data.DataLoader(image_datasets[x], batch_size=batch_size, shuffle=shuffle, num_workers=num_workers) for x in ['train', 'val', 'test']}\n",
    "        dataset_sizes = {x: len(image_datasets[x]) for x in ['train', 'val', 'test']}\n",
    "        class_names = image_datasets['train'].classes\n",
    "        return dataloaders, dataset_sizes, class_names\n",
    "    \n",
    "    @staticmethod\n",
    "    def imshow(inp, title=None):\n",
    "        \"\"\"Imshow for Tensor.\"\"\"\n",
    "        inp = inp.numpy().transpose((1, 2, 0))\n",
    "        mean = np.array([0.485, 0.456, 0.406])\n",
    "        std = np.array([0.229, 0.224, 0.225])\n",
    "        inp = std * inp + mean\n",
    "        inp = np.clip(inp, 0, 1)\n",
    "        plt.imshow(inp)\n",
    "        if title is not None:\n",
    "            plt.title(title)\n",
    "        plt.pause(0.001)  # pause a bit so that plots are updated\n",
    "    "
   ]
  },
  {
   "cell_type": "code",
   "execution_count": 102,
   "metadata": {},
   "outputs": [],
   "source": [
    "data_prep = DataPreparation(dir_prep)\n",
    "dataloaders, sizes, class_names = data_prep.create_dataloaders(4,True,4)"
   ]
  },
  {
   "cell_type": "code",
   "execution_count": null,
   "metadata": {},
   "outputs": [],
   "source": []
  },
  {
   "cell_type": "code",
   "execution_count": 103,
   "metadata": {},
   "outputs": [],
   "source": [
    "inputs, classes = next(iter(dataloaders['train']))"
   ]
  },
  {
   "cell_type": "code",
   "execution_count": 104,
   "metadata": {},
   "outputs": [],
   "source": [
    "out = torchvision.utils.make_grid(inputs)"
   ]
  },
  {
   "cell_type": "code",
   "execution_count": 105,
   "metadata": {},
   "outputs": [
    {
     "data": {
      "text/plain": [
       "torch.Size([3, 228, 906])"
      ]
     },
     "execution_count": 105,
     "metadata": {},
     "output_type": "execute_result"
    }
   ],
   "source": [
    "out.size()"
   ]
  },
  {
   "cell_type": "code",
   "execution_count": 106,
   "metadata": {},
   "outputs": [
    {
     "data": {
      "image/png": "[encoded data removed]",
      "text/plain": [
       "<Figure size 432x288 with 1 Axes>"
      ]
     },
     "metadata": {},
     "output_type": "display_data"
    }
   ],
   "source": [
    "data_prep.imshow(out, None)"
   ]
  },
  {
   "cell_type": "code",
   "execution_count": null,
   "metadata": {},
   "outputs": [],
   "source": []
  },
  {
   "cell_type": "code",
   "execution_count": null,
   "metadata": {},
   "outputs": [],
   "source": []
  }
 ],
 "metadata": {
  "kernelspec": {
   "display_name": "Python 3",
   "language": "python",
   "name": "python3"
  },
  "language_info": {
   "codemirror_mode": {
    "name": "ipython",
    "version": 3
   },
   "file_extension": ".py",
   "mimetype": "text/x-python",
   "name": "python",
   "nbconvert_exporter": "python",
   "pygments_lexer": "ipython3",
   "version": "3.7.6"
  }
 },
 "nbformat": 4,
 "nbformat_minor": 4
}
