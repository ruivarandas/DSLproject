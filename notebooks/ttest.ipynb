{
 "cells": [
  {
   "cell_type": "markdown",
   "metadata": {},
   "source": [
    "https://docs.scipy.org/doc/scipy/reference/generated/scipy.stats.ttest_ind.html"
   ]
  },
  {
   "cell_type": "code",
   "execution_count": 1,
   "metadata": {},
   "outputs": [],
   "source": [
    "import scipy.stats as sci_stats\n",
    "from pathlib import Path\n",
    "import numpy as np\n",
    "import json\n",
    "from os.path import join"
   ]
  },
  {
   "cell_type": "code",
   "execution_count": 2,
   "metadata": {},
   "outputs": [],
   "source": [
    "BEATS = ['initial', 'final']\n",
    "\n",
    "def convert_to_float(data):\n",
    "    return np.array(data, dtype=float)"
   ]
  },
  {
   "cell_type": "code",
   "execution_count": 58,
   "metadata": {},
   "outputs": [],
   "source": [
    "def present_values(folder, map_type, params=None):\n",
    "    data = {}\n",
    "    for i, beat in enumerate(BEATS):\n",
    "        if beat not in data.keys():\n",
    "            data[beat] = []\n",
    "        path_to_results = folder / f\"{beat}_{map_type}_map_metrics.json\"\n",
    "        with open(path_to_results, 'r') as file:\n",
    "            sal_initial = json.load(file)\n",
    "        values = convert_to_float(sal_initial['values'])\n",
    "        if params is not None:\n",
    "            where = []\n",
    "            for i in range(len(sal_initial[params[0]])):\n",
    "                if sal_initial[params[0]][i] == params[1]:\n",
    "                    where.append(i)\n",
    "            values = values[where]\n",
    "        print(f\"Mean value of {beat} beat: {np.nanmean(values)*100:.2f} +- {np.nanstd(values)*100:.2f}%\")\n",
    "        data[beat].append(values[np.logical_not(np.isnan(values))]*100)\n",
    "\n",
    "    return data\n",
    "\n",
    "def get_values_params(folder, map_type, beat, params=None):\n",
    "    data = {}\n",
    "    for i, label in enumerate(params[1]):\n",
    "        if label not in data.keys():\n",
    "            data[label] = []\n",
    "        path_to_results = folder / f\"{beat}_{map_type}_map_metrics.json\"\n",
    "        with open(path_to_results, 'r') as file:\n",
    "            sal_initial = json.load(file)\n",
    "        values = convert_to_float(sal_initial['values'])\n",
    "        if params is not None:\n",
    "            where = []\n",
    "            for i in range(len(sal_initial[params[0]])):\n",
    "                if sal_initial[params[0]][i] == label:\n",
    "                    where.append(i)\n",
    "            values = values[where]\n",
    "        print(f\"Mean value of {beat} beat: {np.nanmean(values)*100:.2f} +- {np.nanstd(values)*100:.2f}%\")\n",
    "        data[label].append(values[np.logical_not(np.isnan(values))]*100)\n",
    "\n",
    "    return data"
   ]
  },
  {
   "cell_type": "code",
   "execution_count": 4,
   "metadata": {},
   "outputs": [],
   "source": [
    "XAI_metrics_folder = Path(\"../XAI_metrics/metrics\")"
   ]
  },
  {
   "cell_type": "code",
   "execution_count": 87,
   "metadata": {},
   "outputs": [
    {
     "name": "stdout",
     "output_type": "stream",
     "text": [
      "Mean value of initial beat: 8.33 +- 10.79%\n",
      "Mean value of final beat: 10.21 +- 15.18%\n"
     ]
    },
    {
     "data": {
      "text/plain": [
       "Ttest_indResult(statistic=6.073532030383544, pvalue=1.3166591064715571e-09)"
      ]
     },
     "execution_count": 87,
     "metadata": {},
     "output_type": "execute_result"
    }
   ],
   "source": [
    "distributions = present_values(XAI_metrics_folder, \"grad_cam\", params=['pred_results', 'wrong'])\n",
    "ttest = sci_stats.ttest_ind(np.ravel(distributions['final']), np.ravel(distributions['initial']), nan_policy='omit')\n",
    "ttest"
   ]
  },
  {
   "cell_type": "code",
   "execution_count": 73,
   "metadata": {
    "scrolled": true
   },
   "outputs": [
    {
     "name": "stdout",
     "output_type": "stream",
     "text": [
      "Mean value of initial beat: 8.50 +- 4.20%\n",
      "Mean value of initial beat: 10.65 +- 10.15%\n"
     ]
    },
    {
     "data": {
      "text/plain": [
       "Ttest_indResult(statistic=-28.051440032990268, pvalue=8.760368999796072e-172)"
      ]
     },
     "execution_count": 73,
     "metadata": {},
     "output_type": "execute_result"
    }
   ],
   "source": [
    "distributions = get_values_params(XAI_metrics_folder, \"grad_cam\", beat='initial', params=['true_labels', ['normal', 'abnormal']])\n",
    "ttest = sci_stats.ttest_ind(np.ravel(distributions['normal']), np.ravel(distributions['abnormal']), nan_policy='omit')\n",
    "ttest"
   ]
  },
  {
   "cell_type": "code",
   "execution_count": 6,
   "metadata": {},
   "outputs": [],
   "source": [
    "with open(XAI_metrics_folder / \"final_saliency_map_metrics.json\") as f:\n",
    "    data = json.load(f)"
   ]
  },
  {
   "cell_type": "code",
   "execution_count": 7,
   "metadata": {},
   "outputs": [
    {
     "data": {
      "text/plain": [
       "(49595,)"
      ]
     },
     "execution_count": 7,
     "metadata": {},
     "output_type": "execute_result"
    }
   ],
   "source": [
    "grad_cam_final = np.array(data[\"values\"], dtype=float)\n",
    "grad_cam_final.shape"
   ]
  },
  {
   "cell_type": "code",
   "execution_count": 8,
   "metadata": {},
   "outputs": [],
   "source": [
    "with open(XAI_metrics_folder / \"initial_saliency_map_metrics.json\") as f:\n",
    "    data = json.load(f)"
   ]
  },
  {
   "cell_type": "code",
   "execution_count": 9,
   "metadata": {},
   "outputs": [],
   "source": [
    "grad_cam_initial = np.array(data[\"values\"], dtype=float)"
   ]
  },
  {
   "cell_type": "code",
   "execution_count": 10,
   "metadata": {},
   "outputs": [],
   "source": [
    "ttest = sci_stats.ttest_ind(grad_cam_final, grad_cam_initial, nan_policy='omit')"
   ]
  },
  {
   "cell_type": "code",
   "execution_count": 11,
   "metadata": {},
   "outputs": [
    {
     "data": {
      "text/plain": [
       "0.0"
      ]
     },
     "execution_count": 11,
     "metadata": {},
     "output_type": "execute_result"
    }
   ],
   "source": [
    "ttest.pvalue"
   ]
  },
  {
   "cell_type": "code",
   "execution_count": 12,
   "metadata": {},
   "outputs": [
    {
     "data": {
      "text/plain": [
       "(0.2501896590565084,\n",
       " 0.30340009211263913,\n",
       " 0.18227530207732132,\n",
       " 0.09172775423852264,\n",
       " 49596,\n",
       " 49595)"
      ]
     },
     "execution_count": 12,
     "metadata": {},
     "output_type": "execute_result"
    }
   ],
   "source": [
    "np.nanmean(grad_cam_initial), np.nanmean(grad_cam_final), np.nanstd(grad_cam_initial), np.nanstd( grad_cam_final), len(grad_cam_initial), len(grad_cam_final)"
   ]
  }
 ],
 "metadata": {
  "kernelspec": {
   "display_name": "Python 3",
   "language": "python",
   "name": "python3"
  },
  "language_info": {
   "codemirror_mode": {
    "name": "ipython",
    "version": 3
   },
   "file_extension": ".py",
   "mimetype": "text/x-python",
   "name": "python",
   "nbconvert_exporter": "python",
   "pygments_lexer": "ipython3",
   "version": "3.6.5"
  }
 },
 "nbformat": 4,
 "nbformat_minor": 4
}
