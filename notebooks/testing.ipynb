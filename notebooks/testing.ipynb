{
 "cells": [
  {
   "cell_type": "code",
   "execution_count": 1,
   "metadata": {},
   "outputs": [],
   "source": [
    "import torch\n",
    "import attr\n",
    "from pathlib import Path\n",
    "from torchvision import datasets, transforms\n",
    "import torchvision\n",
    "import matplotlib.pyplot as plt\n",
    "from sklearn import metrics as sk_metrics\n",
    "import numpy as np"
   ]
  },
  {
   "cell_type": "code",
   "execution_count": 3,
   "metadata": {},
   "outputs": [],
   "source": [
    "@attr.s(auto_attribs=True)\n",
    "class DataPreparation:\n",
    "    data_dir: Path\n",
    "    device: str = attr.ib(default=torch.device(\"cuda:0\" if torch.cuda.is_available() else \"cpu\"), init=False)\n",
    "\n",
    "    @staticmethod\n",
    "    def data_transformations():\n",
    "        data_transforms = {\n",
    "            'test': transforms.Compose([\n",
    "                transforms.CenterCrop((200,1500)),\n",
    "                transforms.Resize((224,224)),\n",
    "                transforms.ToTensor(),\n",
    "                transforms.Normalize([0.485, 0.456, 0.406], [0.229, 0.224, 0.225])\n",
    "            ])\n",
    "        }\n",
    "        return data_transforms\n",
    "    \n",
    "    def create_dataloaders(self, batch_size, shuffle, num_workers):\n",
    "        data_transforms = self.data_transformations()\n",
    "        \n",
    "        image_datasets = {\n",
    "            'test': datasets.ImageFolder(self.data_dir, data_transforms['test'])\n",
    "        }\n",
    "        dataloaders = {\n",
    "            'test': torch.utils.data.DataLoader(image_datasets['test'], batch_size=batch_size, shuffle=shuffle, num_workers=num_workers)\n",
    "        }\n",
    "        dataset_sizes = {\n",
    "            'test': len(image_datasets['test'])\n",
    "        }\n",
    "        return dataloaders, dataset_sizes"
   ]
  },
  {
   "cell_type": "code",
   "execution_count": 4,
   "metadata": {},
   "outputs": [],
   "source": [
    "data_prep = DataPreparation('../data/figures/test')\n",
    "data, size = data_prep.create_dataloaders(16, False, 4)"
   ]
  },
  {
   "cell_type": "code",
   "execution_count": 15,
   "metadata": {},
   "outputs": [],
   "source": [
    "model_path = Path().cwd().parents[0] / \"models/resnet50_d_02_t_20_28_initial_beat.pth\" \n",
    "model = torch.load(model_path)\n",
    "model = model.eval()"
   ]
  },
  {
   "cell_type": "code",
   "execution_count": 16,
   "metadata": {},
   "outputs": [],
   "source": [
    "y_pred = []\n",
    "y_true = []\n",
    "\n",
    "for inputs, labels in data['test']:\n",
    "    inputs = inputs.to(0)\n",
    "    labels = labels.to(0)\n",
    "    outputs = model(inputs)\n",
    "    _, preds = torch.max(outputs, 1)\n",
    "    y_pred.append(preds.cpu().numpy())\n",
    "    y_true.append(labels.cpu().numpy())\n"
   ]
  },
  {
   "cell_type": "code",
   "execution_count": 17,
   "metadata": {},
   "outputs": [],
   "source": [
    "y_pred = np.concatenate(y_pred)\n",
    "y_true = np.concatenate(y_true)"
   ]
  },
  {
   "cell_type": "code",
   "execution_count": 18,
   "metadata": {},
   "outputs": [],
   "source": [
    "acc = sk_metrics.accuracy_score(y_pred, y_true)\n",
    "f1 = sk_metrics.f1_score(y_pred, y_true)\n",
    "pre = sk_metrics.precision_score(y_pred, y_true)"
   ]
  },
  {
   "cell_type": "code",
   "execution_count": 19,
   "metadata": {},
   "outputs": [
    {
     "data": {
      "text/plain": [
       "(0.9828452279404796, 0.9898616479023132, 0.9909162274307503)"
      ]
     },
     "execution_count": 19,
     "metadata": {},
     "output_type": "execute_result"
    }
   ],
   "source": [
    "acc, f1, pre"
   ]
  },
  {
   "cell_type": "code",
   "execution_count": null,
   "metadata": {},
   "outputs": [],
   "source": []
  }
 ],
 "metadata": {
  "kernelspec": {
   "display_name": "Python 3",
   "language": "python",
   "name": "python3"
  },
  "language_info": {
   "codemirror_mode": {
    "name": "ipython",
    "version": 3
   },
   "file_extension": ".py",
   "mimetype": "text/x-python",
   "name": "python",
   "nbconvert_exporter": "python",
   "pygments_lexer": "ipython3",
   "version": "3.7.6"
  }
 },
 "nbformat": 4,
 "nbformat_minor": 4
}
