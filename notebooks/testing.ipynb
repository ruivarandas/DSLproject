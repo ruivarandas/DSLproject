{
 "cells": [
  {
   "cell_type": "code",
   "execution_count": 5,
   "metadata": {},
   "outputs": [],
   "source": [
    "import torch\n",
    "import attr\n",
    "from pathlib import Path\n",
    "from torchvision import datasets, transforms\n",
    "import torchvision\n",
    "import matplotlib.pyplot as plt\n",
    "from sklearn import metrics as sk_metrics\n",
    "import numpy as np"
   ]
  },
  {
   "cell_type": "code",
   "execution_count": 6,
   "metadata": {},
   "outputs": [],
   "source": [
    "@attr.s(auto_attribs=True)\n",
    "class DataPreparation:\n",
    "    data_dir: Path\n",
    "    device: str = attr.ib(default=torch.device(\"cuda:0\" if torch.cuda.is_available() else \"cpu\"), init=False)\n",
    "\n",
    "    @staticmethod\n",
    "    def data_transformations():\n",
    "        data_transforms = {\n",
    "            'test': transforms.Compose([\n",
    "                transforms.CenterCrop((200,1500)),\n",
    "                transforms.Resize((224,224)),\n",
    "                transforms.ToTensor(),\n",
    "                transforms.Normalize([0.485, 0.456, 0.406], [0.229, 0.224, 0.225])\n",
    "            ])\n",
    "        }\n",
    "        return data_transforms\n",
    "    \n",
    "    def create_dataloaders(self, batch_size, shuffle, num_workers):\n",
    "        data_transforms = self.data_transformations()\n",
    "        \n",
    "        image_datasets = {\n",
    "            'test': datasets.ImageFolder(self.data_dir, data_transforms['test'])\n",
    "        }\n",
    "        dataloaders = {\n",
    "            'test': torch.utils.data.DataLoader(image_datasets['test'], batch_size=batch_size, shuffle=shuffle, num_workers=num_workers)\n",
    "        }\n",
    "        dataset_sizes = {\n",
    "            'test': len(image_datasets['test'])\n",
    "        }\n",
    "        return dataloaders, dataset_sizes"
   ]
  },
  {
   "cell_type": "code",
   "execution_count": 7,
   "metadata": {},
   "outputs": [],
   "source": [
    "variants = [\"final\", \"mid\", \"initial\",  \"multiclass\"]\n",
    "models = [\"resnet50_d_02_t_20_10_final_beat\", \"resnet50_d_02_t_22_52_mid_beat\", \"resnet50_d_19_t_20_43\", \"resnet50_d_05_t_00_40\"]"
   ]
  },
  {
   "cell_type": "code",
   "execution_count": 8,
   "metadata": {},
   "outputs": [],
   "source": [
    "index = 2"
   ]
  },
  {
   "cell_type": "code",
   "execution_count": 9,
   "metadata": {},
   "outputs": [],
   "source": [
    "data_prep = DataPreparation(f'../data/figures_{variants[index]}/test')\n",
    "data, size = data_prep.create_dataloaders(16, False, 4)"
   ]
  },
  {
   "cell_type": "code",
   "execution_count": 10,
   "metadata": {},
   "outputs": [],
   "source": [
    "model_path = Path().cwd().parents[0] / f\"models/label_{variants[index]}/{models[index]}.pth\" \n",
    "model = torch.load(model_path)\n",
    "model = model.eval()"
   ]
  },
  {
   "cell_type": "code",
   "execution_count": 11,
   "metadata": {},
   "outputs": [
    {
     "name": "stdout",
     "output_type": "stream",
     "text": [
      "resnet50_d_19_t_20_43 initial\n"
     ]
    }
   ],
   "source": [
    "y_pred = []\n",
    "y_true = []\n",
    "print(models[index], variants[index])\n",
    "for inputs, labels in data['test']:\n",
    "    inputs = inputs.to(0)\n",
    "    labels = labels.to(0)\n",
    "    outputs = model(inputs)\n",
    "    _, preds = torch.max(outputs, 1)\n",
    "    y_pred.append(preds.cpu().numpy())\n",
    "    y_true.append(labels.cpu().numpy())\n"
   ]
  },
  {
   "cell_type": "code",
   "execution_count": 12,
   "metadata": {},
   "outputs": [],
   "source": [
    "y_pred = np.concatenate(y_pred)\n",
    "y_true = np.concatenate(y_true)"
   ]
  },
  {
   "cell_type": "code",
   "execution_count": 15,
   "metadata": {},
   "outputs": [],
   "source": [
    "acc = sk_metrics.accuracy_score(y_pred, y_true)\n",
    "f1 = sk_metrics.f1_score(y_pred, y_true)\n",
    "pre = sk_metrics.precision_score(y_pred, y_true)"
   ]
  },
  {
   "cell_type": "code",
   "execution_count": 16,
   "metadata": {},
   "outputs": [
    {
     "data": {
      "text/plain": [
       "(0.8456803455723542, 0.887311726204558, 0.9748743718592965)"
      ]
     },
     "execution_count": 16,
     "metadata": {},
     "output_type": "execute_result"
    }
   ],
   "source": [
    "acc, f1, pre"
   ]
  },
  {
   "cell_type": "code",
   "execution_count": null,
   "metadata": {},
   "outputs": [],
   "source": []
  }
 ],
 "metadata": {
  "kernelspec": {
   "display_name": "Python 3",
   "language": "python",
   "name": "python3"
  },
  "language_info": {
   "codemirror_mode": {
    "name": "ipython",
    "version": 3
   },
   "file_extension": ".py",
   "mimetype": "text/x-python",
   "name": "python",
   "nbconvert_exporter": "python",
   "pygments_lexer": "ipython3",
   "version": "3.8.5"
  }
 },
 "nbformat": 4,
 "nbformat_minor": 4
}
