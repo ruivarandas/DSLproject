{
 "cells": [
  {
   "cell_type": "markdown",
   "id": "enhanced-expression",
   "metadata": {},
   "source": [
    "# ROI verification"
   ]
  },
  {
   "cell_type": "code",
   "execution_count": 1,
   "id": "convinced-monroe",
   "metadata": {
    "execution": {
     "iopub.execute_input": "2021-05-03T19:00:02.980055Z",
     "iopub.status.busy": "2021-05-03T19:00:02.979276Z",
     "iopub.status.idle": "2021-05-03T19:00:03.424918Z",
     "shell.execute_reply": "2021-05-03T19:00:03.424454Z",
     "shell.execute_reply.started": "2021-05-03T19:00:02.979854Z"
    },
    "tags": []
   },
   "outputs": [],
   "source": [
    "#from prep_test_data import *\n",
    "from pathlib import Path\n",
    "import json\n",
    "import torch\n",
    "from matplotlib import pyplot as plt\n",
    "import shutil\n",
    "import numpy as np\n",
    "import cv2\n",
    "import csv"
   ]
  },
  {
   "cell_type": "code",
   "execution_count": 2,
   "id": "distributed-vintage",
   "metadata": {
    "execution": {
     "iopub.execute_input": "2021-05-03T19:00:03.425758Z",
     "iopub.status.busy": "2021-05-03T19:00:03.425620Z",
     "iopub.status.idle": "2021-05-03T19:00:03.428245Z",
     "shell.execute_reply": "2021-05-03T19:00:03.427667Z",
     "shell.execute_reply.started": "2021-05-03T19:00:03.425723Z"
    },
    "tags": []
   },
   "outputs": [],
   "source": [
    "TEST_DATA_PATH = Path(f'/mnt/Media/bernardo/DSL_data/figures_final/test')\n",
    "#TEST_DATA_PATH = Path(Path.cwd().parent / r'.\\data\\figures_final\\test')"
   ]
  },
  {
   "cell_type": "code",
   "execution_count": 3,
   "id": "alive-flooring",
   "metadata": {
    "execution": {
     "iopub.execute_input": "2021-05-03T19:00:03.430835Z",
     "iopub.status.busy": "2021-05-03T19:00:03.430689Z",
     "iopub.status.idle": "2021-05-03T19:00:03.442625Z",
     "shell.execute_reply": "2021-05-03T19:00:03.442155Z",
     "shell.execute_reply.started": "2021-05-03T19:00:03.430817Z"
    },
    "tags": []
   },
   "outputs": [
    {
     "data": {
      "text/plain": [
       "PosixPath('/mnt/Media/bernardo/Documents/PhD/Courses/DSL/code/DSLproject/ROI/5_ROI.txt')"
      ]
     },
     "execution_count": 3,
     "metadata": {},
     "output_type": "execute_result"
    }
   ],
   "source": [
    "roi_file_path = list((Path.cwd().parent / \"ROI\").glob(\"*.txt\"))[2] # --> label initial\n",
    "roi_file_path"
   ]
  },
  {
   "cell_type": "code",
   "execution_count": 9,
   "id": "amended-arrest",
   "metadata": {
    "execution": {
     "iopub.execute_input": "2021-05-03T19:03:55.227322Z",
     "iopub.status.busy": "2021-05-03T19:03:55.227097Z",
     "iopub.status.idle": "2021-05-03T19:03:55.234109Z",
     "shell.execute_reply": "2021-05-03T19:03:55.233521Z",
     "shell.execute_reply.started": "2021-05-03T19:03:55.227295Z"
    },
    "tags": []
   },
   "outputs": [],
   "source": [
    "def convert_invert(x_pixel, y_pixel):\n",
    "    return int((x_pixel - 375)/232.5), int((y_pixel - 227.5)/-96.389)\n",
    "\n",
    "def roi_rectangle(img_path, roi):\n",
    "    print(\"aio\")\n",
    "    img = cv2.imread(str(img_path))\n",
    "    top_left = (int(roi[4]), int(roi[3]))\n",
    "    bottom_right = (int(roi[5]), int(roi[2]))\n",
    "    print(f\"top_left: {top_left}\")    \n",
    "    print(f\"bottom_right: {bottom_right}\")\n",
    "    img = cv2.rectangle(img, top_left, bottom_right, (255,0,0), 2)\n",
    "#     plt.imshow(img)\n",
    "    cv2.imwrite(\"ecg_roi.jpg\", img)\n",
    "    cv2.imshow(\"roi-test\", img)\n",
    "#     plt.imshow(img)\n",
    "    cv2.waitKey()\n",
    "    cv2.destroyAllWindows()\n",
    "    plt.show()\n",
    "    \n",
    "   \n",
    "    \n",
    "    return top_left, bottom_right, img"
   ]
  },
  {
   "cell_type": "code",
   "execution_count": null,
   "id": "rough-sydney",
   "metadata": {
    "execution": {
     "iopub.execute_input": "2021-05-03T19:03:55.619119Z",
     "iopub.status.busy": "2021-05-03T19:03:55.618041Z"
    },
    "tags": []
   },
   "outputs": [
    {
     "name": "stdout",
     "output_type": "stream",
     "text": [
      "aqui\n",
      "/mnt/Media/bernardo/DSL_data/figures_final/test/abnormal/1_0_232.png\n",
      "/mnt/Media/bernardo/DSL_data/figures_final/test/abnormal/1_0_232.png ['232', '1_0', '298', '137', '1947', '2202', 'abnormal']\n",
      "aio\n",
      "top_left: (1947, 137)\n",
      "bottom_right: (2202, 298)\n",
      "(450, 3000, 3)\n",
      "aqui\n",
      "/mnt/Media/bernardo/DSL_data/figures_final/test/normal/2_0_232.png\n",
      "not file\n",
      "aqui\n",
      "/mnt/Media/bernardo/DSL_data/figures_final/test/normal/3_0_232.png\n",
      "/mnt/Media/bernardo/DSL_data/figures_final/test/normal/3_0_232.png ['232', '3_0', '283', '148', '2051', '2204', 'normal']\n",
      "aio\n",
      "top_left: (2051, 148)\n",
      "bottom_right: (2204, 283)\n",
      "(450, 3000, 3)\n",
      "aqui\n",
      "/mnt/Media/bernardo/DSL_data/figures_final/test/abnormal/4_0_232.png\n",
      "/mnt/Media/bernardo/DSL_data/figures_final/test/abnormal/4_0_232.png ['232', '4_0', '273', '147', '1797', '2185', 'abnormal']\n",
      "aio\n",
      "top_left: (1797, 147)\n",
      "bottom_right: (2185, 273)\n",
      "(450, 3000, 3)\n",
      "aqui\n",
      "/mnt/Media/bernardo/DSL_data/figures_final/test/normal/5_0_232.png\n",
      "/mnt/Media/bernardo/DSL_data/figures_final/test/normal/5_0_232.png ['232', '5_0', '285', '167', '2028', '2185', 'normal']\n",
      "aio\n",
      "top_left: (2028, 167)\n",
      "bottom_right: (2185, 285)\n",
      "(450, 3000, 3)\n",
      "aqui\n",
      "/mnt/Media/bernardo/DSL_data/figures_final/test/abnormal/6_0_232.png\n",
      "/mnt/Media/bernardo/DSL_data/figures_final/test/abnormal/6_0_232.png ['232', '6_0', '297', '129', '1909', '2297', 'abnormal']\n",
      "aio\n",
      "top_left: (1909, 129)\n",
      "bottom_right: (2297, 297)\n",
      "(450, 3000, 3)\n",
      "aqui\n",
      "/mnt/Media/bernardo/DSL_data/figures_final/test/normal/7_0_232.png\n",
      "/mnt/Media/bernardo/DSL_data/figures_final/test/normal/7_0_232.png ['232', '7_0', '303', '112', '2093', '2248', 'normal']\n",
      "aio\n",
      "top_left: (2093, 112)\n",
      "bottom_right: (2248, 303)\n"
     ]
    }
   ],
   "source": [
    "with open(roi_file_path) as rois:\n",
    "    rois_reader = csv.reader(rois, delimiter='\\t')\n",
    "    j = 0\n",
    "    for i, roi in enumerate(rois_reader):\n",
    "        if i != 0:\n",
    "            print(\"aqui\")\n",
    "            img_path = TEST_DATA_PATH / roi[6] / f\"{roi[1]}_{roi[0]}.png\"\n",
    "            print(img_path)\n",
    "            if img_path.is_file():\n",
    "                print(img_path, roi)\n",
    "                j += 1\n",
    "                print(roi_rectangle(img_path, roi)[2].shape)\n",
    "                if j == 50:\n",
    "                    break\n",
    "            else:\n",
    "                print(\"not file\")"
   ]
  },
  {
   "cell_type": "code",
   "execution_count": null,
   "id": "rocky-tomorrow",
   "metadata": {},
   "outputs": [],
   "source": []
  }
 ],
 "metadata": {
  "kernelspec": {
   "display_name": "Python 3",
   "language": "python",
   "name": "python3"
  },
  "language_info": {
   "codemirror_mode": {
    "name": "ipython",
    "version": 3
   },
   "file_extension": ".py",
   "mimetype": "text/x-python",
   "name": "python",
   "nbconvert_exporter": "python",
   "pygments_lexer": "ipython3",
   "version": "3.8.5"
  }
 },
 "nbformat": 4,
 "nbformat_minor": 5
}
