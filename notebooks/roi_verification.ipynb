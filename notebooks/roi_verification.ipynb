{
 "cells": [
  {
   "cell_type": "markdown",
   "id": "complimentary-adapter",
   "metadata": {},
   "source": [
    "# ROI verification"
   ]
  },
  {
   "cell_type": "code",
   "execution_count": null,
   "id": "three-accounting",
   "metadata": {
    "execution": {
     "iopub.execute_input": "2021-02-24T09:54:50.185534Z",
     "iopub.status.busy": "2021-02-24T09:54:50.185212Z",
     "iopub.status.idle": "2021-02-24T09:54:51.540238Z",
     "shell.execute_reply": "2021-02-24T09:54:51.539501Z",
     "shell.execute_reply.started": "2021-02-24T09:54:50.185452Z"
    },
    "tags": []
   },
   "outputs": [],
   "source": [
    "from prep_test_data import *\n",
    "from pathlib import Path\n",
    "import json\n",
    "import torch\n",
    "from matplotlib import pyplot as plt\n",
    "import shutil\n",
    "import numpy as np\n",
    "import cv2\n",
    "import csv"
   ]
  },
  {
   "cell_type": "code",
   "execution_count": null,
   "id": "fleet-bracelet",
   "metadata": {
    "execution": {
     "iopub.execute_input": "2021-02-24T09:54:52.213258Z",
     "iopub.status.busy": "2021-02-24T09:54:52.212903Z",
     "iopub.status.idle": "2021-02-24T09:54:52.217929Z",
     "shell.execute_reply": "2021-02-24T09:54:52.217013Z",
     "shell.execute_reply.started": "2021-02-24T09:54:52.213218Z"
    },
    "tags": []
   },
   "outputs": [],
   "source": [
    "# TEST_DATA_PATH = Path(f'/mnt/Media/bernardo/DSL_test_data')\n",
    "TEST_DATA_PATH = Path(Path.cwd().parent / r'.\\data\\figures_final\\test')"
   ]
  },
  {
   "cell_type": "code",
   "execution_count": null,
   "id": "major-french",
   "metadata": {
    "execution": {
     "iopub.execute_input": "2021-02-24T09:54:52.864721Z",
     "iopub.status.busy": "2021-02-24T09:54:52.864387Z",
     "iopub.status.idle": "2021-02-24T09:54:52.873425Z",
     "shell.execute_reply": "2021-02-24T09:54:52.872804Z",
     "shell.execute_reply.started": "2021-02-24T09:54:52.864682Z"
    },
    "tags": []
   },
   "outputs": [],
   "source": [
    "roi_file_path = list((Path.cwd().parent / \"ROI\").glob(\"*.txt\"))[1] # --> label initial\n",
    "roi_file_path"
   ]
  },
  {
   "cell_type": "code",
   "execution_count": null,
   "id": "sorted-contemporary",
   "metadata": {
    "execution": {
     "iopub.execute_input": "2021-02-24T09:55:20.586310Z",
     "iopub.status.busy": "2021-02-24T09:55:20.585770Z",
     "iopub.status.idle": "2021-02-24T09:55:20.596274Z",
     "shell.execute_reply": "2021-02-24T09:55:20.595363Z",
     "shell.execute_reply.started": "2021-02-24T09:55:20.586246Z"
    },
    "tags": []
   },
   "outputs": [],
   "source": [
    "def convert_invert(x_pixel, y_pixel):\n",
    "    return int((x_pixel - 375)/232.5), int((y_pixel - 227.5)/-96.389)\n",
    "\n",
    "def roi_rectangle(img_path, roi):\n",
    "    img = cv2.imread(str(img_path))\n",
    "    top_left = (int(roi[4]), int(roi[3]))\n",
    "    bottom_right = (int(roi[5]), int(roi[2]))\n",
    "    print(f\"top_left: {top_left}\")    \n",
    "    print(f\"bottom_right: {bottom_right}\")\n",
    "    img = cv2.rectangle(img, top_left, bottom_right, (255,0,0), 2)\n",
    "#     plt.imshow(img)\n",
    "    cv2.imshow(\"roi-test\", img)\n",
    "#     plt.imshow(img)\n",
    "    cv2.waitKey()\n",
    "    cv2.destroyAllWindows()\n",
    "    plt.show()\n",
    "    return top_left, bottom_right, img"
   ]
  },
  {
   "cell_type": "code",
   "execution_count": null,
   "id": "continent-tissue",
   "metadata": {
    "execution": {
     "iopub.execute_input": "2021-02-24T09:55:21.275786Z",
     "iopub.status.busy": "2021-02-24T09:55:21.275283Z",
     "iopub.status.idle": "2021-02-24T09:56:40.701644Z",
     "shell.execute_reply": "2021-02-24T09:56:40.700974Z",
     "shell.execute_reply.started": "2021-02-24T09:55:21.275733Z"
    },
    "scrolled": false,
    "tags": []
   },
   "outputs": [],
   "source": [
    "with open(roi_file_path) as rois:\n",
    "    rois_reader = csv.reader(rois, delimiter='\\t')\n",
    "    j = 0\n",
    "    for i, roi in enumerate(rois_reader):\n",
    "        if i != 0:\n",
    "            img_path = TEST_DATA_PATH / roi[6] / f\"{int(roi[1].split('_')[0])+1}_0_{roi[0]}.png\"\n",
    "#             print(img_path)\n",
    "            if img_path.is_file():\n",
    "                print(img_path, roi)\n",
    "                j += 1\n",
    "                print(roi_rectangle(img_path, roi)[2].shape)\n",
    "                if j == 50:\n",
    "                    break"
   ]
  },
  {
   "cell_type": "code",
   "execution_count": null,
   "id": "optional-setting",
   "metadata": {},
   "outputs": [],
   "source": []
  }
 ],
 "metadata": {
  "kernelspec": {
   "display_name": "Python 3",
   "language": "python",
   "name": "python3"
  },
  "language_info": {
   "codemirror_mode": {
    "name": "ipython",
    "version": 3
   },
   "file_extension": ".py",
   "mimetype": "text/x-python",
   "name": "python",
   "nbconvert_exporter": "python",
   "pygments_lexer": "ipython3",
   "version": "3.6.5"
  }
 },
 "nbformat": 4,
 "nbformat_minor": 5
}
