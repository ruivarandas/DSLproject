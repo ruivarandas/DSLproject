{
 "cells": [
  {
   "cell_type": "markdown",
   "id": "pretty-decimal",
   "metadata": {},
   "source": [
    "# ROI verification"
   ]
  },
  {
   "cell_type": "code",
   "execution_count": 1,
   "id": "relative-operation",
   "metadata": {
    "execution": {
     "iopub.execute_input": "2021-05-05T13:08:04.387096Z",
     "iopub.status.busy": "2021-05-05T13:08:04.386905Z",
     "iopub.status.idle": "2021-05-05T13:08:05.117065Z",
     "shell.execute_reply": "2021-05-05T13:08:05.116572Z",
     "shell.execute_reply.started": "2021-05-05T13:08:04.387046Z"
    },
    "tags": []
   },
   "outputs": [],
   "source": [
    "#from prep_test_data import *\n",
    "from pathlib import Path\n",
    "import json\n",
    "import torch\n",
    "from matplotlib import pyplot as plt\n",
    "import shutil\n",
    "import numpy as np\n",
    "import cv2\n",
    "import csv"
   ]
  },
  {
   "cell_type": "code",
   "execution_count": 2,
   "id": "wrong-wallet",
   "metadata": {
    "execution": {
     "iopub.execute_input": "2021-05-05T13:08:05.117754Z",
     "iopub.status.busy": "2021-05-05T13:08:05.117633Z",
     "iopub.status.idle": "2021-05-05T13:08:05.119902Z",
     "shell.execute_reply": "2021-05-05T13:08:05.119550Z",
     "shell.execute_reply.started": "2021-05-05T13:08:05.117738Z"
    },
    "tags": []
   },
   "outputs": [],
   "source": [
    "TEST_DATA_PATH = Path(f'/mnt/Media/bernardo/DSL_data/figures_final/test')\n",
    "#TEST_DATA_PATH = Path(Path.cwd().parent / r'.\\data\\figures_final\\test')"
   ]
  },
  {
   "cell_type": "code",
   "execution_count": 3,
   "id": "palestinian-probe",
   "metadata": {
    "execution": {
     "iopub.execute_input": "2021-05-05T13:08:05.120771Z",
     "iopub.status.busy": "2021-05-05T13:08:05.120621Z",
     "iopub.status.idle": "2021-05-05T13:08:05.132571Z",
     "shell.execute_reply": "2021-05-05T13:08:05.131912Z",
     "shell.execute_reply.started": "2021-05-05T13:08:05.120752Z"
    },
    "tags": []
   },
   "outputs": [
    {
     "data": {
      "text/plain": [
       "PosixPath('/mnt/Media/bernardo/Documents/PhD/Courses/DSL/code/DSLproject/ROI/5_ROI.txt')"
      ]
     },
     "execution_count": 3,
     "metadata": {},
     "output_type": "execute_result"
    }
   ],
   "source": [
    "roi_file_path = list((Path.cwd().parent / \"ROI\").glob(\"*.txt\"))[2] # --> label initial\n",
    "roi_file_path"
   ]
  },
  {
   "cell_type": "code",
   "execution_count": 4,
   "id": "challenging-veteran",
   "metadata": {
    "execution": {
     "iopub.execute_input": "2021-05-05T13:08:05.335953Z",
     "iopub.status.busy": "2021-05-05T13:08:05.335600Z",
     "iopub.status.idle": "2021-05-05T13:08:05.345222Z",
     "shell.execute_reply": "2021-05-05T13:08:05.343923Z",
     "shell.execute_reply.started": "2021-05-05T13:08:05.335913Z"
    },
    "tags": []
   },
   "outputs": [],
   "source": [
    "def convert_invert(x_pixel, y_pixel):\n",
    "    return int((x_pixel - 375)/232.5), int((y_pixel - 227.5)/-96.389)\n",
    "\n",
    "def roi_rectangle(img_path, roi):\n",
    "    print(\"aio\")\n",
    "    img = cv2.imread(str(img_path))\n",
    "    top_left = (int(roi[4]), int(roi[3]))\n",
    "    bottom_right = (int(roi[5]), int(roi[2]))\n",
    "    print(f\"top_left: {top_left}\")    \n",
    "    print(f\"bottom_right: {bottom_right}\")\n",
    "    img = cv2.rectangle(img, top_left, bottom_right, (255,0,0), 2)\n",
    "#     plt.imshow(img)\n",
    "    cv2.imwrite(\"ecg_roi.jpg\", img)\n",
    "    cv2.imshow(\"roi-test\", img)\n",
    "#     plt.imshow(img)\n",
    "    cv2.waitKey()\n",
    "    cv2.destroyAllWindows()\n",
    "    plt.show()\n",
    "    \n",
    "   \n",
    "    \n",
    "    return top_left, bottom_right, img"
   ]
  },
  {
   "cell_type": "code",
   "execution_count": null,
   "id": "wanted-tyler",
   "metadata": {
    "execution": {
     "iopub.execute_input": "2021-05-05T13:08:05.904334Z",
     "iopub.status.busy": "2021-05-05T13:08:05.903667Z"
    },
    "tags": []
   },
   "outputs": [
    {
     "name": "stdout",
     "output_type": "stream",
     "text": [
      "aqui\n",
      "/mnt/Media/bernardo/DSL_data/figures_final/test/abnormal/1_0_232.png\n",
      "/mnt/Media/bernardo/DSL_data/figures_final/test/abnormal/1_0_232.png ['232', '1_0', '298', '137', '1947', '2202', 'abnormal']\n",
      "aio\n",
      "top_left: (1947, 137)\n",
      "bottom_right: (2202, 298)\n",
      "(450, 3000, 3)\n",
      "aqui\n",
      "/mnt/Media/bernardo/DSL_data/figures_final/test/normal/2_0_232.png\n",
      "not file\n",
      "aqui\n",
      "/mnt/Media/bernardo/DSL_data/figures_final/test/normal/3_0_232.png\n",
      "/mnt/Media/bernardo/DSL_data/figures_final/test/normal/3_0_232.png ['232', '3_0', '283', '148', '2051', '2204', 'normal']\n",
      "aio\n",
      "top_left: (2051, 148)\n",
      "bottom_right: (2204, 283)\n",
      "(450, 3000, 3)\n",
      "aqui\n",
      "/mnt/Media/bernardo/DSL_data/figures_final/test/abnormal/4_0_232.png\n",
      "/mnt/Media/bernardo/DSL_data/figures_final/test/abnormal/4_0_232.png ['232', '4_0', '273', '147', '1797', '2185', 'abnormal']\n",
      "aio\n",
      "top_left: (1797, 147)\n",
      "bottom_right: (2185, 273)\n",
      "(450, 3000, 3)\n",
      "aqui\n",
      "/mnt/Media/bernardo/DSL_data/figures_final/test/normal/5_0_232.png\n",
      "/mnt/Media/bernardo/DSL_data/figures_final/test/normal/5_0_232.png ['232', '5_0', '285', '167', '2028', '2185', 'normal']\n",
      "aio\n",
      "top_left: (2028, 167)\n",
      "bottom_right: (2185, 285)\n",
      "(450, 3000, 3)\n",
      "aqui\n",
      "/mnt/Media/bernardo/DSL_data/figures_final/test/abnormal/6_0_232.png\n",
      "/mnt/Media/bernardo/DSL_data/figures_final/test/abnormal/6_0_232.png ['232', '6_0', '297', '129', '1909', '2297', 'abnormal']\n",
      "aio\n",
      "top_left: (1909, 129)\n",
      "bottom_right: (2297, 297)\n",
      "(450, 3000, 3)\n",
      "aqui\n",
      "/mnt/Media/bernardo/DSL_data/figures_final/test/normal/7_0_232.png\n",
      "/mnt/Media/bernardo/DSL_data/figures_final/test/normal/7_0_232.png ['232', '7_0', '303', '112', '2093', '2248', 'normal']\n",
      "aio\n",
      "top_left: (2093, 112)\n",
      "bottom_right: (2248, 303)\n",
      "(450, 3000, 3)\n",
      "aqui\n",
      "/mnt/Media/bernardo/DSL_data/figures_final/test/abnormal/8_0_232.png\n",
      "/mnt/Media/bernardo/DSL_data/figures_final/test/abnormal/8_0_232.png ['232', '8_0', '294', '111', '1967', '2348', 'abnormal']\n",
      "aio\n",
      "top_left: (1967, 111)\n",
      "bottom_right: (2348, 294)\n",
      "(450, 3000, 3)\n",
      "aqui\n",
      "/mnt/Media/bernardo/DSL_data/figures_final/test/normal/9_0_232.png\n",
      "/mnt/Media/bernardo/DSL_data/figures_final/test/normal/9_0_232.png ['232', '9_0', '290', '130', '2193', '2350', 'normal']\n",
      "aio\n",
      "top_left: (2193, 130)\n",
      "bottom_right: (2350, 290)\n",
      "(450, 3000, 3)\n",
      "aqui\n",
      "/mnt/Media/bernardo/DSL_data/figures_final/test/abnormal/10_0_232.png\n",
      "/mnt/Media/bernardo/DSL_data/figures_final/test/abnormal/10_0_232.png ['232', '10_0', '270', '112', '2069', '2244', 'abnormal']\n",
      "aio\n",
      "top_left: (2069, 112)\n",
      "bottom_right: (2244, 270)\n",
      "(450, 3000, 3)\n",
      "aqui\n",
      "/mnt/Media/bernardo/DSL_data/figures_final/test/abnormal/11_0_232.png\n",
      "/mnt/Media/bernardo/DSL_data/figures_final/test/abnormal/11_0_232.png ['232', '11_0', '293', '108', '1963', '2368', 'abnormal']\n",
      "aio\n",
      "top_left: (1963, 108)\n",
      "bottom_right: (2368, 293)\n",
      "(450, 3000, 3)\n",
      "aqui\n",
      "/mnt/Media/bernardo/DSL_data/figures_final/test/normal/12_0_232.png\n",
      "/mnt/Media/bernardo/DSL_data/figures_final/test/normal/12_0_232.png ['232', '12_0', '294', '141', '2096', '2251', 'normal']\n",
      "aio\n",
      "top_left: (2096, 141)\n",
      "bottom_right: (2251, 294)\n",
      "(450, 3000, 3)\n",
      "aqui\n",
      "/mnt/Media/bernardo/DSL_data/figures_final/test/abnormal/13_0_232.png\n",
      "/mnt/Media/bernardo/DSL_data/figures_final/test/abnormal/13_0_232.png ['232', '13_0', '287', '154', '2089', '2257', 'abnormal']\n",
      "aio\n",
      "top_left: (2089, 154)\n",
      "bottom_right: (2257, 287)\n",
      "(450, 3000, 3)\n",
      "aqui\n",
      "/mnt/Media/bernardo/DSL_data/figures_final/test/abnormal/14_0_232.png\n",
      "/mnt/Media/bernardo/DSL_data/figures_final/test/abnormal/14_0_232.png ['232', '14_0', '303', '110', '1986', '2148', 'abnormal']\n",
      "aio\n",
      "top_left: (1986, 110)\n",
      "bottom_right: (2148, 303)\n",
      "(450, 3000, 3)\n",
      "aqui\n",
      "/mnt/Media/bernardo/DSL_data/figures_final/test/abnormal/15_0_232.png\n",
      "/mnt/Media/bernardo/DSL_data/figures_final/test/abnormal/15_0_232.png ['232', '15_0', '290', '103', '1985', '2153', 'abnormal']\n",
      "aio\n",
      "top_left: (1985, 103)\n",
      "bottom_right: (2153, 290)\n",
      "(450, 3000, 3)\n",
      "aqui\n",
      "/mnt/Media/bernardo/DSL_data/figures_final/test/abnormal/16_0_232.png\n",
      "/mnt/Media/bernardo/DSL_data/figures_final/test/abnormal/16_0_232.png ['232', '16_0', '300', '112', '1982', '2150', 'abnormal']\n",
      "aio\n",
      "top_left: (1982, 112)\n",
      "bottom_right: (2150, 300)\n",
      "(450, 3000, 3)\n",
      "aqui\n",
      "/mnt/Media/bernardo/DSL_data/figures_final/test/abnormal/17_0_232.png\n",
      "/mnt/Media/bernardo/DSL_data/figures_final/test/abnormal/17_0_232.png ['232', '17_0', '301', '108', '1867', '2028', 'abnormal']\n",
      "aio\n",
      "top_left: (1867, 108)\n",
      "bottom_right: (2028, 301)\n",
      "(450, 3000, 3)\n",
      "aqui\n",
      "/mnt/Media/bernardo/DSL_data/figures_final/test/abnormal/18_0_232.png\n",
      "/mnt/Media/bernardo/DSL_data/figures_final/test/abnormal/18_0_232.png ['232', '18_0', '301', '118', '1870', '2032', 'abnormal']\n",
      "aio\n",
      "top_left: (1870, 118)\n",
      "bottom_right: (2032, 301)\n"
     ]
    }
   ],
   "source": [
    "with open(roi_file_path) as rois:\n",
    "    rois_reader = csv.reader(rois, delimiter='\\t')\n",
    "    j = 0\n",
    "    for i, roi in enumerate(rois_reader):\n",
    "        if i != 0:\n",
    "            print(\"aqui\")\n",
    "            img_path = TEST_DATA_PATH / roi[6] / f\"{roi[1]}_{roi[0]}.png\"\n",
    "            print(img_path)\n",
    "            if img_path.is_file():\n",
    "                print(img_path, roi)\n",
    "                j += 1\n",
    "                print(roi_rectangle(img_path, roi)[2].shape)\n",
    "                if j == 50:\n",
    "                    break\n",
    "            else:\n",
    "                print(\"not file\")"
   ]
  },
  {
   "cell_type": "code",
   "execution_count": null,
   "id": "great-customer",
   "metadata": {},
   "outputs": [],
   "source": []
  }
 ],
 "metadata": {
  "kernelspec": {
   "display_name": "Python 3",
   "language": "python",
   "name": "python3"
  },
  "language_info": {
   "codemirror_mode": {
    "name": "ipython",
    "version": 3
   },
   "file_extension": ".py",
   "mimetype": "text/x-python",
   "name": "python",
   "nbconvert_exporter": "python",
   "pygments_lexer": "ipython3",
   "version": "3.8.5"
  }
 },
 "nbformat": 4,
 "nbformat_minor": 5
}
