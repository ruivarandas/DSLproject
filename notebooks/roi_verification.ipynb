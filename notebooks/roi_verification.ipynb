{
 "cells": [
  {
   "cell_type": "markdown",
   "id": "floral-therapist",
   "metadata": {},
   "source": [
    "# ROI verification"
   ]
  },
  {
   "cell_type": "code",
   "execution_count": 1,
   "id": "sophisticated-nightmare",
   "metadata": {
    "execution": {
     "iopub.execute_input": "2021-02-24T09:54:50.185534Z",
     "iopub.status.busy": "2021-02-24T09:54:50.185212Z",
     "iopub.status.idle": "2021-02-24T09:54:51.540238Z",
     "shell.execute_reply": "2021-02-24T09:54:51.539501Z",
     "shell.execute_reply.started": "2021-02-24T09:54:50.185452Z"
    },
    "tags": []
   },
   "outputs": [],
   "source": [
    "from prep_test_data import *\n",
    "from pathlib import Path\n",
    "import json\n",
    "import torch\n",
    "from matplotlib import pyplot as plt\n",
    "import shutil\n",
    "import numpy as np\n",
    "import cv2\n",
    "import csv"
   ]
  },
  {
   "cell_type": "code",
   "execution_count": 2,
   "id": "complex-retrieval",
   "metadata": {
    "execution": {
     "iopub.execute_input": "2021-02-24T09:54:52.213258Z",
     "iopub.status.busy": "2021-02-24T09:54:52.212903Z",
     "iopub.status.idle": "2021-02-24T09:54:52.217929Z",
     "shell.execute_reply": "2021-02-24T09:54:52.217013Z",
     "shell.execute_reply.started": "2021-02-24T09:54:52.213218Z"
    },
    "tags": []
   },
   "outputs": [],
   "source": [
    "TEST_DATA_PATH = Path(f'/mnt/Media/bernardo/DSL_test_data')"
   ]
  },
  {
   "cell_type": "code",
   "execution_count": 3,
   "id": "celtic-coast",
   "metadata": {
    "execution": {
     "iopub.execute_input": "2021-02-24T09:54:52.864721Z",
     "iopub.status.busy": "2021-02-24T09:54:52.864387Z",
     "iopub.status.idle": "2021-02-24T09:54:52.873425Z",
     "shell.execute_reply": "2021-02-24T09:54:52.872804Z",
     "shell.execute_reply.started": "2021-02-24T09:54:52.864682Z"
    },
    "tags": []
   },
   "outputs": [
    {
     "data": {
      "text/plain": [
       "PosixPath('/mnt/Media/bernardo/Documents/PhD/Courses/Deep Structured Learning/code/DSLproject/ROI/5_ROI.txt')"
      ]
     },
     "execution_count": 3,
     "metadata": {},
     "output_type": "execute_result"
    }
   ],
   "source": [
    "roi_file_path = list((Path.cwd().parent / \"ROI\").glob(\"*.txt\"))[2] # --> label final\n",
    "roi_file_path"
   ]
  },
  {
   "cell_type": "code",
   "execution_count": 5,
   "id": "reflected-steal",
   "metadata": {
    "execution": {
     "iopub.execute_input": "2021-02-24T09:55:20.586310Z",
     "iopub.status.busy": "2021-02-24T09:55:20.585770Z",
     "iopub.status.idle": "2021-02-24T09:55:20.596274Z",
     "shell.execute_reply": "2021-02-24T09:55:20.595363Z",
     "shell.execute_reply.started": "2021-02-24T09:55:20.586246Z"
    },
    "tags": []
   },
   "outputs": [],
   "source": [
    "def roi_rectangle(img_path, roi):\n",
    "    img = cv2.imread(str(img_path))\n",
    "    top_left = (int(roi[4]), int(roi[3]))\n",
    "    bottom_right = (int(roi[5]), int(roi[2]))\n",
    "    print(f\"top_left: {top_left}\")    \n",
    "    print(f\"bottom_right: {bottom_right}\")\n",
    "    img = cv2.rectangle(img, top_left, bottom_right, (255,0,0), 2)\n",
    "    plt.imshow(img)\n",
    "    cv2.imshow(\"roi-test\", img)\n",
    "    cv2.waitKey()\n",
    "    cv2.destroyAllWindows()\n",
    "    return top_left, bottom_right, img"
   ]
  },
  {
   "cell_type": "code",
   "execution_count": 6,
   "id": "soviet-breach",
   "metadata": {
    "execution": {
     "iopub.execute_input": "2021-02-24T09:55:21.275786Z",
     "iopub.status.busy": "2021-02-24T09:55:21.275283Z",
     "iopub.status.idle": "2021-02-24T09:56:40.701644Z",
     "shell.execute_reply": "2021-02-24T09:56:40.700974Z",
     "shell.execute_reply.started": "2021-02-24T09:55:21.275733Z"
    },
    "tags": []
   },
   "outputs": [
    {
     "name": "stdout",
     "output_type": "stream",
     "text": [
      "top_left: (1847, 112)\n",
      "bottom_right: (2020, 281)\n",
      "top_left: (1864, 119)\n",
      "bottom_right: (2023, 280)\n",
      "top_left: (1867, 130)\n",
      "bottom_right: (2020, 293)\n",
      "top_left: (1880, 116)\n",
      "bottom_right: (2013, 283)\n",
      "top_left: (1868, 102)\n",
      "bottom_right: (2001, 268)\n",
      "top_left: (1842, 110)\n",
      "bottom_right: (1985, 276)\n",
      "top_left: (1827, 135)\n",
      "bottom_right: (1971, 297)\n",
      "top_left: (1817, 136)\n",
      "bottom_right: (1966, 295)\n",
      "top_left: (1803, 105)\n",
      "bottom_right: (1976, 266)\n",
      "top_left: (1831, 105)\n",
      "bottom_right: (1987, 267)\n",
      "top_left: (1842, 114)\n",
      "bottom_right: (1998, 279)\n",
      "top_left: (1846, 122)\n",
      "bottom_right: (2006, 277)\n",
      "top_left: (1858, 104)\n",
      "bottom_right: (2011, 260)\n",
      "top_left: (1860, 105)\n",
      "bottom_right: (2013, 278)\n",
      "top_left: (1855, 119)\n",
      "bottom_right: (1999, 289)\n",
      "top_left: (1849, 120)\n",
      "bottom_right: (1993, 284)\n",
      "top_left: (1838, 100)\n",
      "bottom_right: (1992, 272)\n",
      "top_left: (1834, 111)\n",
      "bottom_right: (1990, 278)\n",
      "top_left: (1837, 130)\n",
      "bottom_right: (1990, 292)\n",
      "top_left: (1834, 117)\n",
      "bottom_right: (1992, 282)\n",
      "top_left: (1844, 107)\n",
      "bottom_right: (1997, 272)\n",
      "top_left: (1850, 110)\n",
      "bottom_right: (2000, 273)\n",
      "top_left: (1850, 117)\n",
      "bottom_right: (1995, 287)\n",
      "top_left: (1840, 105)\n",
      "bottom_right: (1993, 283)\n",
      "top_left: (1838, 97)\n",
      "bottom_right: (1995, 268)\n",
      "top_left: (1839, 103)\n",
      "bottom_right: (1992, 274)\n",
      "top_left: (1837, 113)\n",
      "bottom_right: (1994, 285)\n",
      "top_left: (1837, 98)\n",
      "bottom_right: (2002, 266)\n",
      "top_left: (1845, 101)\n",
      "bottom_right: (2014, 274)\n",
      "top_left: (1860, 113)\n",
      "bottom_right: (2015, 290)\n",
      "top_left: (1861, 99)\n",
      "bottom_right: (2013, 276)\n",
      "top_left: (1858, 96)\n",
      "bottom_right: (2015, 269)\n",
      "top_left: (1862, 111)\n",
      "bottom_right: (2011, 281)\n",
      "top_left: (1856, 119)\n",
      "bottom_right: (2002, 290)\n",
      "top_left: (1841, 100)\n",
      "bottom_right: (1993, 267)\n",
      "top_left: (1834, 107)\n",
      "bottom_right: (1996, 274)\n",
      "top_left: (1843, 124)\n",
      "bottom_right: (1998, 286)\n",
      "top_left: (1840, 120)\n",
      "bottom_right: (1999, 278)\n",
      "top_left: (1848, 99)\n",
      "bottom_right: (2001, 263)\n",
      "top_left: (1855, 124)\n",
      "bottom_right: (2002, 290)\n",
      "top_left: (1852, 112)\n",
      "bottom_right: (1999, 277)\n",
      "top_left: (1844, 110)\n",
      "bottom_right: (1993, 280)\n",
      "top_left: (1839, 119)\n",
      "bottom_right: (1991, 279)\n",
      "top_left: (1837, 147)\n",
      "bottom_right: (1986, 296)\n",
      "top_left: (1836, 136)\n",
      "bottom_right: (1983, 289)\n",
      "top_left: (1833, 122)\n",
      "bottom_right: (1987, 274)\n",
      "top_left: (1836, 118)\n",
      "bottom_right: (1991, 273)\n",
      "top_left: (1840, 117)\n",
      "bottom_right: (1992, 283)\n",
      "top_left: (1840, 98)\n",
      "bottom_right: (1992, 263)\n",
      "top_left: (1842, 95)\n",
      "bottom_right: (1992, 264)\n"
     ]
    },
    {
     "data": {
      "image/png": "[encoded data removed]",
      "text/plain": [
       "<Figure size 432x288 with 1 Axes>"
      ]
     },
     "metadata": {
      "needs_background": "light"
     },
     "output_type": "display_data"
    }
   ],
   "source": [
    "with open(roi_file_path) as rois:\n",
    "    rois_reader = csv.reader(rois, delimiter='\\t')\n",
    "    j = 0\n",
    "    for i, roi in enumerate(rois_reader):\n",
    "        if i != 0:\n",
    "            img_path = TEST_DATA_PATH / roi[6] / f\"{roi[1]}_{roi[0]}.png\"\n",
    "            if img_path.is_file():\n",
    "                j += 1\n",
    "                roi_rectangle(img_path, roi)\n",
    "                if j == 50:\n",
    "                    break"
   ]
  },
  {
   "cell_type": "code",
   "execution_count": null,
   "id": "aware-nicaragua",
   "metadata": {},
   "outputs": [],
   "source": []
  }
 ],
 "metadata": {
  "kernelspec": {
   "display_name": "Python 3",
   "language": "python",
   "name": "python3"
  },
  "language_info": {
   "codemirror_mode": {
    "name": "ipython",
    "version": 3
   },
   "file_extension": ".py",
   "mimetype": "text/x-python",
   "name": "python",
   "nbconvert_exporter": "python",
   "pygments_lexer": "ipython3",
   "version": "3.8.5"
  }
 },
 "nbformat": 4,
 "nbformat_minor": 5
}
