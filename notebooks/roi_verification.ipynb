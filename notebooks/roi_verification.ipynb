{
 "cells": [
  {
   "cell_type": "markdown",
   "id": "stupid-crossing",
   "metadata": {},
   "source": [
    "# ROI verification"
   ]
  },
  {
   "cell_type": "code",
   "execution_count": null,
   "id": "covered-product",
   "metadata": {
    "tags": []
   },
   "outputs": [],
   "source": [
    "#from prep_test_data import *\n",
    "from pathlib import Path\n",
    "import json\n",
    "import torch\n",
    "from matplotlib import pyplot as plt\n",
    "import shutil\n",
    "import numpy as np\n",
    "import cv2\n",
    "import csv"
   ]
  },
  {
   "cell_type": "code",
   "execution_count": null,
   "id": "instrumental-scout",
   "metadata": {
    "tags": []
   },
   "outputs": [],
   "source": [
    "TEST_DATA_PATH = Path(f'/mnt/Media/bernardo/DSL_data/figures_final/test')\n",
    "#TEST_DATA_PATH = Path(Path.cwd().parent / r'.\\data\\figures_final\\test')"
   ]
  },
  {
   "cell_type": "code",
   "execution_count": null,
   "id": "imperial-ordinary",
   "metadata": {
    "tags": []
   },
   "outputs": [],
   "source": [
    "roi_file_path = list((Path.cwd().parent / \"ROI\").glob(\"*.txt\"))[2] # --> label initial\n",
    "roi_file_path"
   ]
  },
  {
   "cell_type": "code",
   "execution_count": null,
   "id": "beneficial-scottish",
   "metadata": {
    "tags": []
   },
   "outputs": [],
   "source": [
    "def convert_invert(x_pixel, y_pixel):\n",
    "    return int((x_pixel - 375)/232.5), int((y_pixel - 227.5)/-96.389)\n",
    "\n",
    "def roi_rectangle(img_path, roi):\n",
    "    print(\"aio\")\n",
    "    img = cv2.imread(str(img_path))\n",
    "    top_left = (int(roi[4]), int(roi[3]))\n",
    "    bottom_right = (int(roi[5]), int(roi[2]))\n",
    "    print(f\"top_left: {top_left}\")    \n",
    "    print(f\"bottom_right: {bottom_right}\")\n",
    "    img = cv2.rectangle(img, top_left, bottom_right, (255,0,0), 2)\n",
    "#     plt.imshow(img)\n",
    "    cv2.imwrite(\"ecg_roi.jpg\", img)\n",
    "    cv2.imshow(\"roi-test\", img)\n",
    "#     plt.imshow(img)\n",
    "    cv2.waitKey()\n",
    "    cv2.destroyAllWindows()\n",
    "    plt.show()\n",
    "    \n",
    "   \n",
    "    \n",
    "    return top_left, bottom_right, img"
   ]
  },
  {
   "cell_type": "code",
   "execution_count": null,
   "id": "found-mining",
   "metadata": {
    "tags": []
   },
   "outputs": [],
   "source": [
    "with open(roi_file_path) as rois:\n",
    "    rois_reader = csv.reader(rois, delimiter='\\t')\n",
    "    j = 0\n",
    "    for i, roi in enumerate(rois_reader):\n",
    "        if i != 0:\n",
    "            print(\"aqui\")\n",
    "            img_path = TEST_DATA_PATH / roi[6] / f\"{roi[1]}_{roi[0]}.png\"\n",
    "            print(img_path)\n",
    "            if img_path.is_file():\n",
    "                print(img_path, roi)\n",
    "                j += 1\n",
    "                print(roi_rectangle(img_path, roi)[2].shape)\n",
    "                if j == 50:\n",
    "                    break\n",
    "            else:\n",
    "                print(\"not file\")"
   ]
  },
  {
   "cell_type": "code",
   "execution_count": null,
   "id": "obvious-fever",
   "metadata": {},
   "outputs": [],
   "source": []
  }
 ],
 "metadata": {
  "kernelspec": {
   "display_name": "Python 3",
   "language": "python",
   "name": "python3"
  },
  "language_info": {
   "codemirror_mode": {
    "name": "ipython",
    "version": 3
   },
   "file_extension": ".py",
   "mimetype": "text/x-python",
   "name": "python",
   "nbconvert_exporter": "python",
   "pygments_lexer": "ipython3",
   "version": "3.8.5"
  }
 },
 "nbformat": 4,
 "nbformat_minor": 5
}
