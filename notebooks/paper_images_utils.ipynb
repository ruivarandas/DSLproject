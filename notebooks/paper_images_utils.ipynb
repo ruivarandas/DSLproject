{
 "cells": [
  {
   "cell_type": "code",
   "execution_count": 1,
   "id": "steady-brazilian",
   "metadata": {
    "execution": {
     "iopub.execute_input": "2021-06-08T18:15:45.640361Z",
     "iopub.status.busy": "2021-06-08T18:15:45.640178Z",
     "iopub.status.idle": "2021-06-08T18:15:45.848434Z",
     "shell.execute_reply": "2021-06-08T18:15:45.847956Z",
     "shell.execute_reply.started": "2021-06-08T18:15:45.640313Z"
    },
    "tags": []
   },
   "outputs": [],
   "source": [
    "from pathlib import Path\n",
    "import cv2\n",
    "import matplotlib.pyplot as plt"
   ]
  },
  {
   "cell_type": "code",
   "execution_count": 2,
   "id": "sacred-posting",
   "metadata": {
    "execution": {
     "iopub.execute_input": "2021-05-04T07:48:10.049117Z",
     "iopub.status.busy": "2021-05-04T07:48:10.048511Z",
     "iopub.status.idle": "2021-05-04T07:48:10.053898Z",
     "shell.execute_reply": "2021-05-04T07:48:10.053280Z",
     "shell.execute_reply.started": "2021-05-04T07:48:10.049046Z"
    },
    "tags": []
   },
   "outputs": [],
   "source": [
    "MAIN_PATH = Path(\"/mnt/Media/bernardo/DSL_data/attribution_maps_revisited\")\n",
    "HEARTBEATS = [\"final\", \"initial\"]\n",
    "ATTR_MAPS = [\"gb_grad_cam_map\", \"grad_cam_map\", \"saliency_map\"]\n",
    "LABELS = [\"abnormal\", \"normal\"]"
   ]
  },
  {
   "cell_type": "code",
   "execution_count": 37,
   "id": "valuable-trance",
   "metadata": {
    "execution": {
     "iopub.execute_input": "2021-05-04T14:19:52.678509Z",
     "iopub.status.busy": "2021-05-04T14:19:52.677518Z",
     "iopub.status.idle": "2021-05-04T14:19:52.702601Z",
     "shell.execute_reply": "2021-05-04T14:19:52.701724Z",
     "shell.execute_reply.started": "2021-05-04T14:19:52.678381Z"
    },
    "tags": []
   },
   "outputs": [
    {
     "name": "stdout",
     "output_type": "stream",
     "text": [
      "/mnt/Media/bernardo/DSL_data/attribution_maps_revisited/gb_grad_cam_map/label_initial_beat/normal\n",
      "/mnt/Media/bernardo/DSL_data/attribution_maps_revisited/grad_cam_map/label_initial_beat/normal\n",
      "/mnt/Media/bernardo/DSL_data/attribution_maps_revisited/saliency_map/label_initial_beat/normal\n"
     ]
    }
   ],
   "source": [
    "paths_list = []\n",
    "for attr_map in ATTR_MAPS:\n",
    "    for i, attr in enumerate((MAIN_PATH / attr_map / f\"label_initial_beat\" / \"abnormal\").iterdir()):\n",
    "        if i == 0:\n",
    "            print(MAIN_PATH / attr_map / f\"label_{beat}_beat\" / label)\n",
    "        paths_list.append(\"_\".join(attr.stem.split(\"_\")[:-1]))"
   ]
  },
  {
   "cell_type": "code",
   "execution_count": 38,
   "id": "altered-rover",
   "metadata": {
    "execution": {
     "iopub.execute_input": "2021-05-04T14:19:53.232574Z",
     "iopub.status.busy": "2021-05-04T14:19:53.231590Z",
     "iopub.status.idle": "2021-05-04T14:19:53.242702Z",
     "shell.execute_reply": "2021-05-04T14:19:53.239874Z",
     "shell.execute_reply.started": "2021-05-04T14:19:53.232452Z"
    },
    "tags": []
   },
   "outputs": [],
   "source": [
    "from collections import Counter"
   ]
  },
  {
   "cell_type": "code",
   "execution_count": 40,
   "id": "conservative-hello",
   "metadata": {
    "execution": {
     "iopub.execute_input": "2021-05-04T14:20:35.706228Z",
     "iopub.status.busy": "2021-05-04T14:20:35.705607Z",
     "iopub.status.idle": "2021-05-04T14:20:35.716983Z",
     "shell.execute_reply": "2021-05-04T14:20:35.715590Z",
     "shell.execute_reply.started": "2021-05-04T14:20:35.706154Z"
    },
    "tags": []
   },
   "outputs": [
    {
     "data": {
      "text/plain": [
       "[('1019_0_232', 2), ('1159_0_232', 2), ('1991_0_213', 2)]"
      ]
     },
     "execution_count": 40,
     "metadata": {},
     "output_type": "execute_result"
    }
   ],
   "source": [
    "Counter(paths_list).most_common(3)"
   ]
  },
  {
   "cell_type": "code",
   "execution_count": 48,
   "id": "classical-citizen",
   "metadata": {
    "execution": {
     "iopub.execute_input": "2021-05-04T15:12:04.653167Z",
     "iopub.status.busy": "2021-05-04T15:12:04.652972Z",
     "iopub.status.idle": "2021-05-04T15:12:04.655658Z",
     "shell.execute_reply": "2021-05-04T15:12:04.655097Z",
     "shell.execute_reply.started": "2021-05-04T15:12:04.653129Z"
    },
    "tags": []
   },
   "outputs": [],
   "source": [
    "IMGS_PATH = Path(\"/mnt/Media/bernardo/Documents/PhD/Courses/DSL/paper_images/attr_maps_ok\")\n",
    "folder = \"abnormal_final\""
   ]
  },
  {
   "cell_type": "code",
   "execution_count": 49,
   "id": "integrated-outreach",
   "metadata": {
    "execution": {
     "iopub.execute_input": "2021-05-04T15:12:05.123326Z",
     "iopub.status.busy": "2021-05-04T15:12:05.122716Z",
     "iopub.status.idle": "2021-05-04T15:12:05.162343Z",
     "shell.execute_reply": "2021-05-04T15:12:05.161693Z",
     "shell.execute_reply.started": "2021-05-04T15:12:05.123251Z"
    },
    "tags": []
   },
   "outputs": [],
   "source": [
    "gb_grad = cv2.imread(str(IMGS_PATH / folder / \"gb_grad_1039_0_202_ok.png\")) \n",
    "grad_cam = cv2.imread(str(IMGS_PATH / folder / \"grad_1039_0_202_ok.png\"))\n",
    "sal = cv2.imread(str(IMGS_PATH / folder / \"sal_1039_0_202_ok.png\"))"
   ]
  },
  {
   "cell_type": "code",
   "execution_count": 51,
   "id": "registered-extra",
   "metadata": {
    "execution": {
     "iopub.execute_input": "2021-05-04T15:16:12.828441Z",
     "iopub.status.busy": "2021-05-04T15:16:12.827895Z",
     "iopub.status.idle": "2021-05-04T15:16:12.834666Z",
     "shell.execute_reply": "2021-05-04T15:16:12.834284Z",
     "shell.execute_reply.started": "2021-05-04T15:16:12.828376Z"
    },
    "tags": []
   },
   "outputs": [
    {
     "data": {
      "text/plain": [
       "((224, 224, 3), (369, 370, 3), (480, 640, 3))"
      ]
     },
     "execution_count": 51,
     "metadata": {},
     "output_type": "execute_result"
    }
   ],
   "source": [
    "gb_grad.shape, grad_cam[58:427 , 143:513].shape, sal.shape"
   ]
  },
  {
   "cell_type": "code",
   "execution_count": 59,
   "id": "dressed-cabinet",
   "metadata": {
    "execution": {
     "iopub.execute_input": "2021-05-04T15:20:43.092050Z",
     "iopub.status.busy": "2021-05-04T15:20:43.091406Z",
     "iopub.status.idle": "2021-05-04T15:20:43.101099Z",
     "shell.execute_reply": "2021-05-04T15:20:43.098812Z",
     "shell.execute_reply.started": "2021-05-04T15:20:43.091975Z"
    },
    "tags": []
   },
   "outputs": [],
   "source": [
    "dim = (224,224)\n",
    "sal = cv2.resize(sal[58:427, 143:513], dim )"
   ]
  },
  {
   "cell_type": "code",
   "execution_count": 60,
   "id": "productive-traffic",
   "metadata": {
    "execution": {
     "iopub.execute_input": "2021-05-04T15:20:45.406812Z",
     "iopub.status.busy": "2021-05-04T15:20:45.406660Z",
     "iopub.status.idle": "2021-05-04T15:20:45.412516Z",
     "shell.execute_reply": "2021-05-04T15:20:45.412008Z",
     "shell.execute_reply.started": "2021-05-04T15:20:45.406796Z"
    },
    "tags": []
   },
   "outputs": [
    {
     "data": {
      "text/plain": [
       "True"
      ]
     },
     "execution_count": 60,
     "metadata": {},
     "output_type": "execute_result"
    }
   ],
   "source": [
    "cv2.imwrite(\"test.png\", sal )"
   ]
  },
  {
   "cell_type": "code",
   "execution_count": 7,
   "id": "major-disorder",
   "metadata": {
    "execution": {
     "iopub.execute_input": "2021-06-08T18:18:53.964799Z",
     "iopub.status.busy": "2021-06-08T18:18:53.964165Z",
     "iopub.status.idle": "2021-06-08T18:18:54.083393Z",
     "shell.execute_reply": "2021-06-08T18:18:54.082959Z",
     "shell.execute_reply.started": "2021-06-08T18:18:53.964726Z"
    },
    "tags": []
   },
   "outputs": [],
   "source": [
    "IMGS_PATH = Path(\"/mnt/Media/bernardo/Documents/PhD/Courses/DSL/paper_images/attr_maps_ok\")\n",
    "for folder in IMGS_PATH.iterdir():\n",
    "    if folder.is_dir():\n",
    "        for img_path in folder.iterdir():\n",
    "            img = cv2.imread(str(img_path))\n",
    "            if not img.shape == (224,224,3):\n",
    "                img_res = cv2.resize(img[58:427, 143:513], (224,224))\n",
    "                cv2.imwrite(str(folder / f\"{img_path.stem}_resized.png\"), img_res)"
   ]
  },
  {
   "cell_type": "code",
   "execution_count": null,
   "id": "driving-polls",
   "metadata": {},
   "outputs": [],
   "source": []
  }
 ],
 "metadata": {
  "kernelspec": {
   "display_name": "Python 3",
   "language": "python",
   "name": "python3"
  },
  "language_info": {
   "codemirror_mode": {
    "name": "ipython",
    "version": 3
   },
   "file_extension": ".py",
   "mimetype": "text/x-python",
   "name": "python",
   "nbconvert_exporter": "python",
   "pygments_lexer": "ipython3",
   "version": "3.8.5"
  }
 },
 "nbformat": 4,
 "nbformat_minor": 5
}
