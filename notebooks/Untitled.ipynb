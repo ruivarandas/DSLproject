{
 "cells": [
  {
   "cell_type": "code",
   "execution_count": 13,
   "id": "experimental-player",
   "metadata": {
    "execution": {
     "iopub.execute_input": "2021-03-04T10:13:26.140398Z",
     "iopub.status.busy": "2021-03-04T10:13:26.139641Z",
     "iopub.status.idle": "2021-03-04T10:13:26.149873Z",
     "shell.execute_reply": "2021-03-04T10:13:26.148458Z",
     "shell.execute_reply.started": "2021-03-04T10:13:26.140319Z"
    },
    "tags": []
   },
   "outputs": [],
   "source": [
    "import torch\n",
    "import numpy as np\n",
    "from torchray.attribution.grad_cam import gradient_to_grad_cam_saliency\n",
    "from torchray.attribution.guided_backprop import GuidedBackpropReLU\n",
    "from torchray.attribution.common import Probe, get_module\n",
    "import cv2\n",
    "import matplotlib.pyplot as plt\n",
    "from torchvision import transforms\n",
    "from pathlib import Path"
   ]
  },
  {
   "cell_type": "code",
   "execution_count": 27,
   "id": "visible-serum",
   "metadata": {
    "execution": {
     "iopub.execute_input": "2021-03-04T10:22:35.851105Z",
     "iopub.status.busy": "2021-03-04T10:22:35.850904Z",
     "iopub.status.idle": "2021-03-04T10:22:35.857310Z",
     "shell.execute_reply": "2021-03-04T10:22:35.856800Z",
     "shell.execute_reply.started": "2021-03-04T10:22:35.851083Z"
    },
    "tags": []
   },
   "outputs": [],
   "source": [
    "class GuidedBackpropReLUModel:\n",
    "    def __init__(self, model):\n",
    "        self.model = model\n",
    "#         self.model.eval()\n",
    "\n",
    "        def recursive_relu_apply(module_top):\n",
    "            for idx, module in module_top._modules.items():\n",
    "                recursive_relu_apply(module)\n",
    "                if module.__class__.__name__ == 'ReLU':\n",
    "                    module_top._modules[idx] = GuidedBackpropReLU.apply\n",
    "\n",
    "        # replace ReLU with GuidedBackpropReLU\n",
    "        recursive_relu_apply(self.model)\n",
    "\n",
    "    def forward(self, input_img):\n",
    "        return self.model(input_img)\n",
    "\n",
    "    def __call__(self, input_img, target_category=None):\n",
    "\n",
    "        input_img = input_img.requires_grad_(True)\n",
    "\n",
    "        output = self.forward(input_img)\n",
    "\n",
    "        if target_category == None:\n",
    "            target_category = np.argmax(output.cpu().data.numpy())\n",
    "\n",
    "        one_hot = np.zeros((1, output.size()[-1]), dtype=np.float32)\n",
    "        one_hot[0][target_category] = 1\n",
    "        one_hot = torch.from_numpy(one_hot).requires_grad_(True)\n",
    "\n",
    "        one_hot = torch.sum(one_hot * output)\n",
    "        one_hot.backward(retain_graph=True)\n",
    "        output = input_img.grad.cpu().data.numpy()\n",
    "        output = output[0, :, :, :]\n",
    "\n",
    "        return output"
   ]
  },
  {
   "cell_type": "code",
   "execution_count": 28,
   "id": "tired-sierra",
   "metadata": {
    "execution": {
     "iopub.execute_input": "2021-03-04T10:22:36.134665Z",
     "iopub.status.busy": "2021-03-04T10:22:36.134019Z",
     "iopub.status.idle": "2021-03-04T10:22:36.210962Z",
     "shell.execute_reply": "2021-03-04T10:22:36.210495Z",
     "shell.execute_reply.started": "2021-03-04T10:22:36.134591Z"
    },
    "tags": []
   },
   "outputs": [],
   "source": [
    "model = torch.load(\"../models/label_final/resnet50_d_22_t_12_17.pth\", map_location=torch.device(0))\n",
    "model.eval();"
   ]
  },
  {
   "cell_type": "code",
   "execution_count": 29,
   "id": "perceived-danger",
   "metadata": {
    "execution": {
     "iopub.execute_input": "2021-03-04T10:22:36.496419Z",
     "iopub.status.busy": "2021-03-04T10:22:36.495748Z",
     "iopub.status.idle": "2021-03-04T10:22:36.504140Z",
     "shell.execute_reply": "2021-03-04T10:22:36.502593Z",
     "shell.execute_reply.started": "2021-03-04T10:22:36.496344Z"
    },
    "tags": []
   },
   "outputs": [],
   "source": [
    "a = GuidedBackpropReLUModel(model=model)"
   ]
  },
  {
   "cell_type": "code",
   "execution_count": null,
   "id": "sufficient-confidentiality",
   "metadata": {},
   "outputs": [],
   "source": []
  }
 ],
 "metadata": {
  "kernelspec": {
   "display_name": "Python 3",
   "language": "python",
   "name": "python3"
  },
  "language_info": {
   "codemirror_mode": {
    "name": "ipython",
    "version": 3
   },
   "file_extension": ".py",
   "mimetype": "text/x-python",
   "name": "python",
   "nbconvert_exporter": "python",
   "pygments_lexer": "ipython3",
   "version": "3.8.5"
  }
 },
 "nbformat": 4,
 "nbformat_minor": 5
}
