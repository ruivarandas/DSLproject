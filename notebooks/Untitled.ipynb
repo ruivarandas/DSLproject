{
 "cells": [
  {
   "cell_type": "code",
   "execution_count": 22,
   "metadata": {},
   "outputs": [],
   "source": [
    "import shutil\n",
    "from pathlib import Path"
   ]
  },
  {
   "cell_type": "code",
   "execution_count": 23,
   "metadata": {},
   "outputs": [],
   "source": [
    "raw_figures_path = Path.cwd().parent / \"data/raw_figures\"\n",
    "dst_path_train = Path.cwd().parent / \"data/dataset_division/train\"\n",
    "dst_path_test = Path.cwd().parent / \"data/dataset_division/test\""
   ]
  },
  {
   "cell_type": "code",
   "execution_count": 24,
   "metadata": {},
   "outputs": [],
   "source": [
    "test_patients = [100, 103, 105, 111, 113, 117, 121, 123, 200, 202, 210, 212, 213, 214, 219, 221, 222, 228, 231, 232, 233, 234]\n",
    "train_patients = [101, 106, 108, 109, 112, 114, 115, 116, 118, 119, 122, 124, 201, 203, 205, 207, 208, 209, 215, 220, 223, 230]"
   ]
  },
  {
   "cell_type": "code",
   "execution_count": 28,
   "metadata": {},
   "outputs": [
    {
     "name": "stdout",
     "output_type": "stream",
     "text": [
      "105\n",
      "221\n",
      "201\n",
      "100\n",
      "117\n",
      ".ipynb_checkpoints\n",
      "103\n",
      "231\n",
      "202\n",
      "108\n",
      "113\n",
      "121\n",
      "123\n",
      "213\n",
      "210\n",
      "203\n",
      "233\n",
      "215\n",
      "232\n",
      "116\n",
      "106\n",
      "101\n",
      "209\n",
      "104\n",
      "208\n",
      "115\n",
      "212\n",
      "223\n",
      "118\n",
      "114\n",
      "228\n",
      "111\n",
      "122\n",
      "220\n",
      "124\n",
      "222\n",
      "217\n",
      "109\n",
      "230\n",
      "219\n",
      "214\n",
      "205\n",
      "102\n",
      "119\n",
      "200\n",
      "234\n",
      "112\n"
     ]
    }
   ],
   "source": [
    "for filename in raw_figures_path.iterdir():\n",
    "    print(filename.stem)\n",
    "    try:\n",
    "        if int(filename.stem) in test_patients:\n",
    "            shutil.copytree(filename, dst_path_test / filename.stem)\n",
    "        elif int(filename.stem) in train_patients:\n",
    "            shutil.copytree(filename, dst_path_train / filename.stem)\n",
    "    except ValueError as e:\n",
    "        pass"
   ]
  },
  {
   "cell_type": "code",
   "execution_count": null,
   "metadata": {},
   "outputs": [],
   "source": []
  },
  {
   "cell_type": "code",
   "execution_count": null,
   "metadata": {},
   "outputs": [],
   "source": []
  }
 ],
 "metadata": {
  "kernelspec": {
   "display_name": "Python 3",
   "language": "python",
   "name": "python3"
  },
  "language_info": {
   "codemirror_mode": {
    "name": "ipython",
    "version": 3
   },
   "file_extension": ".py",
   "mimetype": "text/x-python",
   "name": "python",
   "nbconvert_exporter": "python",
   "pygments_lexer": "ipython3",
   "version": "3.7.6"
  }
 },
 "nbformat": 4,
 "nbformat_minor": 4
}
