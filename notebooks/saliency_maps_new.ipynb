{
 "cells": [
  {
   "cell_type": "markdown",
   "id": "enormous-generic",
   "metadata": {},
   "source": [
    "# Creating and extracting information from saliency maps\n",
    "* organizing code\n",
    "* removing multiclass case\n",
    "* extract quantitative information from the maps"
   ]
  },
  {
   "cell_type": "code",
   "execution_count": 1,
   "id": "adapted-bargain",
   "metadata": {
    "execution": {
     "iopub.execute_input": "2021-02-28T09:43:00.816094Z",
     "iopub.status.busy": "2021-02-28T09:43:00.815773Z",
     "iopub.status.idle": "2021-02-28T09:43:01.324169Z",
     "shell.execute_reply": "2021-02-28T09:43:01.323699Z",
     "shell.execute_reply.started": "2021-02-28T09:43:00.816011Z"
    },
    "tags": []
   },
   "outputs": [],
   "source": [
    "from prep_test_data import *\n",
    "from pathlib import Path\n",
    "import json\n",
    "import torch\n",
    "from matplotlib import pyplot as plt\n",
    "import shutil\n",
    "import numpy as np\n",
    "import cv2\n",
    "import csv"
   ]
  },
  {
   "cell_type": "markdown",
   "id": "modular-notebook",
   "metadata": {},
   "source": [
    "-------------------------------------------------------"
   ]
  },
  {
   "cell_type": "markdown",
   "id": "closing-desert",
   "metadata": {},
   "source": [
    "## Main methods above"
   ]
  },
  {
   "cell_type": "code",
   "execution_count": 3,
   "id": "resistant-stock",
   "metadata": {
    "execution": {
     "iopub.execute_input": "2021-02-24T10:18:05.950382Z",
     "iopub.status.busy": "2021-02-24T10:18:05.950219Z",
     "iopub.status.idle": "2021-02-24T10:18:05.953629Z",
     "shell.execute_reply": "2021-02-24T10:18:05.953069Z",
     "shell.execute_reply.started": "2021-02-24T10:18:05.950358Z"
    },
    "tags": []
   },
   "outputs": [],
   "source": [
    "def create_maps_folders(main_folder, beat, labels, delete_prior):\n",
    "    if delete_prior and Path(main_folder).exists():\n",
    "        shutil.rmtree(main_folder)\n",
    "    for label in labels:\n",
    "        folder = Path(main_folder) / f\"label_{beat}_beat/\"\n",
    "        Path(folder / label).mkdir(parents=True, exist_ok=True)\n",
    "    return folder"
   ]
  },
  {
   "cell_type": "code",
   "execution_count": 4,
   "id": "figured-police",
   "metadata": {
    "execution": {
     "iopub.execute_input": "2021-02-24T10:18:05.954515Z",
     "iopub.status.busy": "2021-02-24T10:18:05.954381Z",
     "iopub.status.idle": "2021-02-24T10:18:05.975551Z",
     "shell.execute_reply": "2021-02-24T10:18:05.974100Z",
     "shell.execute_reply.started": "2021-02-24T10:18:05.954499Z"
    },
    "tags": []
   },
   "outputs": [],
   "source": [
    "def deprocess(image):\n",
    "    transform = transforms.Compose([\n",
    "        transforms.Normalize(mean=[0, 0, 0], std=[4.3668, 4.4643, 4.4444]),\n",
    "        transforms.Normalize(mean=[-0.485, -0.456, -0.406], std=[1, 1, 1]),\n",
    "        transforms.ToPILImage(),\n",
    "    ])\n",
    "    return transform(image)\n",
    "\n",
    "def show_img(PIL_IMG):\n",
    "    plt.imshow(np.asarray(PIL_IMG))"
   ]
  },
  {
   "cell_type": "code",
   "execution_count": 4,
   "id": "divided-quarterly",
   "metadata": {
    "execution": {
     "iopub.execute_input": "2021-02-28T09:18:33.297398Z",
     "iopub.status.busy": "2021-02-28T09:18:33.297209Z",
     "iopub.status.idle": "2021-02-28T09:18:33.303299Z",
     "shell.execute_reply": "2021-02-28T09:18:33.302770Z",
     "shell.execute_reply.started": "2021-02-28T09:18:33.297381Z"
    },
    "tags": []
   },
   "outputs": [],
   "source": [
    "def saliency_maps(model, data, main_folder, n_batches=None):\n",
    "    classes = data[\"test\"].dataset.classes\n",
    "    for i, (inputs, labels) in enumerate(data['test']):\n",
    "        inputs = inputs.to(0)\n",
    "        labels = labels.to(0)\n",
    "        x = inputs\n",
    "        x.requires_grad_();\n",
    "        scores = model(x)\n",
    "        score_max_index = scores.argmax(dim=1)\n",
    "\n",
    "        score_max = scores[:, score_max_index]\n",
    "        score_max.backward(torch.ones_like(score_max))\n",
    "        saliency, _ = torch.max(x.grad.data.abs(),dim=1)\n",
    "        for index in range(len(saliency)):\n",
    "            sal = saliency[index].cpu().numpy()\n",
    "            \n",
    "            label = classes[labels[index]]\n",
    "            true = labels[index]\n",
    "            pred = score_max_index[index]\n",
    "            pred_res = \"OK\"\n",
    "            if pred != true:\n",
    "                pred_res = \"wrong\"\n",
    "            \n",
    "            plt.figure()\n",
    "            img1 = plt.imshow(sal, cmap=plt.cm.hot, alpha=.7);\n",
    "            img2 = plt.imshow(deprocess(x[index].cpu()), alpha=.4);\n",
    "            plt.axis('off')\n",
    "            \n",
    "            input_filename = Path(data['test'].dataset.samples[i*len(saliency)+index][0]).stem                \n",
    "            plt.savefig(str(main_folder / f\"{label}/{input_filename}_{pred_res}.png\"))\n",
    "            plt.close();\n",
    "                \n",
    "        if n_batches:\n",
    "            if i + 1 == n_batches:\n",
    "                break\n",
    "        \n",
    "    return saliency, x"
   ]
  },
  {
   "cell_type": "code",
   "execution_count": 5,
   "id": "consecutive-chosen",
   "metadata": {
    "execution": {
     "iopub.execute_input": "2021-02-28T09:18:36.715592Z",
     "iopub.status.busy": "2021-02-28T09:18:36.715409Z",
     "iopub.status.idle": "2021-02-28T09:18:36.718626Z",
     "shell.execute_reply": "2021-02-28T09:18:36.718079Z",
     "shell.execute_reply.started": "2021-02-28T09:18:36.715577Z"
    },
    "tags": []
   },
   "outputs": [],
   "source": [
    "def create_saliency_maps_one_heartbeat(data_path, models_main_path, model_name, beat, saliency_maps_path, nr_egs):\n",
    "    data_prep = DataPreparation(str(data_path))\n",
    "    data, size = data_prep.create_dataloaders(16, False, 4)\n",
    "    model_path = models_main_path / f\"label_{beat}/{model_name}.pth\"\n",
    "    model = torch.load(model_path)\n",
    "    model.eval();\n",
    "    return saliency_maps(model, data, saliency_maps_path, nr_egs)"
   ]
  },
  {
   "cell_type": "markdown",
   "id": "characteristic-arrest",
   "metadata": {},
   "source": [
    "----------------------------------------------------------------"
   ]
  },
  {
   "cell_type": "markdown",
   "id": "animal-clark",
   "metadata": {},
   "source": [
    "## Configuration and run methods!"
   ]
  },
  {
   "cell_type": "code",
   "execution_count": 216,
   "id": "cross-spank",
   "metadata": {
    "execution": {
     "iopub.execute_input": "2021-02-24T11:59:48.192018Z",
     "iopub.status.busy": "2021-02-24T11:59:48.191563Z",
     "iopub.status.idle": "2021-02-24T11:59:48.197703Z",
     "shell.execute_reply": "2021-02-24T11:59:48.196747Z",
     "shell.execute_reply.started": "2021-02-24T11:59:48.191965Z"
    },
    "tags": []
   },
   "outputs": [],
   "source": [
    "with open(\"../config.json\") as f:\n",
    "    config_data = json.load(f)\n",
    "    f.close()"
   ]
  },
  {
   "cell_type": "code",
   "execution_count": 217,
   "id": "willing-intent",
   "metadata": {
    "execution": {
     "iopub.execute_input": "2021-02-24T11:59:48.637226Z",
     "iopub.status.busy": "2021-02-24T11:59:48.636894Z",
     "iopub.status.idle": "2021-02-24T11:59:48.642463Z",
     "shell.execute_reply": "2021-02-24T11:59:48.641519Z",
     "shell.execute_reply.started": "2021-02-24T11:59:48.637190Z"
    },
    "tags": []
   },
   "outputs": [],
   "source": [
    "HEARTBEAT = \"final\"\n",
    "MODELS_PATH = Path(f\"../models/\")\n",
    "MODEL_NAME = \"resnet50_d_22_t_12_17\"\n",
    "MAP_DIR = \"../attribution_maps/saliency_maps\"\n",
    "DELETE_PRIOR_DIR = True\n",
    "TEST_DATA_PATH = Path(f'/mnt/Media/bernardo/DSL_test_data')\n",
    "NR_BATCHES = 2"
   ]
  },
  {
   "cell_type": "code",
   "execution_count": 224,
   "id": "noble-honey",
   "metadata": {
    "execution": {
     "iopub.execute_input": "2021-02-24T12:01:20.017271Z",
     "iopub.status.busy": "2021-02-24T12:01:20.017001Z",
     "iopub.status.idle": "2021-02-24T12:01:21.301719Z",
     "shell.execute_reply": "2021-02-24T12:01:21.301208Z",
     "shell.execute_reply.started": "2021-02-24T12:01:20.017241Z"
    },
    "tags": []
   },
   "outputs": [
    {
     "name": "stdout",
     "output_type": "stream",
     "text": [
      "tensor([0, 0, 1, 1, 0, 0, 1, 0, 0, 0, 1, 0, 0, 1, 0, 1], device='cuda:0')\n",
      "tensor([0, 0, 0, 0, 0, 0, 0, 0, 0, 0, 0, 0, 0, 0, 0, 0], device='cuda:0')\n",
      "entrei\n"
     ]
    },
    {
     "data": {
      "image/png": "[encoded data removed]",
      "text/plain": [
       "<Figure size 432x288 with 1 Axes>"
      ]
     },
     "metadata": {
      "needs_background": "light"
     },
     "output_type": "display_data"
    }
   ],
   "source": [
    "saliency_folder = create_maps_folders(MAP_DIR, HEARTBEAT, config_data['labels_bin'], DELETE_PRIOR_DIR)\n",
    "saliency, imgs = create_saliency_maps_one_heartbeat(TEST_DATA_PATH, MODELS_PATH, MODEL_NAME, HEARTBEAT, saliency_folder, NR_BATCHES)"
   ]
  },
  {
   "cell_type": "code",
   "execution_count": 222,
   "id": "trying-burner",
   "metadata": {
    "execution": {
     "iopub.execute_input": "2021-02-24T12:00:37.216575Z",
     "iopub.status.busy": "2021-02-24T12:00:37.216296Z",
     "iopub.status.idle": "2021-02-24T12:00:37.221534Z",
     "shell.execute_reply": "2021-02-24T12:00:37.220693Z",
     "shell.execute_reply.started": "2021-02-24T12:00:37.216544Z"
    },
    "tags": []
   },
   "outputs": [
    {
     "data": {
      "text/plain": [
       "torch.Size([16, 224, 224])"
      ]
     },
     "execution_count": 222,
     "metadata": {},
     "output_type": "execute_result"
    }
   ],
   "source": [
    "saliency.shape"
   ]
  },
  {
   "cell_type": "code",
   "execution_count": 41,
   "id": "cheap-ambassador",
   "metadata": {
    "execution": {
     "iopub.execute_input": "2021-02-27T14:19:15.596684Z",
     "iopub.status.busy": "2021-02-27T14:19:15.596494Z",
     "iopub.status.idle": "2021-02-27T14:19:15.770218Z",
     "shell.execute_reply": "2021-02-27T14:19:15.769865Z",
     "shell.execute_reply.started": "2021-02-27T14:19:15.596664Z"
    },
    "tags": []
   },
   "outputs": [],
   "source": [
    "data_prep = DataPreparation(str(TEST_DATA_PATH))\n",
    "data, size = data_prep.create_dataloaders(16, False, 4)"
   ]
  },
  {
   "cell_type": "code",
   "execution_count": 49,
   "id": "virtual-albert",
   "metadata": {
    "execution": {
     "iopub.execute_input": "2021-02-27T14:21:27.740078Z",
     "iopub.status.busy": "2021-02-27T14:21:27.739817Z",
     "iopub.status.idle": "2021-02-27T14:21:27.910675Z",
     "shell.execute_reply": "2021-02-27T14:21:27.910175Z",
     "shell.execute_reply.started": "2021-02-27T14:21:27.740049Z"
    },
    "tags": []
   },
   "outputs": [],
   "source": [
    "ab = [str(f) for f in (TEST_DATA_PATH / \"abnormal\").glob(\"*.png\")]\n",
    "n = [str(f) for f in (TEST_DATA_PATH / \"normal\").glob(\"*.png\")]"
   ]
  },
  {
   "cell_type": "code",
   "execution_count": 50,
   "id": "accessible-astronomy",
   "metadata": {
    "execution": {
     "iopub.execute_input": "2021-02-27T14:21:29.013057Z",
     "iopub.status.busy": "2021-02-27T14:21:29.012612Z",
     "iopub.status.idle": "2021-02-27T14:21:29.035594Z",
     "shell.execute_reply": "2021-02-27T14:21:29.034985Z",
     "shell.execute_reply.started": "2021-02-27T14:21:29.013005Z"
    },
    "tags": []
   },
   "outputs": [],
   "source": [
    "d = np.concatenate((ab, n))"
   ]
  },
  {
   "cell_type": "code",
   "execution_count": 51,
   "id": "wanted-harbor",
   "metadata": {
    "execution": {
     "iopub.execute_input": "2021-02-27T14:21:29.749973Z",
     "iopub.status.busy": "2021-02-27T14:21:29.749821Z",
     "iopub.status.idle": "2021-02-27T14:21:29.753440Z",
     "shell.execute_reply": "2021-02-27T14:21:29.752804Z",
     "shell.execute_reply.started": "2021-02-27T14:21:29.749957Z"
    },
    "tags": []
   },
   "outputs": [
    {
     "data": {
      "text/plain": [
       "49617"
      ]
     },
     "execution_count": 51,
     "metadata": {},
     "output_type": "execute_result"
    }
   ],
   "source": [
    "len(d)"
   ]
  },
  {
   "cell_type": "code",
   "execution_count": 52,
   "id": "latest-diary",
   "metadata": {
    "execution": {
     "iopub.execute_input": "2021-02-27T14:21:32.176359Z",
     "iopub.status.busy": "2021-02-27T14:21:32.176185Z",
     "iopub.status.idle": "2021-02-27T14:21:32.179733Z",
     "shell.execute_reply": "2021-02-27T14:21:32.179191Z",
     "shell.execute_reply.started": "2021-02-27T14:21:32.176341Z"
    },
    "tags": []
   },
   "outputs": [
    {
     "data": {
      "text/plain": [
       "49617"
      ]
     },
     "execution_count": 52,
     "metadata": {},
     "output_type": "execute_result"
    }
   ],
   "source": [
    "len(data[\"test\"].dataset.samples)"
   ]
  },
  {
   "cell_type": "code",
   "execution_count": 60,
   "id": "entire-anderson",
   "metadata": {
    "execution": {
     "iopub.execute_input": "2021-02-27T14:27:38.405498Z",
     "iopub.status.busy": "2021-02-27T14:27:38.405320Z",
     "iopub.status.idle": "2021-02-27T14:27:40.297701Z",
     "shell.execute_reply": "2021-02-27T14:27:40.297160Z",
     "shell.execute_reply.started": "2021-02-27T14:27:38.405475Z"
    },
    "tags": []
   },
   "outputs": [],
   "source": [
    "for i, filename in enumerate(data['test'].dataset.samples):\n",
    "    if not Path(filename[0]).is_file():\n",
    "        print(filename)\n",
    "    "
   ]
  },
  {
   "cell_type": "markdown",
   "id": "secret-medium",
   "metadata": {},
   "source": [
    "## Digging into saliency maps and data"
   ]
  },
  {
   "cell_type": "markdown",
   "id": "electric-watch",
   "metadata": {},
   "source": [
    "## It's important to differentiate the cases where the model gives the correct prediction from those where the prediction is wrong"
   ]
  },
  {
   "cell_type": "code",
   "execution_count": 40,
   "id": "arranged-switzerland",
   "metadata": {
    "execution": {
     "iopub.execute_input": "2021-02-23T09:57:28.471823Z",
     "iopub.status.busy": "2021-02-23T09:57:28.471427Z",
     "iopub.status.idle": "2021-02-23T09:57:28.477786Z",
     "shell.execute_reply": "2021-02-23T09:57:28.476572Z",
     "shell.execute_reply.started": "2021-02-23T09:57:28.471780Z"
    },
    "tags": []
   },
   "outputs": [],
   "source": [
    "i = 15\n",
    "sal = saliency[i].cpu().numpy() # saliency for one sample\n",
    "img = imgs[i]"
   ]
  },
  {
   "cell_type": "code",
   "execution_count": 5,
   "id": "subtle-saturday",
   "metadata": {
    "execution": {
     "iopub.execute_input": "2021-02-27T11:43:59.838587Z",
     "iopub.status.busy": "2021-02-27T11:43:59.838432Z",
     "iopub.status.idle": "2021-02-27T11:43:59.843390Z",
     "shell.execute_reply": "2021-02-27T11:43:59.843005Z",
     "shell.execute_reply.started": "2021-02-27T11:43:59.838570Z"
    },
    "tags": []
   },
   "outputs": [
    {
     "data": {
      "text/plain": [
       "PosixPath('/mnt/Media/bernardo/Documents/PhD/Courses/Deep Structured Learning/code/DSLproject/ROI/5_ROI.txt')"
      ]
     },
     "execution_count": 5,
     "metadata": {},
     "output_type": "execute_result"
    }
   ],
   "source": [
    "TEST_DATA_PATH = Path(f'/mnt/Media/bernardo/DSL_test_data')\n",
    "roi_file_path = list((Path.cwd().parent / \"ROI\").glob(\"*.txt\"))[2] # --> label final\n",
    "roi_file_path"
   ]
  },
  {
   "cell_type": "code",
   "execution_count": 33,
   "id": "catholic-basket",
   "metadata": {
    "execution": {
     "iopub.execute_input": "2021-02-24T11:00:20.364977Z",
     "iopub.status.busy": "2021-02-24T11:00:20.364744Z",
     "iopub.status.idle": "2021-02-24T11:00:22.842272Z",
     "shell.execute_reply": "2021-02-24T11:00:22.841666Z",
     "shell.execute_reply.started": "2021-02-24T11:00:20.364952Z"
    },
    "tags": []
   },
   "outputs": [
    {
     "name": "stdout",
     "output_type": "stream",
     "text": [
      "top_left: (1948, 137)\n",
      "bottom_right: (2202, 299)\n"
     ]
    }
   ],
   "source": [
    "patient = \"232\"\n",
    "file = \"0_0\"\n",
    "with open(roi_file_path) as rois:\n",
    "    rois_reader = csv.reader(rois, delimiter='\\t')\n",
    "    for i, roi in enumerate(rois_reader):\n",
    "        if roi[0] == patient and roi[1] == file:\n",
    "            img_path = TEST_DATA_PATH / roi[6] / f\"{roi[1]}_{roi[0]}.png\"\n",
    "            left_top, right_bottom, img, img_rect = roi_rectangle(img_path, roi)"
   ]
  },
  {
   "cell_type": "markdown",
   "id": "described-quantity",
   "metadata": {},
   "source": [
    "-----------------------------------------------------"
   ]
  },
  {
   "cell_type": "markdown",
   "id": "compatible-harrison",
   "metadata": {},
   "source": [
    "## Transforming roi points, only necessary to saliency maps"
   ]
  },
  {
   "cell_type": "code",
   "execution_count": 43,
   "id": "proprietary-capability",
   "metadata": {
    "execution": {
     "iopub.execute_input": "2021-02-28T10:00:53.738241Z",
     "iopub.status.busy": "2021-02-28T10:00:53.738076Z",
     "iopub.status.idle": "2021-02-28T10:00:53.741983Z",
     "shell.execute_reply": "2021-02-28T10:00:53.741487Z",
     "shell.execute_reply.started": "2021-02-28T10:00:53.738223Z"
    },
    "tags": []
   },
   "outputs": [],
   "source": [
    "def transforming_roi_points(left_top, right_bottom):\n",
    "    \"\"\"\n",
    "    parameters: rois extreme points\n",
    "    \"\"\"\n",
    "    crop_x, crop_y = 750, 125 # each side\n",
    "    y_ratio, x_ratio = 224/200, 224/1500\n",
    "    top_left_cropped_resized = (int((left_top[0]-crop_x)*x_ratio), int((left_top[1]-crop_y)*y_ratio))\n",
    "    delta_x_resized = (right_bottom[0] - left_top[0]) * x_ratio\n",
    "    delta_y_resized = (right_bottom[1] - left_top[1]) * y_ratio\n",
    "    right_cropped_resized = (int(top_left_cropped_resized[0]+delta_x_resized), int(top_left_cropped_resized[1]+delta_y_resized))\n",
    "    return top_left_cropped_resized, right_cropped_resized"
   ]
  },
  {
   "cell_type": "markdown",
   "id": "heated-disability",
   "metadata": {},
   "source": [
    "## First metric:"
   ]
  },
  {
   "cell_type": "code",
   "execution_count": 44,
   "id": "southern-lounge",
   "metadata": {
    "execution": {
     "iopub.execute_input": "2021-02-28T10:00:54.113039Z",
     "iopub.status.busy": "2021-02-28T10:00:54.112802Z",
     "iopub.status.idle": "2021-02-28T10:00:54.117135Z",
     "shell.execute_reply": "2021-02-28T10:00:54.116344Z",
     "shell.execute_reply.started": "2021-02-28T10:00:54.113013Z"
    },
    "tags": []
   },
   "outputs": [],
   "source": [
    "def metric1(attr_map, top_left, right_bottom):\n",
    "    roi_sum = np.sum(attr_map[top_left[1]:right_bottom[1], top_left[0]:right_bottom[0]])\n",
    "    map_sum = np.sum(attr_map)\n",
    "    return roi_sum/map_sum"
   ]
  },
  {
   "cell_type": "markdown",
   "id": "indoor-hopkins",
   "metadata": {},
   "source": [
    "--------------------------------------------------------------"
   ]
  },
  {
   "cell_type": "markdown",
   "id": "banned-joshua",
   "metadata": {},
   "source": [
    "## Applying this metric to all test samples"
   ]
  },
  {
   "cell_type": "code",
   "execution_count": 45,
   "id": "covered-technique",
   "metadata": {
    "execution": {
     "iopub.execute_input": "2021-02-28T10:00:54.743226Z",
     "iopub.status.busy": "2021-02-28T10:00:54.742592Z",
     "iopub.status.idle": "2021-02-28T10:00:54.749816Z",
     "shell.execute_reply": "2021-02-28T10:00:54.749222Z",
     "shell.execute_reply.started": "2021-02-28T10:00:54.743152Z"
    },
    "tags": []
   },
   "outputs": [],
   "source": [
    "def read_rois_file_as_dict(rois_filename, test_data_path):\n",
    "    dict_per_row = {}\n",
    "    with open(rois_filename, newline='') as csvfile:\n",
    "        reader = csv.DictReader(csvfile,delimiter='\\t')\n",
    "        for i,row in enumerate(reader):\n",
    "            path = str(test_data_path / row['label'] / f\"{row['File']}_{row['Patient']}\")\n",
    "            dict_per_row[path] = row\n",
    "            \n",
    "    return dict_per_row"
   ]
  },
  {
   "cell_type": "code",
   "execution_count": 46,
   "id": "radio-hawaii",
   "metadata": {
    "execution": {
     "iopub.execute_input": "2021-02-28T10:00:54.929004Z",
     "iopub.status.busy": "2021-02-28T10:00:54.928753Z",
     "iopub.status.idle": "2021-02-28T10:00:54.933448Z",
     "shell.execute_reply": "2021-02-28T10:00:54.932745Z",
     "shell.execute_reply.started": "2021-02-28T10:00:54.928969Z"
    },
    "tags": []
   },
   "outputs": [],
   "source": [
    "def batch_saliency(model, inputs, labels):\n",
    "    inputs = inputs.to(0)\n",
    "    labels = labels.to(0)\n",
    "    x = inputs\n",
    "    x.requires_grad_();\n",
    "    scores = model(x)\n",
    "    score_max_index = scores.argmax(dim=1)\n",
    "    score_max = scores[:, score_max_index]\n",
    "    score_max.backward(torch.ones_like(score_max))\n",
    "    saliency, _ = torch.max(x.grad.data.abs(),dim=1)\n",
    "    return saliency, score_max_index"
   ]
  },
  {
   "cell_type": "code",
   "execution_count": 47,
   "id": "thousand-shark",
   "metadata": {
    "execution": {
     "iopub.execute_input": "2021-02-28T10:00:55.251115Z",
     "iopub.status.busy": "2021-02-28T10:00:55.250661Z",
     "iopub.status.idle": "2021-02-28T10:00:55.256680Z",
     "shell.execute_reply": "2021-02-28T10:00:55.256130Z",
     "shell.execute_reply.started": "2021-02-28T10:00:55.251062Z"
    },
    "tags": []
   },
   "outputs": [],
   "source": [
    "def create_saliency_metrics_one_heartbeat(data_path, models_main_path, model_name, beat, batches, rois):\n",
    "    data_prep = DataPreparation(str(data_path))\n",
    "    data, size = data_prep.create_dataloaders(batches, False, 4)\n",
    "    model_path = models_main_path / f\"label_{beat}/{model_name}.pth\"\n",
    "    model = torch.load(model_path, map_location=torch.device(0))\n",
    "    model.eval();\n",
    "    return saliency_metrics(model, data, batches, rois)"
   ]
  },
  {
   "cell_type": "code",
   "execution_count": 48,
   "id": "stable-enhancement",
   "metadata": {
    "execution": {
     "iopub.execute_input": "2021-02-28T10:00:56.253220Z",
     "iopub.status.busy": "2021-02-28T10:00:56.252596Z",
     "iopub.status.idle": "2021-02-28T10:00:56.258974Z",
     "shell.execute_reply": "2021-02-28T10:00:56.258300Z",
     "shell.execute_reply.started": "2021-02-28T10:00:56.253148Z"
    },
    "tags": []
   },
   "outputs": [],
   "source": [
    "def get_roi_points(roi):\n",
    "    return (int(roi['left']), int(roi[\"top\"])), (int(roi[\"right\"]), int(roi[\"bottom\"]))"
   ]
  },
  {
   "cell_type": "code",
   "execution_count": 49,
   "id": "orange-enough",
   "metadata": {
    "execution": {
     "iopub.execute_input": "2021-02-28T10:00:56.471462Z",
     "iopub.status.busy": "2021-02-28T10:00:56.470838Z",
     "iopub.status.idle": "2021-02-28T10:00:56.476938Z",
     "shell.execute_reply": "2021-02-28T10:00:56.476486Z",
     "shell.execute_reply.started": "2021-02-28T10:00:56.471389Z"
    },
    "tags": []
   },
   "outputs": [],
   "source": [
    "def get_roi(sample_path, rois_dict):\n",
    "    stem_split = sample_path.stem.split(\"_\")\n",
    "    roi = None\n",
    "    if f\"{stem_split[0]}_{stem_split[1]}\" != \"0_0\":\n",
    "        try: \n",
    "            roi = rois_dict[str(sample_path.parents[1] / \"normal\" /  sample_path.stem)]\n",
    "        except KeyError:\n",
    "            roi = rois_dict[str(sample_path.parents[1] / \"abnormal\" /  sample_path.stem)]\n",
    "    return roi"
   ]
  },
  {
   "cell_type": "code",
   "execution_count": 70,
   "id": "severe-party",
   "metadata": {
    "execution": {
     "iopub.execute_input": "2021-02-28T10:55:08.999672Z",
     "iopub.status.busy": "2021-02-28T10:55:08.999443Z",
     "iopub.status.idle": "2021-02-28T10:55:09.006767Z",
     "shell.execute_reply": "2021-02-28T10:55:09.006064Z",
     "shell.execute_reply.started": "2021-02-28T10:55:08.999647Z"
    },
    "tags": []
   },
   "outputs": [],
   "source": [
    "def saliency_metrics(model, data, batch_size, rois_dict):\n",
    "    classes = data[\"test\"].dataset.classes\n",
    "    metric_values = []\n",
    "    pred_verification = []\n",
    "    for i, (inputs, labels) in enumerate(data['test']):\n",
    "        print(f\"batch nr: {i+1}\", end='\\r')\n",
    "        saliency, score_max_index = batch_saliency(model, inputs, labels)\n",
    "        for index in range(len(saliency)):\n",
    "            sal = saliency[index].cpu().numpy()\n",
    "            label = classes[labels[index]]\n",
    "            sample_path = Path(data['test'].dataset.samples[i*batch_size+index][0])         \n",
    "            roi = get_roi(sample_path, rois_dict)\n",
    "            if roi:\n",
    "                top_left, bottom_right = get_roi_points(roi)\n",
    "                top_left, bottom_right = transforming_roi_points(top_left, bottom_right)\n",
    "                metric_values.append(metric1(sal, top_left, bottom_right))    \n",
    "\n",
    "                true = labels[index]\n",
    "                pred = score_max_index[index]\n",
    "                if pred != true:\n",
    "                    pred_res = \"wrong\"\n",
    "                else:\n",
    "                    pred_res = \"ok\"\n",
    "                pred_verification.append(pred_res)\n",
    "    return metric_values, pred_verification"
   ]
  },
  {
   "cell_type": "code",
   "execution_count": 63,
   "id": "accepted-gauge",
   "metadata": {
    "execution": {
     "iopub.execute_input": "2021-02-28T10:04:03.414296Z",
     "iopub.status.busy": "2021-02-28T10:04:03.413610Z",
     "iopub.status.idle": "2021-02-28T10:04:03.420363Z",
     "shell.execute_reply": "2021-02-28T10:04:03.419654Z",
     "shell.execute_reply.started": "2021-02-28T10:04:03.414219Z"
    },
    "tags": []
   },
   "outputs": [],
   "source": [
    "HEARTBEAT = \"initial\"\n",
    "roi_file_path = list((Path.cwd().parent / \"ROI\").glob(\"0_ROI.txt\"))[0]\n",
    "MODELS_PATH = Path(f\"../models/\")\n",
    "MODEL_NAME = \"resnet50_d_22_t_19_13\"\n",
    "TEST_DATA_PATH = Path(f'/mnt/Media/bernardo/DSL_test_data')\n",
    "NR_BATCHES = 16"
   ]
  },
  {
   "cell_type": "code",
   "execution_count": 64,
   "id": "inside-wholesale",
   "metadata": {
    "execution": {
     "iopub.execute_input": "2021-02-28T10:04:03.733084Z",
     "iopub.status.busy": "2021-02-28T10:04:03.732461Z",
     "iopub.status.idle": "2021-02-28T10:04:04.189970Z",
     "shell.execute_reply": "2021-02-28T10:04:04.189483Z",
     "shell.execute_reply.started": "2021-02-28T10:04:03.733009Z"
    },
    "tags": []
   },
   "outputs": [],
   "source": [
    "rois_dict = read_rois_file_as_dict(roi_file_path, TEST_DATA_PATH)"
   ]
  },
  {
   "cell_type": "code",
   "execution_count": 65,
   "id": "described-front",
   "metadata": {
    "execution": {
     "iopub.execute_input": "2021-02-28T10:04:04.190695Z",
     "iopub.status.busy": "2021-02-28T10:04:04.190565Z",
     "iopub.status.idle": "2021-02-28T10:26:56.257604Z",
     "shell.execute_reply": "2021-02-28T10:26:56.256905Z",
     "shell.execute_reply.started": "2021-02-28T10:04:04.190673Z"
    },
    "tags": []
   },
   "outputs": [
    {
     "name": "stdout",
     "output_type": "stream",
     "text": [
      "batch nr: 3102\r"
     ]
    },
    {
     "ename": "IndexError",
     "evalue": "index 1 is out of bounds for dimension 0 with size 1",
     "output_type": "error",
     "traceback": [
      "\u001b[0;31m---------------------------------------------------------------------------\u001b[0m",
      "\u001b[0;31mIndexError\u001b[0m                                Traceback (most recent call last)",
      "\u001b[0;32m<ipython-input-65-c6b7ea747342>\u001b[0m in \u001b[0;36m<module>\u001b[0;34m\u001b[0m\n\u001b[0;32m----> 1\u001b[0;31m \u001b[0mvalues\u001b[0m\u001b[0;34m,\u001b[0m \u001b[0mprediction_results\u001b[0m \u001b[0;34m=\u001b[0m \u001b[0mcreate_saliency_metrics_one_heartbeat\u001b[0m\u001b[0;34m(\u001b[0m\u001b[0mTEST_DATA_PATH\u001b[0m\u001b[0;34m,\u001b[0m \u001b[0mMODELS_PATH\u001b[0m\u001b[0;34m,\u001b[0m \u001b[0mMODEL_NAME\u001b[0m\u001b[0;34m,\u001b[0m \u001b[0mHEARTBEAT\u001b[0m\u001b[0;34m,\u001b[0m \u001b[0mNR_BATCHES\u001b[0m\u001b[0;34m,\u001b[0m \u001b[0mrois_dict\u001b[0m\u001b[0;34m)\u001b[0m\u001b[0;34m\u001b[0m\u001b[0;34m\u001b[0m\u001b[0m\n\u001b[0m",
      "\u001b[0;32m<ipython-input-47-2ebdaa6902f9>\u001b[0m in \u001b[0;36mcreate_saliency_metrics_one_heartbeat\u001b[0;34m(data_path, models_main_path, model_name, beat, batches, rois)\u001b[0m\n\u001b[1;32m      5\u001b[0m     \u001b[0mmodel\u001b[0m \u001b[0;34m=\u001b[0m \u001b[0mtorch\u001b[0m\u001b[0;34m.\u001b[0m\u001b[0mload\u001b[0m\u001b[0;34m(\u001b[0m\u001b[0mmodel_path\u001b[0m\u001b[0;34m,\u001b[0m \u001b[0mmap_location\u001b[0m\u001b[0;34m=\u001b[0m\u001b[0mtorch\u001b[0m\u001b[0;34m.\u001b[0m\u001b[0mdevice\u001b[0m\u001b[0;34m(\u001b[0m\u001b[0;36m0\u001b[0m\u001b[0;34m)\u001b[0m\u001b[0;34m)\u001b[0m\u001b[0;34m\u001b[0m\u001b[0;34m\u001b[0m\u001b[0m\n\u001b[1;32m      6\u001b[0m     \u001b[0mmodel\u001b[0m\u001b[0;34m.\u001b[0m\u001b[0meval\u001b[0m\u001b[0;34m(\u001b[0m\u001b[0;34m)\u001b[0m\u001b[0;34m;\u001b[0m\u001b[0;34m\u001b[0m\u001b[0;34m\u001b[0m\u001b[0m\n\u001b[0;32m----> 7\u001b[0;31m     \u001b[0;32mreturn\u001b[0m \u001b[0msaliency_metrics\u001b[0m\u001b[0;34m(\u001b[0m\u001b[0mmodel\u001b[0m\u001b[0;34m,\u001b[0m \u001b[0mdata\u001b[0m\u001b[0;34m,\u001b[0m \u001b[0mbatches\u001b[0m\u001b[0;34m,\u001b[0m \u001b[0mrois\u001b[0m\u001b[0;34m)\u001b[0m\u001b[0;34m\u001b[0m\u001b[0;34m\u001b[0m\u001b[0m\n\u001b[0m",
      "\u001b[0;32m<ipython-input-62-69f8aa3cb862>\u001b[0m in \u001b[0;36msaliency_metrics\u001b[0;34m(model, data, batch_size, rois_dict)\u001b[0m\n\u001b[1;32m      7\u001b[0m         \u001b[0msaliency\u001b[0m\u001b[0;34m,\u001b[0m \u001b[0mscore_max_index\u001b[0m \u001b[0;34m=\u001b[0m \u001b[0mbatch_saliency\u001b[0m\u001b[0;34m(\u001b[0m\u001b[0mmodel\u001b[0m\u001b[0;34m,\u001b[0m \u001b[0minputs\u001b[0m\u001b[0;34m,\u001b[0m \u001b[0mlabels\u001b[0m\u001b[0;34m)\u001b[0m\u001b[0;34m\u001b[0m\u001b[0;34m\u001b[0m\u001b[0m\n\u001b[1;32m      8\u001b[0m         \u001b[0;32mfor\u001b[0m \u001b[0mindex\u001b[0m \u001b[0;32min\u001b[0m \u001b[0mrange\u001b[0m\u001b[0;34m(\u001b[0m\u001b[0mbatch_size\u001b[0m\u001b[0;34m)\u001b[0m\u001b[0;34m:\u001b[0m\u001b[0;34m\u001b[0m\u001b[0;34m\u001b[0m\u001b[0m\n\u001b[0;32m----> 9\u001b[0;31m             \u001b[0msal\u001b[0m \u001b[0;34m=\u001b[0m \u001b[0msaliency\u001b[0m\u001b[0;34m[\u001b[0m\u001b[0mindex\u001b[0m\u001b[0;34m]\u001b[0m\u001b[0;34m.\u001b[0m\u001b[0mcpu\u001b[0m\u001b[0;34m(\u001b[0m\u001b[0;34m)\u001b[0m\u001b[0;34m.\u001b[0m\u001b[0mnumpy\u001b[0m\u001b[0;34m(\u001b[0m\u001b[0;34m)\u001b[0m\u001b[0;34m\u001b[0m\u001b[0;34m\u001b[0m\u001b[0m\n\u001b[0m\u001b[1;32m     10\u001b[0m             \u001b[0mlabel\u001b[0m \u001b[0;34m=\u001b[0m \u001b[0mclasses\u001b[0m\u001b[0;34m[\u001b[0m\u001b[0mlabels\u001b[0m\u001b[0;34m[\u001b[0m\u001b[0mindex\u001b[0m\u001b[0;34m]\u001b[0m\u001b[0;34m]\u001b[0m\u001b[0;34m\u001b[0m\u001b[0;34m\u001b[0m\u001b[0m\n\u001b[1;32m     11\u001b[0m             \u001b[0msample_path\u001b[0m \u001b[0;34m=\u001b[0m \u001b[0mPath\u001b[0m\u001b[0;34m(\u001b[0m\u001b[0mdata\u001b[0m\u001b[0;34m[\u001b[0m\u001b[0;34m'test'\u001b[0m\u001b[0;34m]\u001b[0m\u001b[0;34m.\u001b[0m\u001b[0mdataset\u001b[0m\u001b[0;34m.\u001b[0m\u001b[0msamples\u001b[0m\u001b[0;34m[\u001b[0m\u001b[0mi\u001b[0m\u001b[0;34m*\u001b[0m\u001b[0mbatch_size\u001b[0m\u001b[0;34m+\u001b[0m\u001b[0mindex\u001b[0m\u001b[0;34m]\u001b[0m\u001b[0;34m[\u001b[0m\u001b[0;36m0\u001b[0m\u001b[0;34m]\u001b[0m\u001b[0;34m)\u001b[0m\u001b[0;34m\u001b[0m\u001b[0;34m\u001b[0m\u001b[0m\n",
      "\u001b[0;31mIndexError\u001b[0m: index 1 is out of bounds for dimension 0 with size 1"
     ]
    }
   ],
   "source": [
    "values, prediction_results = create_saliency_metrics_one_heartbeat(TEST_DATA_PATH, MODELS_PATH, MODEL_NAME, HEARTBEAT, NR_BATCHES, rois_dict)"
   ]
  },
  {
   "cell_type": "code",
   "execution_count": 67,
   "id": "cloudy-rebate",
   "metadata": {
    "execution": {
     "iopub.execute_input": "2021-02-28T10:50:17.739188Z",
     "iopub.status.busy": "2021-02-28T10:50:17.738861Z",
     "iopub.status.idle": "2021-02-28T10:50:17.907665Z",
     "shell.execute_reply": "2021-02-28T10:50:17.907121Z",
     "shell.execute_reply.started": "2021-02-28T10:50:17.739161Z"
    },
    "tags": []
   },
   "outputs": [],
   "source": [
    "data_prep = DataPreparation(str(TEST_DATA_PATH))\n",
    "data, size = data_prep.create_dataloaders(16, False, 4)"
   ]
  },
  {
   "cell_type": "code",
   "execution_count": 69,
   "id": "handed-debate",
   "metadata": {
    "execution": {
     "iopub.execute_input": "2021-02-28T10:50:57.607046Z",
     "iopub.status.busy": "2021-02-28T10:50:57.606867Z",
     "iopub.status.idle": "2021-02-28T10:50:57.611281Z",
     "shell.execute_reply": "2021-02-28T10:50:57.610788Z",
     "shell.execute_reply.started": "2021-02-28T10:50:57.607026Z"
    },
    "tags": []
   },
   "outputs": [
    {
     "data": {
      "text/plain": [
       "3101.0625"
      ]
     },
     "execution_count": 69,
     "metadata": {},
     "output_type": "execute_result"
    }
   ],
   "source": [
    "len(list(data['test'].dataset.samples)) / 16"
   ]
  },
  {
   "cell_type": "code",
   "execution_count": null,
   "id": "virtual-better",
   "metadata": {},
   "outputs": [],
   "source": []
  }
 ],
 "metadata": {
  "kernelspec": {
   "display_name": "Python 3",
   "language": "python",
   "name": "python3"
  },
  "language_info": {
   "codemirror_mode": {
    "name": "ipython",
    "version": 3
   },
   "file_extension": ".py",
   "mimetype": "text/x-python",
   "name": "python",
   "nbconvert_exporter": "python",
   "pygments_lexer": "ipython3",
   "version": "3.8.5"
  }
 },
 "nbformat": 4,
 "nbformat_minor": 5
}
