{
 "cells": [
  {
   "cell_type": "markdown",
   "id": "alpine-department",
   "metadata": {},
   "source": [
    "# Creating and extracting information from saliency maps\n",
    "* organizing code\n",
    "* removing multiclass case\n",
    "* extract quantitative information from the maps"
   ]
  },
  {
   "cell_type": "code",
   "execution_count": 2,
   "id": "steady-craft",
   "metadata": {
    "execution": {
     "iopub.execute_input": "2021-02-24T08:17:10.536221Z",
     "iopub.status.busy": "2021-02-24T08:17:10.536061Z",
     "iopub.status.idle": "2021-02-24T08:17:11.495610Z",
     "shell.execute_reply": "2021-02-24T08:17:11.495105Z",
     "shell.execute_reply.started": "2021-02-24T08:17:10.536203Z"
    },
    "tags": []
   },
   "outputs": [],
   "source": [
    "from prep_test_data import *\n",
    "from pathlib import Path\n",
    "import json\n",
    "import torch\n",
    "from matplotlib import pyplot as plt\n",
    "import shutil\n",
    "import numpy as np\n",
    "import cv2\n",
    "import csv"
   ]
  },
  {
   "cell_type": "markdown",
   "id": "everyday-prisoner",
   "metadata": {},
   "source": [
    "-------------------------------------------------------"
   ]
  },
  {
   "cell_type": "markdown",
   "id": "aggressive-chemistry",
   "metadata": {},
   "source": [
    "## Main methods above"
   ]
  },
  {
   "cell_type": "code",
   "execution_count": 3,
   "id": "illegal-sunglasses",
   "metadata": {
    "execution": {
     "iopub.execute_input": "2021-02-24T08:17:11.496569Z",
     "iopub.status.busy": "2021-02-24T08:17:11.496428Z",
     "iopub.status.idle": "2021-02-24T08:17:11.499977Z",
     "shell.execute_reply": "2021-02-24T08:17:11.499357Z",
     "shell.execute_reply.started": "2021-02-24T08:17:11.496553Z"
    },
    "tags": []
   },
   "outputs": [],
   "source": [
    "def create_maps_folders(main_folder, beat, labels, delete_prior):\n",
    "    if delete_prior and Path(main_folder).exists():\n",
    "        shutil.rmtree(main_folder)\n",
    "    for label in labels:\n",
    "        folder = Path(main_folder) / f\"label_{beat}_beat/\"\n",
    "        Path(folder / label).mkdir(parents=True, exist_ok=True)\n",
    "    return folder"
   ]
  },
  {
   "cell_type": "code",
   "execution_count": 4,
   "id": "collectible-retro",
   "metadata": {
    "execution": {
     "iopub.execute_input": "2021-02-24T08:17:11.671102Z",
     "iopub.status.busy": "2021-02-24T08:17:11.670924Z",
     "iopub.status.idle": "2021-02-24T08:17:11.674493Z",
     "shell.execute_reply": "2021-02-24T08:17:11.673953Z",
     "shell.execute_reply.started": "2021-02-24T08:17:11.671086Z"
    },
    "tags": []
   },
   "outputs": [],
   "source": [
    "def deprocess(image):\n",
    "    transform = transforms.Compose([\n",
    "        transforms.Normalize(mean=[0, 0, 0], std=[4.3668, 4.4643, 4.4444]),\n",
    "        transforms.Normalize(mean=[-0.485, -0.456, -0.406], std=[1, 1, 1]),\n",
    "        transforms.ToPILImage(),\n",
    "    ])\n",
    "    return transform(image)\n",
    "\n",
    "def show_img(PIL_IMG):\n",
    "    plt.imshow(np.asarray(PIL_IMG))"
   ]
  },
  {
   "cell_type": "code",
   "execution_count": 42,
   "id": "charitable-algebra",
   "metadata": {
    "execution": {
     "iopub.execute_input": "2021-02-24T08:30:32.313920Z",
     "iopub.status.busy": "2021-02-24T08:30:32.313626Z",
     "iopub.status.idle": "2021-02-24T08:30:32.322607Z",
     "shell.execute_reply": "2021-02-24T08:30:32.322064Z",
     "shell.execute_reply.started": "2021-02-24T08:30:32.313886Z"
    },
    "tags": []
   },
   "outputs": [],
   "source": [
    "def saliency_maps(model, data, main_folder, n_batches=None):\n",
    "    classes = data[\"test\"].dataset.classes\n",
    "    for i, (inputs, labels) in enumerate(data['test']):\n",
    "        inputs = inputs.to(0)\n",
    "        labels = labels.to(0)\n",
    "        x = inputs\n",
    "        x.requires_grad_();\n",
    "        scores = model(x)\n",
    "        score_max_index = scores.argmax(dim=1)\n",
    "\n",
    "        score_max = scores[:, score_max_index]\n",
    "        score_max.backward(torch.ones_like(score_max))\n",
    "        saliency, _ = torch.max(x.grad.data.abs(),dim=1)\n",
    "        \n",
    "        print(score_max_index)\n",
    "        print(labels)\n",
    "        for index in range(len(saliency)):\n",
    "            sal = saliency[index].cpu().numpy()\n",
    "            \n",
    "            label = classes[labels[index]]\n",
    "            true = labels[index]\n",
    "            pred = score_max_index[index]\n",
    "            pred_res = \"OK\"\n",
    "            if pred != true:\n",
    "                pred_res = \"wrong\"\n",
    "            \n",
    "            plt.figure()\n",
    "            img1 = plt.imshow(sal, cmap=plt.cm.hot, alpha=.7);\n",
    "            img2 = plt.imshow(deprocess(x[index].cpu()), alpha=.4);\n",
    "            plt.axis('off')\n",
    "            \n",
    "            input_filename = Path(data['test'].dataset.samples[i*len(saliency)+index][0]).stem\n",
    "            \n",
    "            plt.savefig(str(main_folder / f\"{label}/{input_filename}_{pred_res}.png\"))\n",
    "            plt.close();\n",
    "                \n",
    "        if n_batches:\n",
    "            if i + 1 == n_batches:\n",
    "                break\n",
    "        \n",
    "    return saliency, x"
   ]
  },
  {
   "cell_type": "code",
   "execution_count": 43,
   "id": "cleared-storm",
   "metadata": {
    "execution": {
     "iopub.execute_input": "2021-02-24T08:30:33.201391Z",
     "iopub.status.busy": "2021-02-24T08:30:33.201239Z",
     "iopub.status.idle": "2021-02-24T08:30:33.204823Z",
     "shell.execute_reply": "2021-02-24T08:30:33.204334Z",
     "shell.execute_reply.started": "2021-02-24T08:30:33.201373Z"
    },
    "tags": []
   },
   "outputs": [],
   "source": [
    "def create_saliency_maps_one_heartbeat(data_path, models_main_path, model_name, beat, saliency_maps_path, nr_egs):\n",
    "    data_prep = DataPreparation(str(data_path))\n",
    "    data, size = data_prep.create_dataloaders(16, False, 4)\n",
    "    model_path = models_main_path / f\"label_{beat}/{model_name}.pth\"\n",
    "    model = torch.load(model_path)\n",
    "    model.eval();\n",
    "    return saliency_maps(model, data, saliency_maps_path, nr_egs)"
   ]
  },
  {
   "cell_type": "markdown",
   "id": "conscious-avenue",
   "metadata": {},
   "source": [
    "----------------------------------------------------------------"
   ]
  },
  {
   "cell_type": "markdown",
   "id": "finite-power",
   "metadata": {},
   "source": [
    "## Configuration and run methods!"
   ]
  },
  {
   "cell_type": "code",
   "execution_count": 44,
   "id": "aware-suspect",
   "metadata": {
    "execution": {
     "iopub.execute_input": "2021-02-24T08:30:34.143449Z",
     "iopub.status.busy": "2021-02-24T08:30:34.142811Z",
     "iopub.status.idle": "2021-02-24T08:30:34.153305Z",
     "shell.execute_reply": "2021-02-24T08:30:34.151540Z",
     "shell.execute_reply.started": "2021-02-24T08:30:34.143370Z"
    },
    "tags": []
   },
   "outputs": [],
   "source": [
    "with open(\"../config.json\") as f:\n",
    "    config_data = json.load(f)\n",
    "    f.close()"
   ]
  },
  {
   "cell_type": "code",
   "execution_count": 45,
   "id": "supposed-navigator",
   "metadata": {
    "execution": {
     "iopub.execute_input": "2021-02-24T08:30:34.372157Z",
     "iopub.status.busy": "2021-02-24T08:30:34.371530Z",
     "iopub.status.idle": "2021-02-24T08:30:34.376710Z",
     "shell.execute_reply": "2021-02-24T08:30:34.376204Z",
     "shell.execute_reply.started": "2021-02-24T08:30:34.372081Z"
    },
    "tags": []
   },
   "outputs": [],
   "source": [
    "HEARTBEAT = \"final\"\n",
    "MODELS_PATH = Path(f\"../models/\")\n",
    "MODEL_NAME = \"resnet50_d_22_t_12_17\"\n",
    "MAP_DIR = \"../attribution_maps/saliency_maps\"\n",
    "DELETE_PRIOR_DIR = True\n",
    "TEST_DATA_PATH = Path(f'/mnt/Media/bernardo/DSL_test_data')\n",
    "NR_BATCHES = 2"
   ]
  },
  {
   "cell_type": "code",
   "execution_count": 46,
   "id": "sophisticated-receipt",
   "metadata": {
    "execution": {
     "iopub.execute_input": "2021-02-24T08:30:34.655627Z",
     "iopub.status.busy": "2021-02-24T08:30:34.654991Z",
     "iopub.status.idle": "2021-02-24T08:30:37.854818Z",
     "shell.execute_reply": "2021-02-24T08:30:37.854251Z",
     "shell.execute_reply.started": "2021-02-24T08:30:34.655530Z"
    },
    "tags": []
   },
   "outputs": [
    {
     "name": "stdout",
     "output_type": "stream",
     "text": [
      "tensor([0, 0, 1, 1, 0, 0, 1, 0, 0, 0, 1, 0, 0, 1, 0, 1], device='cuda:0')\n",
      "tensor([0, 0, 0, 0, 0, 0, 0, 0, 0, 0, 0, 0, 0, 0, 0, 0], device='cuda:0')\n",
      "('/mnt/Media/bernardo/DSL_test_data/abnormal/0_0_200.png', 0)\n",
      "('/mnt/Media/bernardo/DSL_test_data/abnormal/0_0_232.png', 0)\n",
      "('/mnt/Media/bernardo/DSL_test_data/abnormal/1000_0_222.png', 0)\n",
      "('/mnt/Media/bernardo/DSL_test_data/abnormal/1000_0_232.png', 0)\n",
      "('/mnt/Media/bernardo/DSL_test_data/abnormal/1000_0_233.png', 0)\n",
      "('/mnt/Media/bernardo/DSL_test_data/abnormal/1001_0_213.png', 0)\n",
      "('/mnt/Media/bernardo/DSL_test_data/abnormal/1001_0_232.png', 0)\n",
      "('/mnt/Media/bernardo/DSL_test_data/abnormal/1002_0_105.png', 0)\n",
      "('/mnt/Media/bernardo/DSL_test_data/abnormal/1002_0_214.png', 0)\n",
      "('/mnt/Media/bernardo/DSL_test_data/abnormal/1003_0_213.png', 0)\n",
      "('/mnt/Media/bernardo/DSL_test_data/abnormal/1004_0_232.png', 0)\n",
      "('/mnt/Media/bernardo/DSL_test_data/abnormal/1004_0_233.png', 0)\n",
      "('/mnt/Media/bernardo/DSL_test_data/abnormal/1005_0_200.png', 0)\n",
      "('/mnt/Media/bernardo/DSL_test_data/abnormal/1005_0_213.png', 0)\n",
      "('/mnt/Media/bernardo/DSL_test_data/abnormal/1005_0_214.png', 0)\n",
      "('/mnt/Media/bernardo/DSL_test_data/abnormal/1005_0_232.png', 0)\n",
      "tensor([0, 0, 1, 1, 0, 0, 1, 0, 0, 1, 0, 0, 1, 0, 0, 1], device='cuda:0')\n",
      "tensor([0, 0, 0, 0, 0, 0, 0, 0, 0, 0, 0, 0, 0, 0, 0, 0], device='cuda:0')\n",
      "('/mnt/Media/bernardo/DSL_test_data/abnormal/1007_0_200.png', 0)\n",
      "('/mnt/Media/bernardo/DSL_test_data/abnormal/1007_0_221.png', 0)\n",
      "('/mnt/Media/bernardo/DSL_test_data/abnormal/1007_0_232.png', 0)\n",
      "('/mnt/Media/bernardo/DSL_test_data/abnormal/1008_0_232.png', 0)\n",
      "('/mnt/Media/bernardo/DSL_test_data/abnormal/1008_0_233.png', 0)\n",
      "('/mnt/Media/bernardo/DSL_test_data/abnormal/1009_0_200.png', 0)\n",
      "('/mnt/Media/bernardo/DSL_test_data/abnormal/1009_0_232.png', 0)\n",
      "('/mnt/Media/bernardo/DSL_test_data/abnormal/100_0_221.png', 0)\n",
      "('/mnt/Media/bernardo/DSL_test_data/abnormal/100_0_232.png', 0)\n",
      "('/mnt/Media/bernardo/DSL_test_data/abnormal/1010_0_232.png', 0)\n",
      "('/mnt/Media/bernardo/DSL_test_data/abnormal/1011_0_200.png', 0)\n",
      "('/mnt/Media/bernardo/DSL_test_data/abnormal/1011_0_210.png', 0)\n",
      "('/mnt/Media/bernardo/DSL_test_data/abnormal/1011_0_232.png', 0)\n",
      "('/mnt/Media/bernardo/DSL_test_data/abnormal/1012_0_214.png', 0)\n",
      "('/mnt/Media/bernardo/DSL_test_data/abnormal/1012_0_228.png', 0)\n",
      "('/mnt/Media/bernardo/DSL_test_data/abnormal/1012_0_232.png', 0)\n"
     ]
    }
   ],
   "source": [
    "saliency_folder = create_maps_folders(MAP_DIR, HEARTBEAT, config_data['labels_bin'], DELETE_PRIOR_DIR)\n",
    "saliency, imgs = create_saliency_maps_one_heartbeat(TEST_DATA_PATH, MODELS_PATH, MODEL_NAME, HEARTBEAT, saliency_folder, NR_BATCHES)"
   ]
  },
  {
   "cell_type": "code",
   "execution_count": 28,
   "id": "addressed-dinner",
   "metadata": {
    "execution": {
     "iopub.execute_input": "2021-02-24T08:23:35.250167Z",
     "iopub.status.busy": "2021-02-24T08:23:35.250031Z",
     "iopub.status.idle": "2021-02-24T08:23:35.387982Z",
     "shell.execute_reply": "2021-02-24T08:23:35.387477Z",
     "shell.execute_reply.started": "2021-02-24T08:23:35.250150Z"
    },
    "tags": []
   },
   "outputs": [],
   "source": [
    "data_prep = DataPreparation(str(TEST_DATA_PATH))\n",
    "data, size = data_prep.create_dataloaders(16, False, 4)"
   ]
  },
  {
   "cell_type": "code",
   "execution_count": null,
   "id": "likely-buying",
   "metadata": {},
   "outputs": [],
   "source": []
  },
  {
   "cell_type": "code",
   "execution_count": null,
   "id": "sized-candidate",
   "metadata": {},
   "outputs": [],
   "source": []
  },
  {
   "cell_type": "markdown",
   "id": "informed-nursery",
   "metadata": {},
   "source": [
    "## Digging into saliency maps and data"
   ]
  },
  {
   "cell_type": "markdown",
   "id": "tutorial-orange",
   "metadata": {},
   "source": [
    "## It's important to differentiate the cases where the model gives the correct prediction from those where the prediction is wrong"
   ]
  },
  {
   "cell_type": "code",
   "execution_count": 40,
   "id": "significant-replacement",
   "metadata": {
    "execution": {
     "iopub.execute_input": "2021-02-23T09:57:28.471823Z",
     "iopub.status.busy": "2021-02-23T09:57:28.471427Z",
     "iopub.status.idle": "2021-02-23T09:57:28.477786Z",
     "shell.execute_reply": "2021-02-23T09:57:28.476572Z",
     "shell.execute_reply.started": "2021-02-23T09:57:28.471780Z"
    },
    "tags": []
   },
   "outputs": [],
   "source": [
    "i = 15\n",
    "sal = saliency[i].cpu().numpy() # saliency for one sample\n",
    "img = imgs[i]"
   ]
  },
  {
   "cell_type": "code",
   "execution_count": 21,
   "id": "generous-arctic",
   "metadata": {
    "execution": {
     "iopub.execute_input": "2021-02-23T09:49:12.201718Z",
     "iopub.status.busy": "2021-02-23T09:49:12.201421Z",
     "iopub.status.idle": "2021-02-23T09:49:12.206627Z",
     "shell.execute_reply": "2021-02-23T09:49:12.205886Z",
     "shell.execute_reply.started": "2021-02-23T09:49:12.201685Z"
    },
    "tags": []
   },
   "outputs": [
    {
     "data": {
      "text/plain": [
       "(224, 224)"
      ]
     },
     "execution_count": 21,
     "metadata": {},
     "output_type": "execute_result"
    }
   ],
   "source": [
    "sal.shape"
   ]
  },
  {
   "cell_type": "code",
   "execution_count": 22,
   "id": "dutch-celebrity",
   "metadata": {
    "execution": {
     "iopub.execute_input": "2021-02-23T09:49:12.425853Z",
     "iopub.status.busy": "2021-02-23T09:49:12.425355Z",
     "iopub.status.idle": "2021-02-23T09:49:12.433642Z",
     "shell.execute_reply": "2021-02-23T09:49:12.432490Z",
     "shell.execute_reply.started": "2021-02-23T09:49:12.425789Z"
    },
    "tags": []
   },
   "outputs": [
    {
     "data": {
      "text/plain": [
       "1.4449899"
      ]
     },
     "execution_count": 22,
     "metadata": {},
     "output_type": "execute_result"
    }
   ],
   "source": [
    "np.max(sal)"
   ]
  },
  {
   "cell_type": "code",
   "execution_count": 23,
   "id": "guided-lesson",
   "metadata": {
    "execution": {
     "iopub.execute_input": "2021-02-23T09:49:12.624822Z",
     "iopub.status.busy": "2021-02-23T09:49:12.624167Z",
     "iopub.status.idle": "2021-02-23T09:49:12.755273Z",
     "shell.execute_reply": "2021-02-23T09:49:12.754735Z",
     "shell.execute_reply.started": "2021-02-23T09:49:12.624748Z"
    },
    "tags": []
   },
   "outputs": [
    {
     "data": {
      "text/plain": [
       "<matplotlib.image.AxesImage at 0x7f7e0d442a90>"
      ]
     },
     "execution_count": 23,
     "metadata": {},
     "output_type": "execute_result"
    },
    {
     "data": {
      "image/png": "[encoded data removed]",
      "text/plain": [
       "<Figure size 432x288 with 1 Axes>"
      ]
     },
     "metadata": {
      "needs_background": "light"
     },
     "output_type": "display_data"
    }
   ],
   "source": [
    "plt.imshow(sal)"
   ]
  },
  {
   "cell_type": "code",
   "execution_count": 33,
   "id": "greatest-potential",
   "metadata": {
    "execution": {
     "iopub.execute_input": "2021-02-23T09:52:27.173187Z",
     "iopub.status.busy": "2021-02-23T09:52:27.172834Z",
     "iopub.status.idle": "2021-02-23T09:52:27.301771Z",
     "shell.execute_reply": "2021-02-23T09:52:27.301281Z",
     "shell.execute_reply.started": "2021-02-23T09:52:27.173146Z"
    },
    "tags": []
   },
   "outputs": [
    {
     "data": {
      "text/plain": [
       "<matplotlib.image.AxesImage at 0x7f7e07724400>"
      ]
     },
     "execution_count": 33,
     "metadata": {},
     "output_type": "execute_result"
    },
    {
     "data": {
      "image/png": "[encoded data removed]",
      "text/plain": [
       "<Figure size 432x288 with 1 Axes>"
      ]
     },
     "metadata": {
      "needs_background": "light"
     },
     "output_type": "display_data"
    }
   ],
   "source": [
    "sal_trans = np.uint8(np.interp(sal, (np.min(sal), np.max(sal)), (0,255)))\n",
    "plt.imshow(cv2.cvtColor(sal_trans, cv2.COLOR_BGR2RGB))"
   ]
  },
  {
   "cell_type": "code",
   "execution_count": 28,
   "id": "aware-genealogy",
   "metadata": {
    "execution": {
     "iopub.execute_input": "2021-02-23T09:49:20.378535Z",
     "iopub.status.busy": "2021-02-23T09:49:20.377883Z",
     "iopub.status.idle": "2021-02-23T09:49:20.388513Z",
     "shell.execute_reply": "2021-02-23T09:49:20.386989Z",
     "shell.execute_reply.started": "2021-02-23T09:49:20.378459Z"
    },
    "tags": []
   },
   "outputs": [],
   "source": [
    "sal_trans = np.uint8(np.interp(sal, (np.min(sal), np.max(sal)), (0,255)))"
   ]
  },
  {
   "cell_type": "code",
   "execution_count": 1,
   "id": "ready-trainer",
   "metadata": {
    "execution": {
     "iopub.execute_input": "2021-02-24T08:14:24.305057Z",
     "iopub.status.busy": "2021-02-24T08:14:24.304759Z",
     "iopub.status.idle": "2021-02-24T08:14:24.356792Z",
     "shell.execute_reply": "2021-02-24T08:14:24.356215Z",
     "shell.execute_reply.started": "2021-02-24T08:14:24.304975Z"
    },
    "tags": []
   },
   "outputs": [
    {
     "ename": "NameError",
     "evalue": "name 'deprocess' is not defined",
     "output_type": "error",
     "traceback": [
      "\u001b[0;31m---------------------------------------------------------------------------\u001b[0m",
      "\u001b[0;31mNameError\u001b[0m                                 Traceback (most recent call last)",
      "\u001b[0;32m<ipython-input-1-7743bda74f7f>\u001b[0m in \u001b[0;36m<module>\u001b[0;34m\u001b[0m\n\u001b[0;32m----> 1\u001b[0;31m \u001b[0mdeprocess\u001b[0m\u001b[0;34m(\u001b[0m\u001b[0mimg\u001b[0m\u001b[0;34m.\u001b[0m\u001b[0mcpu\u001b[0m\u001b[0;34m(\u001b[0m\u001b[0;34m)\u001b[0m\u001b[0;34m)\u001b[0m\u001b[0;34m.\u001b[0m\u001b[0mnumpy\u001b[0m\u001b[0;34m(\u001b[0m\u001b[0;34m)\u001b[0m\u001b[0;34m\u001b[0m\u001b[0;34m\u001b[0m\u001b[0m\n\u001b[0m",
      "\u001b[0;31mNameError\u001b[0m: name 'deprocess' is not defined"
     ]
    }
   ],
   "source": [
    "deprocess(img.cpu()).numpy()"
   ]
  },
  {
   "cell_type": "markdown",
   "id": "known-plate",
   "metadata": {},
   "source": [
    "# Verify ROIs"
   ]
  },
  {
   "cell_type": "code",
   "execution_count": 53,
   "id": "closed-louis",
   "metadata": {
    "execution": {
     "iopub.execute_input": "2021-02-24T08:41:02.740543Z",
     "iopub.status.busy": "2021-02-24T08:41:02.739966Z",
     "iopub.status.idle": "2021-02-24T08:41:02.748082Z",
     "shell.execute_reply": "2021-02-24T08:41:02.746473Z",
     "shell.execute_reply.started": "2021-02-24T08:41:02.740474Z"
    },
    "tags": []
   },
   "outputs": [],
   "source": [
    "TEST_DATA_PATH = Path(f'/mnt/Media/bernardo/DSL_test_data')"
   ]
  },
  {
   "cell_type": "code",
   "execution_count": 54,
   "id": "maritime-international",
   "metadata": {
    "execution": {
     "iopub.execute_input": "2021-02-24T08:41:03.012628Z",
     "iopub.status.busy": "2021-02-24T08:41:03.012461Z",
     "iopub.status.idle": "2021-02-24T08:41:03.016709Z",
     "shell.execute_reply": "2021-02-24T08:41:03.016102Z",
     "shell.execute_reply.started": "2021-02-24T08:41:03.012608Z"
    },
    "tags": []
   },
   "outputs": [
    {
     "data": {
      "text/plain": [
       "PosixPath('/mnt/Media/bernardo/Documents/PhD/Courses/Deep Structured Learning/code/DSLproject/ROI/5_ROI.txt')"
      ]
     },
     "execution_count": 54,
     "metadata": {},
     "output_type": "execute_result"
    }
   ],
   "source": [
    "roi_file_path = list((Path.cwd().parent / \"ROI\").glob(\"*.txt\"))[2] # --> label final\n",
    "roi_file_path"
   ]
  },
  {
   "cell_type": "code",
   "execution_count": 58,
   "id": "featured-sense",
   "metadata": {
    "execution": {
     "iopub.execute_input": "2021-02-24T08:44:12.199356Z",
     "iopub.status.busy": "2021-02-24T08:44:12.198716Z",
     "iopub.status.idle": "2021-02-24T08:44:12.205803Z",
     "shell.execute_reply": "2021-02-24T08:44:12.205256Z",
     "shell.execute_reply.started": "2021-02-24T08:44:12.199278Z"
    },
    "tags": []
   },
   "outputs": [],
   "source": [
    "def roi_rectangle(img_path, roi):\n",
    "    img = cv2.imread(str(img_path))\n",
    "    top_left = (int(roi[4]), int(roi[3]))\n",
    "    bottom_right = (int(roi[5]), int(roi[2]))\n",
    "    print(f\"top_left: {top_left}\")    \n",
    "    print(f\"bottom_right: {bottom_right}\")\n",
    "    img = cv2.rectangle(img, top_left, bottom_right, (255,0,0), 2)\n",
    "    cv2.imshow(\"roi-test\", img)\n",
    "    cv2.waitKey()\n",
    "    cv2.destroyAllWindows()\n",
    "    return top_left, bottom_right, img"
   ]
  },
  {
   "cell_type": "raw",
   "id": "scheduled-teach",
   "metadata": {
    "tags": []
   },
   "source": [
    "with open(roi_file_path) as rois:\n",
    "    rois_reader = csv.reader(rois, delimiter='\\t')\n",
    "    j = 0\n",
    "    for i, roi in enumerate(rois_reader):\n",
    "        if i !=0:\n",
    "            img_path = TEST_DATA_PATH / roi[6] / f\"{roi[1]}_{roi[0]}.png\"\n",
    "            if img_path.is_file():\n",
    "                j +=1\n",
    "                roi_rectangle(img_path, roi)\n",
    "                if j == 50:\n",
    "                    break"
   ]
  },
  {
   "cell_type": "code",
   "execution_count": 59,
   "id": "residential-copyright",
   "metadata": {
    "execution": {
     "iopub.execute_input": "2021-02-24T08:44:43.142347Z",
     "iopub.status.busy": "2021-02-24T08:44:43.141907Z",
     "iopub.status.idle": "2021-02-24T08:44:46.163411Z",
     "shell.execute_reply": "2021-02-24T08:44:46.161904Z",
     "shell.execute_reply.started": "2021-02-24T08:44:43.142294Z"
    },
    "tags": []
   },
   "outputs": [
    {
     "name": "stdout",
     "output_type": "stream",
     "text": [
      "top_left: (1948, 137)\n",
      "bottom_right: (2202, 299)\n"
     ]
    }
   ],
   "source": [
    "patient = \"232\"\n",
    "file = \"0_0\"\n",
    "with open(roi_file_path) as rois:\n",
    "    rois_reader = csv.reader(rois, delimiter='\\t')\n",
    "    for i, roi in enumerate(rois_reader):\n",
    "        if roi[0] == patient and roi[1] == file:\n",
    "            img_path = TEST_DATA_PATH / roi[6] / f\"{roi[1]}_{roi[0]}.png\"\n",
    "            left_top, right_bottom, img_rect = roi_rectangle(img_path, roi)"
   ]
  },
  {
   "cell_type": "code",
   "execution_count": 69,
   "id": "brave-politics",
   "metadata": {
    "execution": {
     "iopub.execute_input": "2021-02-24T08:59:00.037404Z",
     "iopub.status.busy": "2021-02-24T08:59:00.037251Z",
     "iopub.status.idle": "2021-02-24T08:59:00.039784Z",
     "shell.execute_reply": "2021-02-24T08:59:00.039304Z",
     "shell.execute_reply.started": "2021-02-24T08:59:00.037387Z"
    },
    "tags": []
   },
   "outputs": [],
   "source": [
    "crop_x = 750 # each side\n",
    "crop_y = 75 # each side"
   ]
  },
  {
   "cell_type": "code",
   "execution_count": 70,
   "id": "unlike-accident",
   "metadata": {
    "execution": {
     "iopub.execute_input": "2021-02-24T09:00:26.749468Z",
     "iopub.status.busy": "2021-02-24T09:00:26.749123Z",
     "iopub.status.idle": "2021-02-24T09:00:26.754333Z",
     "shell.execute_reply": "2021-02-24T09:00:26.753414Z",
     "shell.execute_reply.started": "2021-02-24T09:00:26.749427Z"
    }
   },
   "outputs": [],
   "source": [
    "top_left_cropped = (left_top[0]-750, left_top[1]-75)\n",
    "bottom_right_cropped = (right_bottom[0]-750, right_bottom[1]-75)"
   ]
  },
  {
   "cell_type": "code",
   "execution_count": null,
   "id": "sacred-quantity",
   "metadata": {},
   "outputs": [],
   "source": []
  },
  {
   "cell_type": "code",
   "execution_count": null,
   "id": "prostate-weapon",
   "metadata": {},
   "outputs": [],
   "source": []
  },
  {
   "cell_type": "code",
   "execution_count": 67,
   "id": "southeast-christian",
   "metadata": {
    "execution": {
     "iopub.execute_input": "2021-02-24T08:53:19.363112Z",
     "iopub.status.busy": "2021-02-24T08:53:19.362946Z",
     "iopub.status.idle": "2021-02-24T08:53:19.365779Z",
     "shell.execute_reply": "2021-02-24T08:53:19.365329Z",
     "shell.execute_reply.started": "2021-02-24T08:53:19.363094Z"
    },
    "tags": []
   },
   "outputs": [],
   "source": [
    "img_rect_resized = cv2.resize(img_rect[75:375,750:2250], (224,224))"
   ]
  },
  {
   "cell_type": "code",
   "execution_count": 68,
   "id": "increased-fellowship",
   "metadata": {
    "execution": {
     "iopub.execute_input": "2021-02-24T08:53:20.464035Z",
     "iopub.status.busy": "2021-02-24T08:53:20.463795Z",
     "iopub.status.idle": "2021-02-24T08:53:20.470899Z",
     "shell.execute_reply": "2021-02-24T08:53:20.470292Z",
     "shell.execute_reply.started": "2021-02-24T08:53:20.464007Z"
    },
    "tags": []
   },
   "outputs": [
    {
     "data": {
      "text/plain": [
       "True"
      ]
     },
     "execution_count": 68,
     "metadata": {},
     "output_type": "execute_result"
    }
   ],
   "source": [
    "cv2.imwrite(\"ROI_final_0_0_232_resized.png\", img_rect_resized)"
   ]
  },
  {
   "cell_type": "markdown",
   "id": "opponent-idaho",
   "metadata": {
    "execution": {
     "iopub.execute_input": "2021-02-23T12:27:20.762668Z",
     "iopub.status.busy": "2021-02-23T12:27:20.762041Z",
     "iopub.status.idle": "2021-02-23T12:27:20.774348Z",
     "shell.execute_reply": "2021-02-23T12:27:20.772203Z",
     "shell.execute_reply.started": "2021-02-23T12:27:20.762595Z"
    }
   },
   "source": [
    "##### bottom_right"
   ]
  },
  {
   "cell_type": "code",
   "execution_count": 48,
   "id": "sunset-abraham",
   "metadata": {
    "execution": {
     "iopub.execute_input": "2021-02-23T12:29:30.736916Z",
     "iopub.status.busy": "2021-02-23T12:29:30.736566Z",
     "iopub.status.idle": "2021-02-23T12:29:30.910079Z",
     "shell.execute_reply": "2021-02-23T12:29:30.909601Z",
     "shell.execute_reply.started": "2021-02-23T12:29:30.736877Z"
    },
    "tags": []
   },
   "outputs": [
    {
     "data": {
      "text/plain": [
       "<matplotlib.image.AxesImage at 0x7f9fb41b1910>"
      ]
     },
     "execution_count": 48,
     "metadata": {},
     "output_type": "execute_result"
    },
    {
     "data": {
      "image/png": "[encoded data removed]",
      "text/plain": [
       "<Figure size 432x288 with 1 Axes>"
      ]
     },
     "metadata": {
      "needs_background": "light"
     },
     "output_type": "display_data"
    }
   ],
   "source": [
    "plt.imshow(cv2.rectangle(img, top_left, bottom_right, (255, 255, 25), 1000))"
   ]
  },
  {
   "cell_type": "code",
   "execution_count": 47,
   "id": "upper-benefit",
   "metadata": {
    "execution": {
     "iopub.execute_input": "2021-02-23T12:29:20.681459Z",
     "iopub.status.busy": "2021-02-23T12:29:20.680983Z",
     "iopub.status.idle": "2021-02-23T12:29:20.689204Z",
     "shell.execute_reply": "2021-02-23T12:29:20.688200Z",
     "shell.execute_reply.started": "2021-02-23T12:29:20.681403Z"
    },
    "tags": []
   },
   "outputs": [
    {
     "data": {
      "text/plain": [
       "array([[[255, 255, 255],\n",
       "        [255, 255, 255],\n",
       "        [255, 255, 255],\n",
       "        ...,\n",
       "        [255, 255, 255],\n",
       "        [255, 255, 255],\n",
       "        [255, 255, 255]],\n",
       "\n",
       "       [[255, 255, 255],\n",
       "        [255, 255, 255],\n",
       "        [255, 255, 255],\n",
       "        ...,\n",
       "        [255, 255, 255],\n",
       "        [255, 255, 255],\n",
       "        [255, 255, 255]],\n",
       "\n",
       "       [[255, 255, 255],\n",
       "        [255, 255, 255],\n",
       "        [255, 255, 255],\n",
       "        ...,\n",
       "        [255, 255, 255],\n",
       "        [255, 255, 255],\n",
       "        [255, 255, 255]],\n",
       "\n",
       "       ...,\n",
       "\n",
       "       [[255, 255, 255],\n",
       "        [255, 255, 255],\n",
       "        [255, 255, 255],\n",
       "        ...,\n",
       "        [255, 255, 255],\n",
       "        [255, 255, 255],\n",
       "        [255, 255, 255]],\n",
       "\n",
       "       [[255, 255, 255],\n",
       "        [255, 255, 255],\n",
       "        [255, 255, 255],\n",
       "        ...,\n",
       "        [255, 255, 255],\n",
       "        [255, 255, 255],\n",
       "        [255, 255, 255]],\n",
       "\n",
       "       [[255, 255, 255],\n",
       "        [255, 255, 255],\n",
       "        [255, 255, 255],\n",
       "        ...,\n",
       "        [255, 255, 255],\n",
       "        [255, 255, 255],\n",
       "        [255, 255, 255]]], dtype=uint8)"
      ]
     },
     "execution_count": 47,
     "metadata": {},
     "output_type": "execute_result"
    }
   ],
   "source": [
    "img"
   ]
  },
  {
   "cell_type": "code",
   "execution_count": 4,
   "id": "harmful-capture",
   "metadata": {
    "execution": {
     "iopub.execute_input": "2021-02-23T12:12:44.281980Z",
     "iopub.status.busy": "2021-02-23T12:12:44.281739Z",
     "iopub.status.idle": "2021-02-23T12:12:44.285902Z",
     "shell.execute_reply": "2021-02-23T12:12:44.285007Z",
     "shell.execute_reply.started": "2021-02-23T12:12:44.281955Z"
    }
   },
   "outputs": [],
   "source": [
    "with open(roi_file_path) as rois:\n",
    "    rois_reader = csv.reader(rois, delimiter='\\t')"
   ]
  }
 ],
 "metadata": {
  "kernelspec": {
   "display_name": "Python 3",
   "language": "python",
   "name": "python3"
  },
  "language_info": {
   "codemirror_mode": {
    "name": "ipython",
    "version": 3
   },
   "file_extension": ".py",
   "mimetype": "text/x-python",
   "name": "python",
   "nbconvert_exporter": "python",
   "pygments_lexer": "ipython3",
   "version": "3.8.5"
  }
 },
 "nbformat": 4,
 "nbformat_minor": 5
}
