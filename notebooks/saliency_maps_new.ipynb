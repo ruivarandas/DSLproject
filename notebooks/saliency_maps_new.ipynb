{
 "cells": [
  {
   "cell_type": "markdown",
   "id": "stainless-turtle",
   "metadata": {},
   "source": [
    "# Creating and extracting information from saliency maps\n",
    "* organizing code\n",
    "* removing multiclass case\n",
    "* extract quantitative information from the maps"
   ]
  },
  {
   "cell_type": "code",
   "execution_count": 86,
   "id": "brown-county",
   "metadata": {
    "execution": {
     "iopub.execute_input": "2021-02-20T12:52:01.980836Z",
     "iopub.status.busy": "2021-02-20T12:52:01.980281Z",
     "iopub.status.idle": "2021-02-20T12:52:01.986808Z",
     "shell.execute_reply": "2021-02-20T12:52:01.985860Z",
     "shell.execute_reply.started": "2021-02-20T12:52:01.980766Z"
    },
    "tags": []
   },
   "outputs": [],
   "source": [
    "from prep_test_data import *\n",
    "from pathlib import Path\n",
    "import json\n",
    "import torch\n",
    "from matplotlib import pyplot as plt\n",
    "import shutil"
   ]
  },
  {
   "cell_type": "markdown",
   "id": "private-attack",
   "metadata": {},
   "source": [
    "-------------------------------------------------------"
   ]
  },
  {
   "cell_type": "markdown",
   "id": "exciting-algorithm",
   "metadata": {},
   "source": [
    "## Main methods above"
   ]
  },
  {
   "cell_type": "code",
   "execution_count": 120,
   "id": "actual-texas",
   "metadata": {
    "execution": {
     "iopub.execute_input": "2021-02-20T13:18:47.066029Z",
     "iopub.status.busy": "2021-02-20T13:18:47.065823Z",
     "iopub.status.idle": "2021-02-20T13:18:47.069000Z",
     "shell.execute_reply": "2021-02-20T13:18:47.068567Z",
     "shell.execute_reply.started": "2021-02-20T13:18:47.066008Z"
    },
    "tags": []
   },
   "outputs": [],
   "source": [
    "def create_maps_folders(main_folder, beat, labels, delete_prior):\n",
    "    if delete_prior and Path(main_folder).exists():\n",
    "        shutil.rmtree(main_folder)\n",
    "    for label in labels:\n",
    "        folder = Path(main_folder) / f\"label_{beat}_beat/\"\n",
    "        Path(folder / label).mkdir(parents=True, exist_ok=True)\n",
    "    return folder"
   ]
  },
  {
   "cell_type": "code",
   "execution_count": 107,
   "id": "cardiac-isolation",
   "metadata": {
    "execution": {
     "iopub.execute_input": "2021-02-20T12:57:31.091576Z",
     "iopub.status.busy": "2021-02-20T12:57:31.091133Z",
     "iopub.status.idle": "2021-02-20T12:57:31.098991Z",
     "shell.execute_reply": "2021-02-20T12:57:31.097819Z",
     "shell.execute_reply.started": "2021-02-20T12:57:31.091525Z"
    },
    "tags": []
   },
   "outputs": [],
   "source": [
    "def deprocess(image):\n",
    "    transform = transforms.Compose([\n",
    "        transforms.Normalize(mean=[0, 0, 0], std=[4.3668, 4.4643, 4.4444]),\n",
    "        transforms.Normalize(mean=[-0.485, -0.456, -0.406], std=[1, 1, 1]),\n",
    "        transforms.ToPILImage(),\n",
    "    ])\n",
    "    return transform(image)\n",
    "\n",
    "def show_img(PIL_IMG):\n",
    "    plt.imshow(np.asarray(PIL_IMG))"
   ]
  },
  {
   "cell_type": "code",
   "execution_count": 113,
   "id": "working-preview",
   "metadata": {
    "execution": {
     "iopub.execute_input": "2021-02-20T12:57:55.647301Z",
     "iopub.status.busy": "2021-02-20T12:57:55.646814Z",
     "iopub.status.idle": "2021-02-20T12:57:55.658540Z",
     "shell.execute_reply": "2021-02-20T12:57:55.657776Z",
     "shell.execute_reply.started": "2021-02-20T12:57:55.647237Z"
    },
    "tags": []
   },
   "outputs": [],
   "source": [
    "def saliency_maps(model, data, main_folder, n_batches=None):\n",
    "    classes = data[\"test\"].dataset.classes\n",
    "    i = 0\n",
    "    for inputs, labels in data['test']:\n",
    "        inputs = inputs.to(0)\n",
    "        labels = labels.to(0)\n",
    "        x = inputs\n",
    "        x.requires_grad_();\n",
    "        scores = model(x)\n",
    "        score_max_index = scores.argmax(dim=1)\n",
    "        score_max = scores[:, score_max_index]\n",
    "        score_max.backward(torch.ones_like(score_max))\n",
    "        saliency, _ = torch.max(x.grad.data.abs(),dim=1)\n",
    "\n",
    "        for index in range(len(saliency)):\n",
    "            plt.figure()\n",
    "            img1 = plt.imshow(saliency[index].cpu().numpy(), cmap=plt.cm.hot, alpha=.7);\n",
    "            img2 = plt.imshow(deprocess(x[index].cpu()), alpha=.4);\n",
    "            plt.axis('off')\n",
    "            \n",
    "            label = classes[labels[index]]\n",
    "                \n",
    "            plt.savefig(str(main_folder / f\"{label}/{i}_{index}.png\"))\n",
    "            plt.close()\n",
    "            \n",
    "        if n_batches:\n",
    "            if i + 1 == n_batches:\n",
    "                break\n",
    "        i += 1"
   ]
  },
  {
   "cell_type": "code",
   "execution_count": 114,
   "id": "international-laugh",
   "metadata": {
    "execution": {
     "iopub.execute_input": "2021-02-20T12:57:56.152460Z",
     "iopub.status.busy": "2021-02-20T12:57:56.151563Z",
     "iopub.status.idle": "2021-02-20T12:57:56.159569Z",
     "shell.execute_reply": "2021-02-20T12:57:56.158144Z",
     "shell.execute_reply.started": "2021-02-20T12:57:56.152399Z"
    },
    "tags": []
   },
   "outputs": [],
   "source": [
    "def create_saliency_maps_one_heartbeat(data_path, models_main_path, model_name, beat, saliency_maps_path, nr_egs):\n",
    "    data_prep = DataPreparation(str(data_path))\n",
    "    data, size = data_prep.create_dataloaders(16, False, 4)\n",
    "    model_path = models_main_path / f\"label_{beat}/{model_name}.pth\"\n",
    "    model = torch.load(model_path)\n",
    "    model.eval();\n",
    "    saliency_maps(model, data, saliency_maps_path, nr_egs)"
   ]
  },
  {
   "cell_type": "markdown",
   "id": "charming-adelaide",
   "metadata": {},
   "source": [
    "----------------------------------------------------------------"
   ]
  },
  {
   "cell_type": "markdown",
   "id": "broad-bangladesh",
   "metadata": {},
   "source": [
    "## Configuration and run methods!"
   ]
  },
  {
   "cell_type": "code",
   "execution_count": 115,
   "id": "demanding-detroit",
   "metadata": {
    "execution": {
     "iopub.execute_input": "2021-02-20T12:57:56.980818Z",
     "iopub.status.busy": "2021-02-20T12:57:56.980090Z",
     "iopub.status.idle": "2021-02-20T12:57:56.989470Z",
     "shell.execute_reply": "2021-02-20T12:57:56.988090Z",
     "shell.execute_reply.started": "2021-02-20T12:57:56.980732Z"
    },
    "tags": []
   },
   "outputs": [],
   "source": [
    "with open(\"../config.json\") as f:\n",
    "    config_data = json.load(f)\n",
    "    f.close()"
   ]
  },
  {
   "cell_type": "code",
   "execution_count": 118,
   "id": "weekly-requirement",
   "metadata": {
    "execution": {
     "iopub.execute_input": "2021-02-20T12:58:28.283957Z",
     "iopub.status.busy": "2021-02-20T12:58:28.283068Z",
     "iopub.status.idle": "2021-02-20T12:58:28.292933Z",
     "shell.execute_reply": "2021-02-20T12:58:28.291595Z",
     "shell.execute_reply.started": "2021-02-20T12:58:28.283850Z"
    },
    "tags": []
   },
   "outputs": [],
   "source": [
    "HEARTBEAT = \"initial\"\n",
    "MAP_DIR = \"../attribution_maps/saliency_maps\"\n",
    "DELETE_PRIOR_DIR = True\n",
    "TEST_DATA_PATH = Path(f'../data/figures_{HEARTBEAT}/test')\n",
    "MODELS_PATH = Path(f\"../models\")\n",
    "MODEL_NAME = \"resnet50_d_19_t_16_46\"\n",
    "NR_BATCHES = 1"
   ]
  },
  {
   "cell_type": "code",
   "execution_count": 119,
   "id": "olympic-architect",
   "metadata": {
    "execution": {
     "iopub.execute_input": "2021-02-20T12:58:29.115581Z",
     "iopub.status.busy": "2021-02-20T12:58:29.114965Z",
     "iopub.status.idle": "2021-02-20T12:58:30.756243Z",
     "shell.execute_reply": "2021-02-20T12:58:30.755724Z",
     "shell.execute_reply.started": "2021-02-20T12:58:29.115508Z"
    },
    "tags": []
   },
   "outputs": [],
   "source": [
    "saliency_folder = create_maps_folders(MAP_DIR, HEARTBEAT, config_data['labels_bin'], DELETE_PRIOR_DIR)\n",
    "create_saliency_maps_one_heartbeat(TEST_DATA_PATH, MODELS_PATH, MODEL_NAME, HEARTBEAT, saliency_folder, NR_BATCHES)"
   ]
  },
  {
   "cell_type": "code",
   "execution_count": null,
   "id": "bright-cuisine",
   "metadata": {},
   "outputs": [],
   "source": []
  }
 ],
 "metadata": {
  "kernelspec": {
   "display_name": "Python 3",
   "language": "python",
   "name": "python3"
  },
  "language_info": {
   "codemirror_mode": {
    "name": "ipython",
    "version": 3
   },
   "file_extension": ".py",
   "mimetype": "text/x-python",
   "name": "python",
   "nbconvert_exporter": "python",
   "pygments_lexer": "ipython3",
   "version": "3.8.5"
  }
 },
 "nbformat": 4,
 "nbformat_minor": 5
}
